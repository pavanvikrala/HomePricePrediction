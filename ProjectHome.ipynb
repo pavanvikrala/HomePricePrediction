{
 "cells": [
  {
   "cell_type": "markdown",
   "id": "e4b5dac0",
   "metadata": {},
   "source": [
    "# *Predicting Home Price using various factors*"
   ]
  },
  {
   "cell_type": "markdown",
   "id": "1213d6ff",
   "metadata": {},
   "source": [
    "#### Our Goal is to find information or data about the factors that affect the prices of homes in the United States and knowing how these factors have influenced home prices over the past 20 years (2000 - 2020)."
   ]
  },
  {
   "cell_type": "code",
   "execution_count": 1,
   "id": "29f9a4b4",
   "metadata": {},
   "outputs": [
    {
     "data": {
      "text/{
 "cells": [
  {
   "cell_type": "markdown",
   "id": "e4b5dac0",
   "metadata": {},
   "source": [
    "# *Predicting Home Price using various factors*"
   ]
  },
  {
   "cell_type": "markdown",
   "id": "339e5897",
   "metadata": {},
   "source": [
    "#### Our Goal is to find information or data about the factors that affect the prices of homes in the United States and knowing how these factors have influenced home prices over the past 20 years (2000 - 2020)."
   ]
  },
  {
   "cell_type": "code",
   "execution_count": 1,
   "id": "29f9a4b4",
   "metadata": {},
   "outputs": [
    {
     "data": {
      "text/plain": [
       "'C:\\\\Users\\\\pavan'"
      ]
     },
     "execution_count": 1,
     "metadata": {},
     "output_type": "execute_result"
    }
   ],
   "source": [
    "import os\n",
    "os.getcwd()"
   ]
  },
  {
   "cell_type": "code",
   "execution_count": 2,
   "id": "712305f2",
   "metadata": {},
   "outputs": [],
   "source": [
    "# Changing the directory where all the downloaded data is present\n",
    "\n",
    "os.chdir(\"C:/Users/pavan/HomeProjectFiles\")"
   ]
  },
  {
   "cell_type": "code",
   "execution_count": 3,
   "id": "71646e59",
   "metadata": {},
   "outputs": [],
   "source": [
    "# Setting up the target variable which is \"Home Price Index(HPI)\".\n",
    "# This was taken from \"S&P Case-Schiller Home Price Index\" : fred.stlouisfed.org/series/CSUSHPISA\n",
    "\n",
    "import pandas as pd\n",
    "\n",
    "# Using Pandas, read the HPI csv file and rename with the relevant names\n",
    "\n",
    "y_monthly = pd.read_csv(\"Home_Price_Index.csv\", parse_dates=True, \n",
    "                        index_col=0).rename(columns={'DATE':'Period', 'CSUSHPISA':'HPI'})"
   ]
  },
  {
   "cell_type": "code",
   "execution_count": 4,
   "id": "76caf499",
   "metadata": {},
   "outputs": [
    {
     "name": "stdout",
     "output_type": "stream",
     "text": [
      "<class 'pandas.core.frame.DataFrame'>\n",
      "DatetimeIndex: 250 entries, 2000-01-01 to 2020-10-01\n",
      "Data columns (total 1 columns):\n",
      " #   Column  Non-Null Count  Dtype  \n",
      "---  ------  --------------  -----  \n",
      " 0   HPI     250 non-null    float64\n",
      "dtypes: float64(1)\n",
      "memory usage: 3.9 KB\n"
     ]
    }
   ],
   "source": [
    "y_monthly.info()"
   ]
  },
  {
   "cell_type": "code",
   "execution_count": 5,
   "id": "fcb87a49",
   "metadata": {},
   "outputs": [],
   "source": [
    "# Rounding the HPI to two decimal digits\n",
    "\n",
    "y_monthly[\"HPI\"] = y_monthly[\"HPI\"].round(2)"
   ]
  },
  {
   "cell_type": "code",
   "execution_count": 6,
   "id": "65c436e2",
   "metadata": {},
   "outputs": [
    {
     "data": {
      "text/html": [
       "<div>\n",
       "<style scoped>\n",
       "    .dataframe tbody tr th:only-of-type {\n",
       "        vertical-align: middle;\n",
       "    }\n",
       "\n",
       "    .dataframe tbody tr th {\n",
       "        vertical-align: top;\n",
       "    }\n",
       "\n",
       "    .dataframe thead th {\n",
       "        text-align: right;\n",
       "    }\n",
       "</style>\n",
       "<table border=\"1\" class=\"dataframe\">\n",
       "  <thead>\n",
       "    <tr style=\"text-align: right;\">\n",
       "      <th></th>\n",
       "      <th>HPI</th>\n",
       "    </tr>\n",
       "    <tr>\n",
       "      <th>DATE</th>\n",
       "      <th></th>\n",
       "    </tr>\n",
       "  </thead>\n",
       "  <tbody>\n",
       "    <tr>\n",
       "      <th>2000-01-01</th>\n",
       "      <td>100.55</td>\n",
       "    </tr>\n",
       "    <tr>\n",
       "      <th>2000-02-01</th>\n",
       "      <td>101.34</td>\n",
       "    </tr>\n",
       "    <tr>\n",
       "      <th>2000-03-01</th>\n",
       "      <td>102.13</td>\n",
       "    </tr>\n",
       "    <tr>\n",
       "      <th>2000-04-01</th>\n",
       "      <td>102.92</td>\n",
       "    </tr>\n",
       "    <tr>\n",
       "      <th>2000-05-01</th>\n",
       "      <td>103.68</td>\n",
       "    </tr>\n",
       "  </tbody>\n",
       "</table>\n",
       "</div>"
      ],
      "text/plain": [
       "               HPI\n",
       "DATE              \n",
       "2000-01-01  100.55\n",
       "2000-02-01  101.34\n",
       "2000-03-01  102.13\n",
       "2000-04-01  102.92\n",
       "2000-05-01  103.68"
      ]
     },
     "execution_count": 6,
     "metadata": {},
     "output_type": "execute_result"
    }
   ],
   "source": [
    "# View the first five rows\n",
    "\n",
    "y_monthly.head()"
   ]
  },
  {
   "cell_type": "markdown",
   "id": "fd9486d6",
   "metadata": {},
   "source": [
    "### Reseached a list of supply and demand factors that typically affect home prices in USA. These include :\n",
    "\n",
    "####   a. Homes for sale                                       \n",
    "####   b. Homes sold                                               \n",
    "####   c. Federal Funds Rate  \n",
    "####   d. Personal Savings\n",
    "####   e. Disposable Personal Income\n",
    "####   f.  Personal Consumption\n",
    "####   g. Housing Starts\n",
    "####   f.  Mortgage Rates\n",
    "####   g. Months of Supply\n",
    "####   h. Unemployment\n",
    "####   i.  USA GDP\n",
    "####   j.  Construction Spending\n",
    "####   k. Building Permits(Number)\n",
    "####   l.  Permit Valuation\n"
   ]
  },
  {
   "cell_type": "markdown",
   "id": "f250be38",
   "metadata": {},
   "source": [
    "## *Grabbing \"Homes for sale\" data*"
   ]
  },
  {
   "cell_type": "code",
   "execution_count": 7,
   "id": "b7c7fbf6",
   "metadata": {},
   "outputs": [],
   "source": [
    "# Source : U.S. Census Bureau\n",
    "\n",
    "home_sale = pd.read_csv(\"Home_for_Sale.csv\")[46:68].rename(\n",
    "            columns = {\"Houses For Sale by Region\": \"Period\" , \"Unnamed: 1\": \"Homes for Sale\"}).reset_index(drop=True).drop(\n",
    "            columns=['Unnamed: 2', 'Unnamed: 3', 'Unnamed: 4', 'Unnamed: 5'])"
   ]
  },
  {
   "cell_type": "code",
   "execution_count": 8,
   "id": "de337de3",
   "metadata": {},
   "outputs": [
    {
     "data": {
      "text/html": [
       "<div>\n",
       "<style scoped>\n",
       "    .dataframe tbody tr th:only-of-type {\n",
       "        vertical-align: middle;\n",
       "    }\n",
       "\n",
       "    .dataframe tbody tr th {\n",
       "        vertical-align: top;\n",
       "    }\n",
       "\n",
       "    .dataframe thead th {\n",
       "        text-align: right;\n",
       "    }\n",
       "</style>\n",
       "<table border=\"1\" class=\"dataframe\">\n",
       "  <thead>\n",
       "    <tr style=\"text-align: right;\">\n",
       "      <th></th>\n",
       "      <th>Period</th>\n",
       "      <th>Homes for Sale</th>\n",
       "    </tr>\n",
       "  </thead>\n",
       "  <tbody>\n",
       "    <tr>\n",
       "      <th>0</th>\n",
       "      <td>2000</td>\n",
       "      <td>301</td>\n",
       "    </tr>\n",
       "    <tr>\n",
       "      <th>1</th>\n",
       "      <td>2001</td>\n",
       "      <td>310</td>\n",
       "    </tr>\n",
       "    <tr>\n",
       "      <th>2</th>\n",
       "      <td>2002</td>\n",
       "      <td>344</td>\n",
       "    </tr>\n",
       "    <tr>\n",
       "      <th>3</th>\n",
       "      <td>2003</td>\n",
       "      <td>377</td>\n",
       "    </tr>\n",
       "    <tr>\n",
       "      <th>4</th>\n",
       "      <td>2004</td>\n",
       "      <td>431</td>\n",
       "    </tr>\n",
       "  </tbody>\n",
       "</table>\n",
       "</div>"
      ],
      "text/plain": [
       "  Period Homes for Sale\n",
       "0   2000            301\n",
       "1   2001            310\n",
       "2   2002            344\n",
       "3   2003            377\n",
       "4   2004            431"
      ]
     },
     "execution_count": 8,
     "metadata": {},
     "output_type": "execute_result"
    }
   ],
   "source": [
    "home_sale.head()"
   ]
  },
  {
   "cell_type": "code",
   "execution_count": 9,
   "id": "1e101638",
   "metadata": {},
   "outputs": [
    {
     "name": "stdout",
     "output_type": "stream",
     "text": [
      "<class 'pandas.core.frame.DataFrame'>\n",
      "RangeIndex: 22 entries, 0 to 21\n",
      "Data columns (total 2 columns):\n",
      " #   Column          Non-Null Count  Dtype \n",
      "---  ------          --------------  ----- \n",
      " 0   Period          22 non-null     object\n",
      " 1   Homes for Sale  22 non-null     object\n",
      "dtypes: object(2)\n",
      "memory usage: 484.0+ bytes\n"
     ]
    }
   ],
   "source": [
    "home_sale.info()"
   ]
  },
  {
   "cell_type": "code",
   "execution_count": 10,
   "id": "b8c8e36e",
   "metadata": {},
   "outputs": [],
   "source": [
    "# Converting the \"Period\" column to Python's datetime form and \"Homes for Sale\" column to int\n",
    "\n",
    "home_sale[\"Period\"] = pd.to_datetime(home_sale['Period'], format='%Y')\n",
    "home_sale[\"Homes for Sale\"] = home_sale[\"Homes for Sale\"].astype(int)"
   ]
  },
  {
   "cell_type": "code",
   "execution_count": 11,
   "id": "1473e1e7",
   "metadata": {},
   "outputs": [
    {
     "name": "stdout",
     "output_type": "stream",
     "text": [
      "<class 'pandas.core.frame.DataFrame'>\n",
      "RangeIndex: 22 entries, 0 to 21\n",
      "Data columns (total 2 columns):\n",
      " #   Column          Non-Null Count  Dtype         \n",
      "---  ------          --------------  -----         \n",
      " 0   Period          22 non-null     datetime64[ns]\n",
      " 1   Homes for Sale  22 non-null     int32         \n",
      "dtypes: datetime64[ns](1), int32(1)\n",
      "memory usage: 396.0 bytes\n"
     ]
    }
   ],
   "source": [
    "# Successfully changed the dtypes of columns\n",
    "\n",
    "home_sale.info()"
   ]
  },
  {
   "cell_type": "code",
   "execution_count": 12,
   "id": "4476386c",
   "metadata": {},
   "outputs": [],
   "source": [
    "# Set 'Period' as the index\n",
    "\n",
    "home_sale.set_index('Period', inplace=True)\n",
    "\n",
    "# Up-sampling the annual data to Monthly\n",
    "\n",
    "home_sale = home_sale.resample('MS').mean().round()\n"
   ]
  },
  {
   "cell_type": "code",
   "execution_count": 13,
   "id": "f09f4769",
   "metadata": {},
   "outputs": [
    {
     "data": {
      "text/html": [
       "<div>\n",
       "<style scoped>\n",
       "    .dataframe tbody tr th:only-of-type {\n",
       "        vertical-align: middle;\n",
       "    }\n",
       "\n",
       "    .dataframe tbody tr th {\n",
       "        vertical-align: top;\n",
       "    }\n",
       "\n",
       "    .dataframe thead th {\n",
       "        text-align: right;\n",
       "    }\n",
       "</style>\n",
       "<table border=\"1\" class=\"dataframe\">\n",
       "  <thead>\n",
       "    <tr style=\"text-align: right;\">\n",
       "      <th></th>\n",
       "      <th>Homes for Sale</th>\n",
       "    </tr>\n",
       "    <tr>\n",
       "      <th>Period</th>\n",
       "      <th></th>\n",
       "    </tr>\n",
       "  </thead>\n",
       "  <tbody>\n",
       "    <tr>\n",
       "      <th>2000-01-01</th>\n",
       "      <td>301.0</td>\n",
       "    </tr>\n",
       "    <tr>\n",
       "      <th>2000-02-01</th>\n",
       "      <td>NaN</td>\n",
       "    </tr>\n",
       "    <tr>\n",
       "      <th>2000-03-01</th>\n",
       "      <td>NaN</td>\n",
       "    </tr>\n",
       "    <tr>\n",
       "      <th>2000-04-01</th>\n",
       "      <td>NaN</td>\n",
       "    </tr>\n",
       "    <tr>\n",
       "      <th>2000-05-01</th>\n",
       "      <td>NaN</td>\n",
       "    </tr>\n",
       "  </tbody>\n",
       "</table>\n",
       "</div>"
      ],
      "text/plain": [
       "            Homes for Sale\n",
       "Period                    \n",
       "2000-01-01           301.0\n",
       "2000-02-01             NaN\n",
       "2000-03-01             NaN\n",
       "2000-04-01             NaN\n",
       "2000-05-01             NaN"
      ]
     },
     "execution_count": 13,
     "metadata": {},
     "output_type": "execute_result"
    }
   ],
   "source": [
    "# The output shows a few samples of the dataframe which is \"upsampled\" from Year to Month with NaN values. \n",
    "\n",
    "home_sale.head()"
   ]
  },
  {
   "cell_type": "code",
   "execution_count": 14,
   "id": "49d93fa7",
   "metadata": {},
   "outputs": [],
   "source": [
    "# fill nan values using a technique called Interpolation. Using 'linear' method to upsample the values of months linearly.\n",
    "\n",
    "home_sale[\"Homes for Sale\"].interpolate(method='linear', inplace=True)"
   ]
  },
  {
   "cell_type": "code",
   "execution_count": 15,
   "id": "a8b59ad3",
   "metadata": {},
   "outputs": [],
   "source": [
    "home_sale.reset_index(inplace=True)"
   ]
  },
  {
   "cell_type": "code",
   "execution_count": 16,
   "id": "4a453cf8",
   "metadata": {
    "scrolled": true
   },
   "outputs": [],
   "source": [
    "home_sale[\"Homes for Sale\"] = home_sale[\"Homes for Sale\"].astype(int)"
   ]
  },
  {
   "cell_type": "code",
   "execution_count": 17,
   "id": "2aabccc4",
   "metadata": {},
   "outputs": [],
   "source": [
    "home_sale.drop(home_sale.tail(3).index,inplace = True)"
   ]
  },
  {
   "cell_type": "code",
   "execution_count": 18,
   "id": "c0380e37",
   "metadata": {},
   "outputs": [
    {
     "data": {
      "text/html": [
       "<div>\n",
       "<style scoped>\n",
       "    .dataframe tbody tr th:only-of-type {\n",
       "        vertical-align: middle;\n",
       "    }\n",
       "\n",
       "    .dataframe tbody tr th {\n",
       "        vertical-align: top;\n",
       "    }\n",
       "\n",
       "    .dataframe thead th {\n",
       "        text-align: right;\n",
       "    }\n",
       "</style>\n",
       "<table border=\"1\" class=\"dataframe\">\n",
       "  <thead>\n",
       "    <tr style=\"text-align: right;\">\n",
       "      <th></th>\n",
       "      <th>Period</th>\n",
       "      <th>Homes for Sale</th>\n",
       "    </tr>\n",
       "  </thead>\n",
       "  <tbody>\n",
       "    <tr>\n",
       "      <th>0</th>\n",
       "      <td>2000-01-01</td>\n",
       "      <td>301</td>\n",
       "    </tr>\n",
       "    <tr>\n",
       "      <th>1</th>\n",
       "      <td>2000-02-01</td>\n",
       "      <td>301</td>\n",
       "    </tr>\n",
       "    <tr>\n",
       "      <th>2</th>\n",
       "      <td>2000-03-01</td>\n",
       "      <td>302</td>\n",
       "    </tr>\n",
       "    <tr>\n",
       "      <th>3</th>\n",
       "      <td>2000-04-01</td>\n",
       "      <td>303</td>\n",
       "    </tr>\n",
       "    <tr>\n",
       "      <th>4</th>\n",
       "      <td>2000-05-01</td>\n",
       "      <td>304</td>\n",
       "    </tr>\n",
       "    <tr>\n",
       "      <th>5</th>\n",
       "      <td>2000-06-01</td>\n",
       "      <td>304</td>\n",
       "    </tr>\n",
       "    <tr>\n",
       "      <th>6</th>\n",
       "      <td>2000-07-01</td>\n",
       "      <td>305</td>\n",
       "    </tr>\n",
       "    <tr>\n",
       "      <th>7</th>\n",
       "      <td>2000-08-01</td>\n",
       "      <td>306</td>\n",
       "    </tr>\n",
       "    <tr>\n",
       "      <th>8</th>\n",
       "      <td>2000-09-01</td>\n",
       "      <td>307</td>\n",
       "    </tr>\n",
       "    <tr>\n",
       "      <th>9</th>\n",
       "      <td>2000-10-01</td>\n",
       "      <td>307</td>\n",
       "    </tr>\n",
       "  </tbody>\n",
       "</table>\n",
       "</div>"
      ],
      "text/plain": [
       "      Period  Homes for Sale\n",
       "0 2000-01-01             301\n",
       "1 2000-02-01             301\n",
       "2 2000-03-01             302\n",
       "3 2000-04-01             303\n",
       "4 2000-05-01             304\n",
       "5 2000-06-01             304\n",
       "6 2000-07-01             305\n",
       "7 2000-08-01             306\n",
       "8 2000-09-01             307\n",
       "9 2000-10-01             307"
      ]
     },
     "execution_count": 18,
     "metadata": {},
     "output_type": "execute_result"
    }
   ],
   "source": [
    "# Sample of interpolated values \n",
    "\n",
    "home_sale.head(10)"
   ]
  },
  {
   "cell_type": "markdown",
   "id": "a98c4678",
   "metadata": {},
   "source": [
    "## *\"Homes sold\" data*"
   ]
  },
  {
   "cell_type": "code",
   "execution_count": 19,
   "id": "ce5c9b12",
   "metadata": {},
   "outputs": [],
   "source": [
    "homes_sold = pd.read_csv(\"homes_sold.csv\")[45:67].rename(columns = \n",
    "                                                         {\"Houses Sold by Region\": \"Period\" , \"Unnamed: 1\": \"Homes Sold\"}\n",
    "                                                        ).reset_index(drop=True).drop(columns=[\n",
    "                                                                    'Unnamed: 2', 'Unnamed: 3', 'Unnamed: 4', 'Unnamed: 5'])"
   ]
  },
  {
   "cell_type": "code",
   "execution_count": 20,
   "id": "bd36a903",
   "metadata": {},
   "outputs": [
    {
     "name": "stdout",
     "output_type": "stream",
     "text": [
      "<class 'pandas.core.frame.DataFrame'>\n",
      "RangeIndex: 22 entries, 0 to 21\n",
      "Data columns (total 2 columns):\n",
      " #   Column      Non-Null Count  Dtype \n",
      "---  ------      --------------  ----- \n",
      " 0   Period      22 non-null     object\n",
      " 1   Homes Sold  22 non-null     object\n",
      "dtypes: object(2)\n",
      "memory usage: 484.0+ bytes\n"
     ]
    }
   ],
   "source": [
    "homes_sold.info()"
   ]
  },
  {
   "cell_type": "code",
   "execution_count": 21,
   "id": "4b4f2f9a",
   "metadata": {},
   "outputs": [],
   "source": [
    "# Converting Period column to Python datetime form\n",
    "\n",
    "homes_sold[\"Period\"] = pd.to_datetime(homes_sold['Period'], format='%Y')\n",
    "\n",
    "# Converting \"Homes Sold\" column to int \n",
    "\n",
    "homes_sold[\"Homes Sold\"] = homes_sold['Homes Sold'].str.replace(',', '').astype(float).astype(int)"
   ]
  },
  {
   "cell_type": "code",
   "execution_count": 22,
   "id": "78e54271",
   "metadata": {},
   "outputs": [],
   "source": [
    "# Set 'Period' as the index\n",
    "\n",
    "homes_sold.set_index('Period', inplace=True)\n",
    "\n",
    "# Up-sampling the annual data to Monthly\n",
    "\n",
    "homes_sold = homes_sold.resample('MS').mean().round()\n"
   ]
  },
  {
   "cell_type": "code",
   "execution_count": 23,
   "id": "248e7cb8",
   "metadata": {},
   "outputs": [],
   "source": [
    "# fill nan values using a technique called Interpolation. Using 'linear' method to upsample the values of months linearly.\n",
    "\n",
    "homes_sold[\"Homes Sold\"].interpolate(method='linear', inplace=True)"
   ]
  },
  {
   "cell_type": "code",
   "execution_count": 24,
   "id": "27a7cb93",
   "metadata": {},
   "outputs": [],
   "source": [
    "homes_sold.reset_index(inplace=True)"
   ]
  },
  {
   "cell_type": "code",
   "execution_count": 25,
   "id": "309e4d9b",
   "metadata": {},
   "outputs": [],
   "source": [
    "homes_sold[\"Homes Sold\"] = homes_sold[\"Homes Sold\"].astype(int)"
   ]
  },
  {
   "cell_type": "code",
   "execution_count": 26,
   "id": "3545ed21",
   "metadata": {},
   "outputs": [],
   "source": [
    "homes_sold.drop(homes_sold.tail(3).index,inplace = True)"
   ]
  },
  {
   "cell_type": "code",
   "execution_count": 27,
   "id": "fe88b37e",
   "metadata": {},
   "outputs": [
    {
     "data": {
      "text/html": [
       "<div>\n",
       "<style scoped>\n",
       "    .dataframe tbody tr th:only-of-type {\n",
       "        vertical-align: middle;\n",
       "    }\n",
       "\n",
       "    .dataframe tbody tr th {\n",
       "        vertical-align: top;\n",
       "    }\n",
       "\n",
       "    .dataframe thead th {\n",
       "        text-align: right;\n",
       "    }\n",
       "</style>\n",
       "<table border=\"1\" class=\"dataframe\">\n",
       "  <thead>\n",
       "    <tr style=\"text-align: right;\">\n",
       "      <th></th>\n",
       "      <th>Period</th>\n",
       "      <th>Homes Sold</th>\n",
       "    </tr>\n",
       "  </thead>\n",
       "  <tbody>\n",
       "    <tr>\n",
       "      <th>0</th>\n",
       "      <td>2000-01-01</td>\n",
       "      <td>877</td>\n",
       "    </tr>\n",
       "    <tr>\n",
       "      <th>1</th>\n",
       "      <td>2000-02-01</td>\n",
       "      <td>879</td>\n",
       "    </tr>\n",
       "    <tr>\n",
       "      <th>2</th>\n",
       "      <td>2000-03-01</td>\n",
       "      <td>882</td>\n",
       "    </tr>\n",
       "    <tr>\n",
       "      <th>3</th>\n",
       "      <td>2000-04-01</td>\n",
       "      <td>884</td>\n",
       "    </tr>\n",
       "    <tr>\n",
       "      <th>4</th>\n",
       "      <td>2000-05-01</td>\n",
       "      <td>887</td>\n",
       "    </tr>\n",
       "    <tr>\n",
       "      <th>5</th>\n",
       "      <td>2000-06-01</td>\n",
       "      <td>889</td>\n",
       "    </tr>\n",
       "    <tr>\n",
       "      <th>6</th>\n",
       "      <td>2000-07-01</td>\n",
       "      <td>892</td>\n",
       "    </tr>\n",
       "    <tr>\n",
       "      <th>7</th>\n",
       "      <td>2000-08-01</td>\n",
       "      <td>895</td>\n",
       "    </tr>\n",
       "    <tr>\n",
       "      <th>8</th>\n",
       "      <td>2000-09-01</td>\n",
       "      <td>897</td>\n",
       "    </tr>\n",
       "    <tr>\n",
       "      <th>9</th>\n",
       "      <td>2000-10-01</td>\n",
       "      <td>900</td>\n",
       "    </tr>\n",
       "  </tbody>\n",
       "</table>\n",
       "</div>"
      ],
      "text/plain": [
       "      Period  Homes Sold\n",
       "0 2000-01-01         877\n",
       "1 2000-02-01         879\n",
       "2 2000-03-01         882\n",
       "3 2000-04-01         884\n",
       "4 2000-05-01         887\n",
       "5 2000-06-01         889\n",
       "6 2000-07-01         892\n",
       "7 2000-08-01         895\n",
       "8 2000-09-01         897\n",
       "9 2000-10-01         900"
      ]
     },
     "execution_count": 27,
     "metadata": {},
     "output_type": "execute_result"
    }
   ],
   "source": [
    "homes_sold.head(10)"
   ]
  },
  {
   "cell_type": "markdown",
   "id": "dc5ea010",
   "metadata": {},
   "source": [
    "## *Federal Funds Rate*"
   ]
  },
  {
   "cell_type": "code",
   "execution_count": 28,
   "id": "95ad49f1",
   "metadata": {},
   "outputs": [],
   "source": [
    "# Source :  Federal Reserve Economic Data (FRED) database\n",
    "\n",
    "feds = pd.read_csv(\"Federal_Funds.csv\").rename(columns = {\"DATE\": \"Period\", \"DFF\": \"Fed Funds Rate\"})"
   ]
  },
  {
   "cell_type": "code",
   "execution_count": 29,
   "id": "b4b350fc",
   "metadata": {},
   "outputs": [
    {
     "data": {
      "text/html": [
       "<div>\n",
       "<style scoped>\n",
       "    .dataframe tbody tr th:only-of-type {\n",
       "        vertical-align: middle;\n",
       "    }\n",
       "\n",
       "    .dataframe tbody tr th {\n",
       "        vertical-align: top;\n",
       "    }\n",
       "\n",
       "    .dataframe thead th {\n",
       "        text-align: right;\n",
       "    }\n",
       "</style>\n",
       "<table border=\"1\" class=\"dataframe\">\n",
       "  <thead>\n",
       "    <tr style=\"text-align: right;\">\n",
       "      <th></th>\n",
       "      <th>Period</th>\n",
       "      <th>Fed Funds Rate</th>\n",
       "    </tr>\n",
       "  </thead>\n",
       "  <tbody>\n",
       "    <tr>\n",
       "      <th>0</th>\n",
       "      <td>2000-01-01</td>\n",
       "      <td>3.99</td>\n",
       "    </tr>\n",
       "    <tr>\n",
       "      <th>1</th>\n",
       "      <td>2000-01-02</td>\n",
       "      <td>3.99</td>\n",
       "    </tr>\n",
       "    <tr>\n",
       "      <th>2</th>\n",
       "      <td>2000-01-03</td>\n",
       "      <td>5.43</td>\n",
       "    </tr>\n",
       "  </tbody>\n",
       "</table>\n",
       "</div>"
      ],
      "text/plain": [
       "       Period  Fed Funds Rate\n",
       "0  2000-01-01            3.99\n",
       "1  2000-01-02            3.99\n",
       "2  2000-01-03            5.43"
      ]
     },
     "execution_count": 29,
     "metadata": {},
     "output_type": "execute_result"
    }
   ],
   "source": [
    "feds.head(3)"
   ]
  },
  {
   "cell_type": "code",
   "execution_count": 30,
   "id": "99838a8f",
   "metadata": {},
   "outputs": [],
   "source": [
    "feds[\"Period\"] = pd.to_datetime(feds[\"Period\"])"
   ]
  },
  {
   "cell_type": "code",
   "execution_count": 31,
   "id": "04385e1e",
   "metadata": {},
   "outputs": [
    {
     "name": "stdout",
     "output_type": "stream",
     "text": [
      "<class 'pandas.core.frame.DataFrame'>\n",
      "RangeIndex: 7581 entries, 0 to 7580\n",
      "Data columns (total 2 columns):\n",
      " #   Column          Non-Null Count  Dtype         \n",
      "---  ------          --------------  -----         \n",
      " 0   Period          7581 non-null   datetime64[ns]\n",
      " 1   Fed Funds Rate  7581 non-null   float64       \n",
      "dtypes: datetime64[ns](1), float64(1)\n",
      "memory usage: 118.6 KB\n"
     ]
    }
   ],
   "source": [
    "feds.info()"
   ]
  },
  {
   "cell_type": "code",
   "execution_count": 32,
   "id": "64382378",
   "metadata": {},
   "outputs": [],
   "source": [
    "# Set 'Period' as the index\n",
    "\n",
    "feds.set_index('Period', inplace=True)\n",
    "\n",
    "# Upsampling \n",
    "\n",
    "feds = feds.resample('MS').mean()\n"
   ]
  },
  {
   "cell_type": "code",
   "execution_count": 33,
   "id": "4965e2bd",
   "metadata": {},
   "outputs": [],
   "source": [
    "# Interpolation \n",
    "\n",
    "feds[\"Fed Funds Rate\"].interpolate(method='linear', inplace=True)"
   ]
  },
  {
   "cell_type": "code",
   "execution_count": 34,
   "id": "97b3198c",
   "metadata": {},
   "outputs": [],
   "source": [
    "feds.reset_index(inplace=True)"
   ]
  },
  {
   "cell_type": "code",
   "execution_count": 35,
   "id": "47dbdb52",
   "metadata": {},
   "outputs": [],
   "source": [
    "feds[\"Fed Funds Rate\"] = feds[\"Fed Funds Rate\"].round(2)"
   ]
  },
  {
   "cell_type": "code",
   "execution_count": 36,
   "id": "cc154740",
   "metadata": {},
   "outputs": [
    {
     "data": {
      "text/html": [
       "<div>\n",
       "<style scoped>\n",
       "    .dataframe tbody tr th:only-of-type {\n",
       "        vertical-align: middle;\n",
       "    }\n",
       "\n",
       "    .dataframe tbody tr th {\n",
       "        vertical-align: top;\n",
       "    }\n",
       "\n",
       "    .dataframe thead th {\n",
       "        text-align: right;\n",
       "    }\n",
       "</style>\n",
       "<table border=\"1\" class=\"dataframe\">\n",
       "  <thead>\n",
       "    <tr style=\"text-align: right;\">\n",
       "      <th></th>\n",
       "      <th>Period</th>\n",
       "      <th>Fed Funds Rate</th>\n",
       "    </tr>\n",
       "  </thead>\n",
       "  <tbody>\n",
       "    <tr>\n",
       "      <th>0</th>\n",
       "      <td>2000-01-01</td>\n",
       "      <td>5.45</td>\n",
       "    </tr>\n",
       "    <tr>\n",
       "      <th>1</th>\n",
       "      <td>2000-02-01</td>\n",
       "      <td>5.73</td>\n",
       "    </tr>\n",
       "    <tr>\n",
       "      <th>2</th>\n",
       "      <td>2000-03-01</td>\n",
       "      <td>5.85</td>\n",
       "    </tr>\n",
       "    <tr>\n",
       "      <th>3</th>\n",
       "      <td>2000-04-01</td>\n",
       "      <td>6.02</td>\n",
       "    </tr>\n",
       "    <tr>\n",
       "      <th>4</th>\n",
       "      <td>2000-05-01</td>\n",
       "      <td>6.27</td>\n",
       "    </tr>\n",
       "    <tr>\n",
       "      <th>5</th>\n",
       "      <td>2000-06-01</td>\n",
       "      <td>6.53</td>\n",
       "    </tr>\n",
       "    <tr>\n",
       "      <th>6</th>\n",
       "      <td>2000-07-01</td>\n",
       "      <td>6.54</td>\n",
       "    </tr>\n",
       "    <tr>\n",
       "      <th>7</th>\n",
       "      <td>2000-08-01</td>\n",
       "      <td>6.50</td>\n",
       "    </tr>\n",
       "    <tr>\n",
       "      <th>8</th>\n",
       "      <td>2000-09-01</td>\n",
       "      <td>6.52</td>\n",
       "    </tr>\n",
       "    <tr>\n",
       "      <th>9</th>\n",
       "      <td>2000-10-01</td>\n",
       "      <td>6.51</td>\n",
       "    </tr>\n",
       "  </tbody>\n",
       "</table>\n",
       "</div>"
      ],
      "text/plain": [
       "      Period  Fed Funds Rate\n",
       "0 2000-01-01            5.45\n",
       "1 2000-02-01            5.73\n",
       "2 2000-03-01            5.85\n",
       "3 2000-04-01            6.02\n",
       "4 2000-05-01            6.27\n",
       "5 2000-06-01            6.53\n",
       "6 2000-07-01            6.54\n",
       "7 2000-08-01            6.50\n",
       "8 2000-09-01            6.52\n",
       "9 2000-10-01            6.51"
      ]
     },
     "execution_count": 36,
     "metadata": {},
     "output_type": "execute_result"
    }
   ],
   "source": [
    "feds.head(10)"
   ]
  },
  {
   "cell_type": "markdown",
   "id": "ea10c63a",
   "metadata": {},
   "source": [
    "## *Personal Savings*"
   ]
  },
  {
   "cell_type": "code",
   "execution_count": 37,
   "id": "e080cbae",
   "metadata": {},
   "outputs": [],
   "source": [
    "# Source :  Federal Reserve Economic Data (FRED) database\n",
    "\n",
    "savings = pd.read_csv(\"Savings.csv\").rename(columns = {\"DATE\": \"Period\", \"PMSAVE\": \"Savings\"})"
   ]
  },
  {
   "cell_type": "code",
   "execution_count": 38,
   "id": "16d85ca3",
   "metadata": {},
   "outputs": [],
   "source": [
    "savings['Period'] = pd.to_datetime(savings['Period'])"
   ]
  },
  {
   "cell_type": "code",
   "execution_count": 39,
   "id": "ed62eb43",
   "metadata": {},
   "outputs": [
    {
     "data": {
      "text/html": [
       "<div>\n",
       "<style scoped>\n",
       "    .dataframe tbody tr th:only-of-type {\n",
       "        vertical-align: middle;\n",
       "    }\n",
       "\n",
       "    .dataframe tbody tr th {\n",
       "        vertical-align: top;\n",
       "    }\n",
       "\n",
       "    .dataframe thead th {\n",
       "        text-align: right;\n",
       "    }\n",
       "</style>\n",
       "<table border=\"1\" class=\"dataframe\">\n",
       "  <thead>\n",
       "    <tr style=\"text-align: right;\">\n",
       "      <th></th>\n",
       "      <th>Period</th>\n",
       "      <th>Savings</th>\n",
       "    </tr>\n",
       "  </thead>\n",
       "  <tbody>\n",
       "    <tr>\n",
       "      <th>0</th>\n",
       "      <td>2000-01-01</td>\n",
       "      <td>358.9</td>\n",
       "    </tr>\n",
       "    <tr>\n",
       "      <th>1</th>\n",
       "      <td>2000-02-01</td>\n",
       "      <td>324.3</td>\n",
       "    </tr>\n",
       "    <tr>\n",
       "      <th>2</th>\n",
       "      <td>2000-03-01</td>\n",
       "      <td>311.8</td>\n",
       "    </tr>\n",
       "    <tr>\n",
       "      <th>3</th>\n",
       "      <td>2000-04-01</td>\n",
       "      <td>347.8</td>\n",
       "    </tr>\n",
       "    <tr>\n",
       "      <th>4</th>\n",
       "      <td>2000-05-01</td>\n",
       "      <td>351.1</td>\n",
       "    </tr>\n",
       "    <tr>\n",
       "      <th>5</th>\n",
       "      <td>2000-06-01</td>\n",
       "      <td>355.3</td>\n",
       "    </tr>\n",
       "    <tr>\n",
       "      <th>6</th>\n",
       "      <td>2000-07-01</td>\n",
       "      <td>383.8</td>\n",
       "    </tr>\n",
       "    <tr>\n",
       "      <th>7</th>\n",
       "      <td>2000-08-01</td>\n",
       "      <td>389.9</td>\n",
       "    </tr>\n",
       "    <tr>\n",
       "      <th>8</th>\n",
       "      <td>2000-09-01</td>\n",
       "      <td>340.8</td>\n",
       "    </tr>\n",
       "    <tr>\n",
       "      <th>9</th>\n",
       "      <td>2000-10-01</td>\n",
       "      <td>360.3</td>\n",
       "    </tr>\n",
       "  </tbody>\n",
       "</table>\n",
       "</div>"
      ],
      "text/plain": [
       "      Period  Savings\n",
       "0 2000-01-01    358.9\n",
       "1 2000-02-01    324.3\n",
       "2 2000-03-01    311.8\n",
       "3 2000-04-01    347.8\n",
       "4 2000-05-01    351.1\n",
       "5 2000-06-01    355.3\n",
       "6 2000-07-01    383.8\n",
       "7 2000-08-01    389.9\n",
       "8 2000-09-01    340.8\n",
       "9 2000-10-01    360.3"
      ]
     },
     "execution_count": 39,
     "metadata": {},
     "output_type": "execute_result"
    }
   ],
   "source": [
    "savings.head(10)"
   ]
  },
  {
   "cell_type": "markdown",
   "id": "1a642bad",
   "metadata": {},
   "source": [
    "## *Disposable income*"
   ]
  },
  {
   "cell_type": "code",
   "execution_count": 40,
   "id": "d3577fdb",
   "metadata": {},
   "outputs": [],
   "source": [
    "# Source :  Federal Reserve Economic Data (FRED) database\n",
    "\n",
    "income = pd.read_csv(\"Personal_Income.csv\").rename(columns = {\"DATE\": \"Period\", \"DSPIC96\": \"Personal Income\"})"
   ]
  },
  {
   "cell_type": "code",
   "execution_count": 41,
   "id": "05241506",
   "metadata": {},
   "outputs": [],
   "source": [
    "income['Period'] = pd.to_datetime(income['Period'])"
   ]
  },
  {
   "cell_type": "code",
   "execution_count": 42,
   "id": "5767d52a",
   "metadata": {},
   "outputs": [
    {
     "name": "stdout",
     "output_type": "stream",
     "text": [
      "<class 'pandas.core.frame.DataFrame'>\n",
      "RangeIndex: 250 entries, 0 to 249\n",
      "Data columns (total 2 columns):\n",
      " #   Column           Non-Null Count  Dtype         \n",
      "---  ------           --------------  -----         \n",
      " 0   Period           250 non-null    datetime64[ns]\n",
      " 1   Personal Income  250 non-null    float64       \n",
      "dtypes: datetime64[ns](1), float64(1)\n",
      "memory usage: 4.0 KB\n"
     ]
    }
   ],
   "source": [
    "income.info()"
   ]
  },
  {
   "cell_type": "code",
   "execution_count": 43,
   "id": "502e71fc",
   "metadata": {},
   "outputs": [
    {
     "data": {
      "text/html": [
       "<div>\n",
       "<style scoped>\n",
       "    .dataframe tbody tr th:only-of-type {\n",
       "        vertical-align: middle;\n",
       "    }\n",
       "\n",
       "    .dataframe tbody tr th {\n",
       "        vertical-align: top;\n",
       "    }\n",
       "\n",
       "    .dataframe thead th {\n",
       "        text-align: right;\n",
       "    }\n",
       "</style>\n",
       "<table border=\"1\" class=\"dataframe\">\n",
       "  <thead>\n",
       "    <tr style=\"text-align: right;\">\n",
       "      <th></th>\n",
       "      <th>Period</th>\n",
       "      <th>Personal Income</th>\n",
       "    </tr>\n",
       "  </thead>\n",
       "  <tbody>\n",
       "    <tr>\n",
       "      <th>0</th>\n",
       "      <td>2000-01-01</td>\n",
       "      <td>9309.1</td>\n",
       "    </tr>\n",
       "    <tr>\n",
       "      <th>1</th>\n",
       "      <td>2000-02-01</td>\n",
       "      <td>9345.2</td>\n",
       "    </tr>\n",
       "    <tr>\n",
       "      <th>2</th>\n",
       "      <td>2000-03-01</td>\n",
       "      <td>9370.3</td>\n",
       "    </tr>\n",
       "    <tr>\n",
       "      <th>3</th>\n",
       "      <td>2000-04-01</td>\n",
       "      <td>9418.3</td>\n",
       "    </tr>\n",
       "    <tr>\n",
       "      <th>4</th>\n",
       "      <td>2000-05-01</td>\n",
       "      <td>9457.3</td>\n",
       "    </tr>\n",
       "    <tr>\n",
       "      <th>5</th>\n",
       "      <td>2000-06-01</td>\n",
       "      <td>9483.3</td>\n",
       "    </tr>\n",
       "    <tr>\n",
       "      <th>6</th>\n",
       "      <td>2000-07-01</td>\n",
       "      <td>9533.3</td>\n",
       "    </tr>\n",
       "    <tr>\n",
       "      <th>7</th>\n",
       "      <td>2000-08-01</td>\n",
       "      <td>9591.5</td>\n",
       "    </tr>\n",
       "    <tr>\n",
       "      <th>8</th>\n",
       "      <td>2000-09-01</td>\n",
       "      <td>9601.5</td>\n",
       "    </tr>\n",
       "    <tr>\n",
       "      <th>9</th>\n",
       "      <td>2000-10-01</td>\n",
       "      <td>9627.4</td>\n",
       "    </tr>\n",
       "  </tbody>\n",
       "</table>\n",
       "</div>"
      ],
      "text/plain": [
       "      Period  Personal Income\n",
       "0 2000-01-01           9309.1\n",
       "1 2000-02-01           9345.2\n",
       "2 2000-03-01           9370.3\n",
       "3 2000-04-01           9418.3\n",
       "4 2000-05-01           9457.3\n",
       "5 2000-06-01           9483.3\n",
       "6 2000-07-01           9533.3\n",
       "7 2000-08-01           9591.5\n",
       "8 2000-09-01           9601.5\n",
       "9 2000-10-01           9627.4"
      ]
     },
     "execution_count": 43,
     "metadata": {},
     "output_type": "execute_result"
    }
   ],
   "source": [
    "income.head(10)"
   ]
  },
  {
   "cell_type": "markdown",
   "id": "ef271849",
   "metadata": {},
   "source": [
    "## *Personal Consumption*"
   ]
  },
  {
   "cell_type": "code",
   "execution_count": 44,
   "id": "2c61399d",
   "metadata": {},
   "outputs": [],
   "source": [
    "# Source :  Federal Reserve Economic Data (FRED) database\n",
    "\n",
    "pc = pd.read_csv(\"Personal_Consumption.csv\").rename(columns = {\"DATE\": \"Period\", \"PCE\": \"Personal Consumption\"})"
   ]
  },
  {
   "cell_type": "code",
   "execution_count": 45,
   "id": "20355edc",
   "metadata": {},
   "outputs": [],
   "source": [
    "pc[\"Period\"] = pd.to_datetime(pc[\"Period\"])"
   ]
  },
  {
   "cell_type": "code",
   "execution_count": 46,
   "id": "46943cd0",
   "metadata": {},
   "outputs": [
    {
     "data": {
      "text/html": [
       "<div>\n",
       "<style scoped>\n",
       "    .dataframe tbody tr th:only-of-type {\n",
       "        vertical-align: middle;\n",
       "    }\n",
       "\n",
       "    .dataframe tbody tr th {\n",
       "        vertical-align: top;\n",
       "    }\n",
       "\n",
       "    .dataframe thead th {\n",
       "        text-align: right;\n",
       "    }\n",
       "</style>\n",
       "<table border=\"1\" class=\"dataframe\">\n",
       "  <thead>\n",
       "    <tr style=\"text-align: right;\">\n",
       "      <th></th>\n",
       "      <th>Period</th>\n",
       "      <th>Personal Consumption</th>\n",
       "    </tr>\n",
       "  </thead>\n",
       "  <tbody>\n",
       "    <tr>\n",
       "      <th>0</th>\n",
       "      <td>2000-01-01</td>\n",
       "      <td>6542.9</td>\n",
       "    </tr>\n",
       "    <tr>\n",
       "      <th>1</th>\n",
       "      <td>2000-02-01</td>\n",
       "      <td>6625.3</td>\n",
       "    </tr>\n",
       "    <tr>\n",
       "      <th>2</th>\n",
       "      <td>2000-03-01</td>\n",
       "      <td>6686.5</td>\n",
       "    </tr>\n",
       "    <tr>\n",
       "      <th>3</th>\n",
       "      <td>2000-04-01</td>\n",
       "      <td>6679.1</td>\n",
       "    </tr>\n",
       "    <tr>\n",
       "      <th>4</th>\n",
       "      <td>2000-05-01</td>\n",
       "      <td>6709.7</td>\n",
       "    </tr>\n",
       "    <tr>\n",
       "      <th>5</th>\n",
       "      <td>2000-06-01</td>\n",
       "      <td>6746.9</td>\n",
       "    </tr>\n",
       "    <tr>\n",
       "      <th>6</th>\n",
       "      <td>2000-07-01</td>\n",
       "      <td>6768.5</td>\n",
       "    </tr>\n",
       "    <tr>\n",
       "      <th>7</th>\n",
       "      <td>2000-08-01</td>\n",
       "      <td>6802.8</td>\n",
       "    </tr>\n",
       "    <tr>\n",
       "      <th>8</th>\n",
       "      <td>2000-09-01</td>\n",
       "      <td>6888.6</td>\n",
       "    </tr>\n",
       "    <tr>\n",
       "      <th>9</th>\n",
       "      <td>2000-10-01</td>\n",
       "      <td>6893.8</td>\n",
       "    </tr>\n",
       "  </tbody>\n",
       "</table>\n",
       "</div>"
      ],
      "text/plain": [
       "      Period  Personal Consumption\n",
       "0 2000-01-01                6542.9\n",
       "1 2000-02-01                6625.3\n",
       "2 2000-03-01                6686.5\n",
       "3 2000-04-01                6679.1\n",
       "4 2000-05-01                6709.7\n",
       "5 2000-06-01                6746.9\n",
       "6 2000-07-01                6768.5\n",
       "7 2000-08-01                6802.8\n",
       "8 2000-09-01                6888.6\n",
       "9 2000-10-01                6893.8"
      ]
     },
     "execution_count": 46,
     "metadata": {},
     "output_type": "execute_result"
    }
   ],
   "source": [
    "pc.head(10)"
   ]
  },
  {
   "cell_type": "markdown",
   "id": "9423fec3",
   "metadata": {},
   "source": [
    "## *Housing Starts*"
   ]
  },
  {
   "cell_type": "code",
   "execution_count": 47,
   "id": "245b87b6",
   "metadata": {},
   "outputs": [],
   "source": [
    "# Source : U.S. Census Bureau\n",
    "\n",
    "housing_starts = pd.read_csv(\"housing_starts.csv\")[49:71].rename(\n",
    "                    columns = {\n",
    "                        \"New Privately Owned Housing Units Started\": \"Period\" , \"Unnamed: 1\": \"Housing_Starts\"\n",
    "                              }).reset_index(drop=True).drop(\n",
    "                    columns=[\n",
    "                        'Unnamed: 2', 'Unnamed: 3', 'Unnamed: 4', 'Unnamed: 5', 'Unnamed: 6',\n",
    "                        'Unnamed: 7', 'Unnamed: 8', 'Unnamed: 9', 'Unnamed: 10', 'Unnamed: 11', 'Unnamed: 12'\n",
    "\n",
    "                    ])"
   ]
  },
  {
   "cell_type": "code",
   "execution_count": 48,
   "id": "8ea6ac41",
   "metadata": {},
   "outputs": [
    {
     "data": {
      "text/html": [
       "<div>\n",
       "<style scoped>\n",
       "    .dataframe tbody tr th:only-of-type {\n",
       "        vertical-align: middle;\n",
       "    }\n",
       "\n",
       "    .dataframe tbody tr th {\n",
       "        vertical-align: top;\n",
       "    }\n",
       "\n",
       "    .dataframe thead th {\n",
       "        text-align: right;\n",
       "    }\n",
       "</style>\n",
       "<table border=\"1\" class=\"dataframe\">\n",
       "  <thead>\n",
       "    <tr style=\"text-align: right;\">\n",
       "      <th></th>\n",
       "      <th>Period</th>\n",
       "      <th>Housing_Starts</th>\n",
       "    </tr>\n",
       "  </thead>\n",
       "  <tbody>\n",
       "    <tr>\n",
       "      <th>0</th>\n",
       "      <td>2000</td>\n",
       "      <td>1,568.7</td>\n",
       "    </tr>\n",
       "    <tr>\n",
       "      <th>1</th>\n",
       "      <td>2001</td>\n",
       "      <td>1,602.7</td>\n",
       "    </tr>\n",
       "    <tr>\n",
       "      <th>2</th>\n",
       "      <td>2002</td>\n",
       "      <td>1,704.9</td>\n",
       "    </tr>\n",
       "    <tr>\n",
       "      <th>3</th>\n",
       "      <td>2003</td>\n",
       "      <td>1,847.7</td>\n",
       "    </tr>\n",
       "    <tr>\n",
       "      <th>4</th>\n",
       "      <td>2004</td>\n",
       "      <td>1,955.8</td>\n",
       "    </tr>\n",
       "  </tbody>\n",
       "</table>\n",
       "</div>"
      ],
      "text/plain": [
       "  Period Housing_Starts\n",
       "0   2000        1,568.7\n",
       "1   2001        1,602.7\n",
       "2   2002        1,704.9\n",
       "3   2003        1,847.7\n",
       "4   2004        1,955.8"
      ]
     },
     "execution_count": 48,
     "metadata": {},
     "output_type": "execute_result"
    }
   ],
   "source": [
    "housing_starts.head()"
   ]
  },
  {
   "cell_type": "code",
   "execution_count": 49,
   "id": "57ebbb7d",
   "metadata": {},
   "outputs": [],
   "source": [
    "housing_starts[\"Period\"] = pd.to_datetime(housing_starts['Period'])"
   ]
  },
  {
   "cell_type": "code",
   "execution_count": 50,
   "id": "44ddbd67",
   "metadata": {},
   "outputs": [],
   "source": [
    "housing_starts['Housing_Starts'] = housing_starts['Housing_Starts'].str.replace(',', '').astype(float).astype(int)\n"
   ]
  },
  {
   "cell_type": "code",
   "execution_count": 51,
   "id": "0fa1ede8",
   "metadata": {},
   "outputs": [
    {
     "name": "stdout",
     "output_type": "stream",
     "text": [
      "<class 'pandas.core.frame.DataFrame'>\n",
      "RangeIndex: 22 entries, 0 to 21\n",
      "Data columns (total 2 columns):\n",
      " #   Column          Non-Null Count  Dtype         \n",
      "---  ------          --------------  -----         \n",
      " 0   Period          22 non-null     datetime64[ns]\n",
      " 1   Housing_Starts  22 non-null     int32         \n",
      "dtypes: datetime64[ns](1), int32(1)\n",
      "memory usage: 396.0 bytes\n"
     ]
    }
   ],
   "source": [
    "housing_starts.info()"
   ]
  },
  {
   "cell_type": "code",
   "execution_count": 52,
   "id": "5246fcfd",
   "metadata": {},
   "outputs": [],
   "source": [
    "housing_starts.set_index('Period', inplace=True)\n",
    "\n",
    "\n",
    "housing_starts = housing_starts.resample('MS').mean()"
   ]
  },
  {
   "cell_type": "code",
   "execution_count": 53,
   "id": "eb2d1e9e",
   "metadata": {},
   "outputs": [],
   "source": [
    "housing_starts[\"Housing_Starts\"].interpolate(method='linear', inplace=True)"
   ]
  },
  {
   "cell_type": "code",
   "execution_count": 54,
   "id": "d1f1e303",
   "metadata": {},
   "outputs": [],
   "source": [
    "housing_starts.reset_index(inplace=True)"
   ]
  },
  {
   "cell_type": "code",
   "execution_count": 55,
   "id": "ae5a76d0",
   "metadata": {},
   "outputs": [],
   "source": [
    "housing_starts.drop(housing_starts.tail(3).index,inplace = True)"
   ]
  },
  {
   "cell_type": "code",
   "execution_count": 56,
   "id": "c4287c45",
   "metadata": {},
   "outputs": [],
   "source": [
    "housing_starts[\"Housing_Starts\"] = housing_starts[\"Housing_Starts\"].astype(int)"
   ]
  },
  {
   "cell_type": "code",
   "execution_count": 57,
   "id": "599a6a73",
   "metadata": {},
   "outputs": [
    {
     "data": {
      "text/html": [
       "<div>\n",
       "<style scoped>\n",
       "    .dataframe tbody tr th:only-of-type {\n",
       "        vertical-align: middle;\n",
       "    }\n",
       "\n",
       "    .dataframe tbody tr th {\n",
       "        vertical-align: top;\n",
       "    }\n",
       "\n",
       "    .dataframe thead th {\n",
       "        text-align: right;\n",
       "    }\n",
       "</style>\n",
       "<table border=\"1\" class=\"dataframe\">\n",
       "  <thead>\n",
       "    <tr style=\"text-align: right;\">\n",
       "      <th></th>\n",
       "      <th>Period</th>\n",
       "      <th>Housing_Starts</th>\n",
       "    </tr>\n",
       "  </thead>\n",
       "  <tbody>\n",
       "    <tr>\n",
       "      <th>0</th>\n",
       "      <td>2000-01-01</td>\n",
       "      <td>1568</td>\n",
       "    </tr>\n",
       "    <tr>\n",
       "      <th>1</th>\n",
       "      <td>2000-02-01</td>\n",
       "      <td>1570</td>\n",
       "    </tr>\n",
       "    <tr>\n",
       "      <th>2</th>\n",
       "      <td>2000-03-01</td>\n",
       "      <td>1573</td>\n",
       "    </tr>\n",
       "    <tr>\n",
       "      <th>3</th>\n",
       "      <td>2000-04-01</td>\n",
       "      <td>1576</td>\n",
       "    </tr>\n",
       "    <tr>\n",
       "      <th>4</th>\n",
       "      <td>2000-05-01</td>\n",
       "      <td>1579</td>\n",
       "    </tr>\n",
       "    <tr>\n",
       "      <th>5</th>\n",
       "      <td>2000-06-01</td>\n",
       "      <td>1582</td>\n",
       "    </tr>\n",
       "    <tr>\n",
       "      <th>6</th>\n",
       "      <td>2000-07-01</td>\n",
       "      <td>1585</td>\n",
       "    </tr>\n",
       "    <tr>\n",
       "      <th>7</th>\n",
       "      <td>2000-08-01</td>\n",
       "      <td>1587</td>\n",
       "    </tr>\n",
       "    <tr>\n",
       "      <th>8</th>\n",
       "      <td>2000-09-01</td>\n",
       "      <td>1590</td>\n",
       "    </tr>\n",
       "    <tr>\n",
       "      <th>9</th>\n",
       "      <td>2000-10-01</td>\n",
       "      <td>1593</td>\n",
       "    </tr>\n",
       "  </tbody>\n",
       "</table>\n",
       "</div>"
      ],
      "text/plain": [
       "      Period  Housing_Starts\n",
       "0 2000-01-01            1568\n",
       "1 2000-02-01            1570\n",
       "2 2000-03-01            1573\n",
       "3 2000-04-01            1576\n",
       "4 2000-05-01            1579\n",
       "5 2000-06-01            1582\n",
       "6 2000-07-01            1585\n",
       "7 2000-08-01            1587\n",
       "8 2000-09-01            1590\n",
       "9 2000-10-01            1593"
      ]
     },
     "execution_count": 57,
     "metadata": {},
     "output_type": "execute_result"
    }
   ],
   "source": [
    "housing_starts.head(10)"
   ]
  },
  {
   "cell_type": "markdown",
   "id": "e48ea93a",
   "metadata": {},
   "source": [
    "## *Mortgage rate*"
   ]
  },
  {
   "cell_type": "code",
   "execution_count": 58,
   "id": "3759511b",
   "metadata": {},
   "outputs": [],
   "source": [
    "# Source :  Federal Reserve Economic Data (FRED) database\n",
    "\n",
    "mortgage = pd.read_csv('mortgage.csv').rename(columns={'DATE':'Period', 'MORTGAGE30US':'Mortgage'})"
   ]
  },
  {
   "cell_type": "code",
   "execution_count": 59,
   "id": "68141b60",
   "metadata": {},
   "outputs": [],
   "source": [
    "mortgage[\"Period\"] = pd.to_datetime(mortgage[\"Period\"])"
   ]
  },
  {
   "cell_type": "code",
   "execution_count": 60,
   "id": "8be9d57f",
   "metadata": {},
   "outputs": [],
   "source": [
    "mortgage[\"Mortgage\"] = mortgage[\"Mortgage\"].round(2)"
   ]
  },
  {
   "cell_type": "code",
   "execution_count": 61,
   "id": "31f70ce6",
   "metadata": {},
   "outputs": [
    {
     "data": {
      "text/html": [
       "<div>\n",
       "<style scoped>\n",
       "    .dataframe tbody tr th:only-of-type {\n",
       "        vertical-align: middle;\n",
       "    }\n",
       "\n",
       "    .dataframe tbody tr th {\n",
       "        vertical-align: top;\n",
       "    }\n",
       "\n",
       "    .dataframe thead th {\n",
       "        text-align: right;\n",
       "    }\n",
       "</style>\n",
       "<table border=\"1\" class=\"dataframe\">\n",
       "  <thead>\n",
       "    <tr style=\"text-align: right;\">\n",
       "      <th></th>\n",
       "      <th>Period</th>\n",
       "      <th>Mortgage</th>\n",
       "    </tr>\n",
       "  </thead>\n",
       "  <tbody>\n",
       "    <tr>\n",
       "      <th>0</th>\n",
       "      <td>2000-01-01</td>\n",
       "      <td>8.21</td>\n",
       "    </tr>\n",
       "    <tr>\n",
       "      <th>1</th>\n",
       "      <td>2000-02-01</td>\n",
       "      <td>8.32</td>\n",
       "    </tr>\n",
       "    <tr>\n",
       "      <th>2</th>\n",
       "      <td>2000-03-01</td>\n",
       "      <td>8.24</td>\n",
       "    </tr>\n",
       "    <tr>\n",
       "      <th>3</th>\n",
       "      <td>2000-04-01</td>\n",
       "      <td>8.15</td>\n",
       "    </tr>\n",
       "    <tr>\n",
       "      <th>4</th>\n",
       "      <td>2000-05-01</td>\n",
       "      <td>8.52</td>\n",
       "    </tr>\n",
       "    <tr>\n",
       "      <th>5</th>\n",
       "      <td>2000-06-01</td>\n",
       "      <td>8.29</td>\n",
       "    </tr>\n",
       "    <tr>\n",
       "      <th>6</th>\n",
       "      <td>2000-07-01</td>\n",
       "      <td>8.15</td>\n",
       "    </tr>\n",
       "    <tr>\n",
       "      <th>7</th>\n",
       "      <td>2000-08-01</td>\n",
       "      <td>8.03</td>\n",
       "    </tr>\n",
       "    <tr>\n",
       "      <th>8</th>\n",
       "      <td>2000-09-01</td>\n",
       "      <td>7.91</td>\n",
       "    </tr>\n",
       "    <tr>\n",
       "      <th>9</th>\n",
       "      <td>2000-10-01</td>\n",
       "      <td>7.80</td>\n",
       "    </tr>\n",
       "  </tbody>\n",
       "</table>\n",
       "</div>"
      ],
      "text/plain": [
       "      Period  Mortgage\n",
       "0 2000-01-01      8.21\n",
       "1 2000-02-01      8.32\n",
       "2 2000-03-01      8.24\n",
       "3 2000-04-01      8.15\n",
       "4 2000-05-01      8.52\n",
       "5 2000-06-01      8.29\n",
       "6 2000-07-01      8.15\n",
       "7 2000-08-01      8.03\n",
       "8 2000-09-01      7.91\n",
       "9 2000-10-01      7.80"
      ]
     },
     "execution_count": 61,
     "metadata": {},
     "output_type": "execute_result"
    }
   ],
   "source": [
    "mortgage.head(10)"
   ]
  },
  {
   "cell_type": "markdown",
   "id": "821f2087",
   "metadata": {},
   "source": [
    "## *Months of supply*"
   ]
  },
  {
   "cell_type": "code",
   "execution_count": 62,
   "id": "ca7715c5",
   "metadata": {},
   "outputs": [],
   "source": [
    "# Source :  Federal Reserve Economic Data (FRED) database\n",
    "\n",
    "mos = pd.read_csv('Months_of_Supply.csv').rename(columns={'DATE':'Period', 'MSACSR':'Months of Supply'})"
   ]
  },
  {
   "cell_type": "code",
   "execution_count": 63,
   "id": "ced4e23e",
   "metadata": {},
   "outputs": [],
   "source": [
    "mos[\"Period\"] = pd.to_datetime(mos[\"Period\"])"
   ]
  },
  {
   "cell_type": "code",
   "execution_count": 64,
   "id": "58d5c48a",
   "metadata": {},
   "outputs": [
    {
     "data": {
      "text/html": [
       "<div>\n",
       "<style scoped>\n",
       "    .dataframe tbody tr th:only-of-type {\n",
       "        vertical-align: middle;\n",
       "    }\n",
       "\n",
       "    .dataframe tbody tr th {\n",
       "        vertical-align: top;\n",
       "    }\n",
       "\n",
       "    .dataframe thead th {\n",
       "        text-align: right;\n",
       "    }\n",
       "</style>\n",
       "<table border=\"1\" class=\"dataframe\">\n",
       "  <thead>\n",
       "    <tr style=\"text-align: right;\">\n",
       "      <th></th>\n",
       "      <th>Period</th>\n",
       "      <th>Months of Supply</th>\n",
       "    </tr>\n",
       "  </thead>\n",
       "  <tbody>\n",
       "    <tr>\n",
       "      <th>0</th>\n",
       "      <td>2000-01-01</td>\n",
       "      <td>4.3</td>\n",
       "    </tr>\n",
       "    <tr>\n",
       "      <th>1</th>\n",
       "      <td>2000-02-01</td>\n",
       "      <td>4.3</td>\n",
       "    </tr>\n",
       "    <tr>\n",
       "      <th>2</th>\n",
       "      <td>2000-03-01</td>\n",
       "      <td>4.3</td>\n",
       "    </tr>\n",
       "    <tr>\n",
       "      <th>3</th>\n",
       "      <td>2000-04-01</td>\n",
       "      <td>4.4</td>\n",
       "    </tr>\n",
       "    <tr>\n",
       "      <th>4</th>\n",
       "      <td>2000-05-01</td>\n",
       "      <td>4.4</td>\n",
       "    </tr>\n",
       "    <tr>\n",
       "      <th>5</th>\n",
       "      <td>2000-06-01</td>\n",
       "      <td>4.8</td>\n",
       "    </tr>\n",
       "    <tr>\n",
       "      <th>6</th>\n",
       "      <td>2000-07-01</td>\n",
       "      <td>4.1</td>\n",
       "    </tr>\n",
       "    <tr>\n",
       "      <th>7</th>\n",
       "      <td>2000-08-01</td>\n",
       "      <td>4.4</td>\n",
       "    </tr>\n",
       "    <tr>\n",
       "      <th>8</th>\n",
       "      <td>2000-09-01</td>\n",
       "      <td>4.0</td>\n",
       "    </tr>\n",
       "    <tr>\n",
       "      <th>9</th>\n",
       "      <td>2000-10-01</td>\n",
       "      <td>4.0</td>\n",
       "    </tr>\n",
       "  </tbody>\n",
       "</table>\n",
       "</div>"
      ],
      "text/plain": [
       "      Period  Months of Supply\n",
       "0 2000-01-01               4.3\n",
       "1 2000-02-01               4.3\n",
       "2 2000-03-01               4.3\n",
       "3 2000-04-01               4.4\n",
       "4 2000-05-01               4.4\n",
       "5 2000-06-01               4.8\n",
       "6 2000-07-01               4.1\n",
       "7 2000-08-01               4.4\n",
       "8 2000-09-01               4.0\n",
       "9 2000-10-01               4.0"
      ]
     },
     "execution_count": 64,
     "metadata": {},
     "output_type": "execute_result"
    }
   ],
   "source": [
    "mos.head(10)"
   ]
  },
  {
   "cell_type": "markdown",
   "id": "8d98abb0",
   "metadata": {},
   "source": [
    "## *Unemployment*"
   ]
  },
  {
   "cell_type": "code",
   "execution_count": 65,
   "id": "d39895c2",
   "metadata": {},
   "outputs": [],
   "source": [
    "# Source :  Federal Reserve Economic Data (FRED) database\n",
    "\n",
    "unemp = pd.read_csv('unemp.csv').rename(columns={'DATE':'Period', 'UNRATE':'Unemployment'})"
   ]
  },
  {
   "cell_type": "code",
   "execution_count": 66,
   "id": "6a43b9df",
   "metadata": {},
   "outputs": [],
   "source": [
    "unemp[\"Period\"] = pd.to_datetime(unemp[\"Period\"])"
   ]
  },
  {
   "cell_type": "code",
   "execution_count": 67,
   "id": "2ff65cb3",
   "metadata": {},
   "outputs": [
    {
     "name": "stdout",
     "output_type": "stream",
     "text": [
      "<class 'pandas.core.frame.DataFrame'>\n",
      "RangeIndex: 250 entries, 0 to 249\n",
      "Data columns (total 2 columns):\n",
      " #   Column        Non-Null Count  Dtype         \n",
      "---  ------        --------------  -----         \n",
      " 0   Period        250 non-null    datetime64[ns]\n",
      " 1   Unemployment  250 non-null    float64       \n",
      "dtypes: datetime64[ns](1), float64(1)\n",
      "memory usage: 4.0 KB\n"
     ]
    }
   ],
   "source": [
    "unemp.info()"
   ]
  },
  {
   "cell_type": "code",
   "execution_count": 68,
   "id": "cbbdbd82",
   "metadata": {},
   "outputs": [
    {
     "data": {
      "text/html": [
       "<div>\n",
       "<style scoped>\n",
       "    .dataframe tbody tr th:only-of-type {\n",
       "        vertical-align: middle;\n",
       "    }\n",
       "\n",
       "    .dataframe tbody tr th {\n",
       "        vertical-align: top;\n",
       "    }\n",
       "\n",
       "    .dataframe thead th {\n",
       "        text-align: right;\n",
       "    }\n",
       "</style>\n",
       "<table border=\"1\" class=\"dataframe\">\n",
       "  <thead>\n",
       "    <tr style=\"text-align: right;\">\n",
       "      <th></th>\n",
       "      <th>Period</th>\n",
       "      <th>Unemployment</th>\n",
       "    </tr>\n",
       "  </thead>\n",
       "  <tbody>\n",
       "    <tr>\n",
       "      <th>0</th>\n",
       "      <td>2000-01-01</td>\n",
       "      <td>4.0</td>\n",
       "    </tr>\n",
       "    <tr>\n",
       "      <th>1</th>\n",
       "      <td>2000-02-01</td>\n",
       "      <td>4.1</td>\n",
       "    </tr>\n",
       "    <tr>\n",
       "      <th>2</th>\n",
       "      <td>2000-03-01</td>\n",
       "      <td>4.0</td>\n",
       "    </tr>\n",
       "    <tr>\n",
       "      <th>3</th>\n",
       "      <td>2000-04-01</td>\n",
       "      <td>3.8</td>\n",
       "    </tr>\n",
       "    <tr>\n",
       "      <th>4</th>\n",
       "      <td>2000-05-01</td>\n",
       "      <td>4.0</td>\n",
       "    </tr>\n",
       "    <tr>\n",
       "      <th>5</th>\n",
       "      <td>2000-06-01</td>\n",
       "      <td>4.0</td>\n",
       "    </tr>\n",
       "    <tr>\n",
       "      <th>6</th>\n",
       "      <td>2000-07-01</td>\n",
       "      <td>4.0</td>\n",
       "    </tr>\n",
       "    <tr>\n",
       "      <th>7</th>\n",
       "      <td>2000-08-01</td>\n",
       "      <td>4.1</td>\n",
       "    </tr>\n",
       "    <tr>\n",
       "      <th>8</th>\n",
       "      <td>2000-09-01</td>\n",
       "      <td>3.9</td>\n",
       "    </tr>\n",
       "    <tr>\n",
       "      <th>9</th>\n",
       "      <td>2000-10-01</td>\n",
       "      <td>3.9</td>\n",
       "    </tr>\n",
       "  </tbody>\n",
       "</table>\n",
       "</div>"
      ],
      "text/plain": [
       "      Period  Unemployment\n",
       "0 2000-01-01           4.0\n",
       "1 2000-02-01           4.1\n",
       "2 2000-03-01           4.0\n",
       "3 2000-04-01           3.8\n",
       "4 2000-05-01           4.0\n",
       "5 2000-06-01           4.0\n",
       "6 2000-07-01           4.0\n",
       "7 2000-08-01           4.1\n",
       "8 2000-09-01           3.9\n",
       "9 2000-10-01           3.9"
      ]
     },
     "execution_count": 68,
     "metadata": {},
     "output_type": "execute_result"
    }
   ],
   "source": [
    "unemp.head(10)"
   ]
  },
  {
   "cell_type": "markdown",
   "id": "da8d0bd3",
   "metadata": {},
   "source": [
    "## *USA GDP monthly*"
   ]
  },
  {
   "cell_type": "code",
   "execution_count": 69,
   "id": "501cf15f",
   "metadata": {},
   "outputs": [],
   "source": [
    "# Source :  Federal Reserve Economic Data (FRED) database\n",
    "\n",
    "gdp = pd.read_csv(\"GDP_Monthly.csv\").rename(columns={'DATE': 'Period', 'USALORSGPNOSTSAM':'USA_GDP'})"
   ]
  },
  {
   "cell_type": "code",
   "execution_count": 70,
   "id": "8851cf4a",
   "metadata": {},
   "outputs": [],
   "source": [
    "gdp[\"Period\"] = pd.to_datetime(gdp[\"Period\"])"
   ]
  },
  {
   "cell_type": "code",
   "execution_count": 71,
   "id": "3322a31d",
   "metadata": {},
   "outputs": [],
   "source": [
    "gdp[\"USA_GDP\"] = round(gdp[\"USA_GDP\"], 2)"
   ]
  },
  {
   "cell_type": "code",
   "execution_count": 72,
   "id": "a62b8b81",
   "metadata": {},
   "outputs": [
    {
     "name": "stdout",
     "output_type": "stream",
     "text": [
      "<class 'pandas.core.frame.DataFrame'>\n",
      "RangeIndex: 250 entries, 0 to 249\n",
      "Data columns (total 2 columns):\n",
      " #   Column   Non-Null Count  Dtype         \n",
      "---  ------   --------------  -----         \n",
      " 0   Period   250 non-null    datetime64[ns]\n",
      " 1   USA_GDP  250 non-null    float64       \n",
      "dtypes: datetime64[ns](1), float64(1)\n",
      "memory usage: 4.0 KB\n"
     ]
    }
   ],
   "source": [
    "gdp.info()"
   ]
  },
  {
   "cell_type": "code",
   "execution_count": 73,
   "id": "dee4100a",
   "metadata": {},
   "outputs": [
    {
     "data": {
      "text/html": [
       "<div>\n",
       "<style scoped>\n",
       "    .dataframe tbody tr th:only-of-type {\n",
       "        vertical-align: middle;\n",
       "    }\n",
       "\n",
       "    .dataframe tbody tr th {\n",
       "        vertical-align: top;\n",
       "    }\n",
       "\n",
       "    .dataframe thead th {\n",
       "        text-align: right;\n",
       "    }\n",
       "</style>\n",
       "<table border=\"1\" class=\"dataframe\">\n",
       "  <thead>\n",
       "    <tr style=\"text-align: right;\">\n",
       "      <th></th>\n",
       "      <th>Period</th>\n",
       "      <th>USA_GDP</th>\n",
       "    </tr>\n",
       "  </thead>\n",
       "  <tbody>\n",
       "    <tr>\n",
       "      <th>0</th>\n",
       "      <td>2000-01-01</td>\n",
       "      <td>101.52</td>\n",
       "    </tr>\n",
       "    <tr>\n",
       "      <th>1</th>\n",
       "      <td>2000-02-01</td>\n",
       "      <td>101.58</td>\n",
       "    </tr>\n",
       "    <tr>\n",
       "      <th>2</th>\n",
       "      <td>2000-03-01</td>\n",
       "      <td>101.66</td>\n",
       "    </tr>\n",
       "    <tr>\n",
       "      <th>3</th>\n",
       "      <td>2000-04-01</td>\n",
       "      <td>101.73</td>\n",
       "    </tr>\n",
       "    <tr>\n",
       "      <th>4</th>\n",
       "      <td>2000-05-01</td>\n",
       "      <td>101.77</td>\n",
       "    </tr>\n",
       "    <tr>\n",
       "      <th>5</th>\n",
       "      <td>2000-06-01</td>\n",
       "      <td>101.76</td>\n",
       "    </tr>\n",
       "    <tr>\n",
       "      <th>6</th>\n",
       "      <td>2000-07-01</td>\n",
       "      <td>101.71</td>\n",
       "    </tr>\n",
       "    <tr>\n",
       "      <th>7</th>\n",
       "      <td>2000-08-01</td>\n",
       "      <td>101.62</td>\n",
       "    </tr>\n",
       "    <tr>\n",
       "      <th>8</th>\n",
       "      <td>2000-09-01</td>\n",
       "      <td>101.50</td>\n",
       "    </tr>\n",
       "    <tr>\n",
       "      <th>9</th>\n",
       "      <td>2000-10-01</td>\n",
       "      <td>101.36</td>\n",
       "    </tr>\n",
       "  </tbody>\n",
       "</table>\n",
       "</div>"
      ],
      "text/plain": [
       "      Period  USA_GDP\n",
       "0 2000-01-01   101.52\n",
       "1 2000-02-01   101.58\n",
       "2 2000-03-01   101.66\n",
       "3 2000-04-01   101.73\n",
       "4 2000-05-01   101.77\n",
       "5 2000-06-01   101.76\n",
       "6 2000-07-01   101.71\n",
       "7 2000-08-01   101.62\n",
       "8 2000-09-01   101.50\n",
       "9 2000-10-01   101.36"
      ]
     },
     "execution_count": 73,
     "metadata": {},
     "output_type": "execute_result"
    }
   ],
   "source": [
    "gdp.head(10)"
   ]
  },
  {
   "cell_type": "markdown",
   "id": "7fc143da",
   "metadata": {},
   "source": [
    "## *Construction Spending*"
   ]
  },
  {
   "cell_type": "code",
   "execution_count": 74,
   "id": "ca1cfabb",
   "metadata": {},
   "outputs": [],
   "source": [
    "cons = pd.read_csv(\"Total_Construction.csv\").rename(columns={'DATE': 'Period', 'TTLCONS':'Total_Construction'})"
   ]
  },
  {
   "cell_type": "code",
   "execution_count": 75,
   "id": "6a24d77e",
   "metadata": {},
   "outputs": [],
   "source": [
    "cons['Period'] = pd.to_datetime(cons['Period'])\n",
    "cons['Total_Construction'] = cons['Total_Construction'].astype(int)"
   ]
  },
  {
   "cell_type": "code",
   "execution_count": 76,
   "id": "a99394d9",
   "metadata": {},
   "outputs": [
    {
     "data": {
      "text/html": [
       "<div>\n",
       "<style scoped>\n",
       "    .dataframe tbody tr th:only-of-type {\n",
       "        vertical-align: middle;\n",
       "    }\n",
       "\n",
       "    .dataframe tbody tr th {\n",
       "        vertical-align: top;\n",
       "    }\n",
       "\n",
       "    .dataframe thead th {\n",
       "        text-align: right;\n",
       "    }\n",
       "</style>\n",
       "<table border=\"1\" class=\"dataframe\">\n",
       "  <thead>\n",
       "    <tr style=\"text-align: right;\">\n",
       "      <th></th>\n",
       "      <th>Period</th>\n",
       "      <th>Total_Construction</th>\n",
       "    </tr>\n",
       "  </thead>\n",
       "  <tbody>\n",
       "    <tr>\n",
       "      <th>0</th>\n",
       "      <td>2000-01-01</td>\n",
       "      <td>784940</td>\n",
       "    </tr>\n",
       "    <tr>\n",
       "      <th>1</th>\n",
       "      <td>2000-02-01</td>\n",
       "      <td>793737</td>\n",
       "    </tr>\n",
       "    <tr>\n",
       "      <th>2</th>\n",
       "      <td>2000-03-01</td>\n",
       "      <td>809459</td>\n",
       "    </tr>\n",
       "    <tr>\n",
       "      <th>3</th>\n",
       "      <td>2000-04-01</td>\n",
       "      <td>804766</td>\n",
       "    </tr>\n",
       "    <tr>\n",
       "      <th>4</th>\n",
       "      <td>2000-05-01</td>\n",
       "      <td>805005</td>\n",
       "    </tr>\n",
       "    <tr>\n",
       "      <th>5</th>\n",
       "      <td>2000-06-01</td>\n",
       "      <td>795411</td>\n",
       "    </tr>\n",
       "    <tr>\n",
       "      <th>6</th>\n",
       "      <td>2000-07-01</td>\n",
       "      <td>783795</td>\n",
       "    </tr>\n",
       "    <tr>\n",
       "      <th>7</th>\n",
       "      <td>2000-08-01</td>\n",
       "      <td>805341</td>\n",
       "    </tr>\n",
       "    <tr>\n",
       "      <th>8</th>\n",
       "      <td>2000-09-01</td>\n",
       "      <td>814330</td>\n",
       "    </tr>\n",
       "    <tr>\n",
       "      <th>9</th>\n",
       "      <td>2000-10-01</td>\n",
       "      <td>816100</td>\n",
       "    </tr>\n",
       "  </tbody>\n",
       "</table>\n",
       "</div>"
      ],
      "text/plain": [
       "      Period  Total_Construction\n",
       "0 2000-01-01              784940\n",
       "1 2000-02-01              793737\n",
       "2 2000-03-01              809459\n",
       "3 2000-04-01              804766\n",
       "4 2000-05-01              805005\n",
       "5 2000-06-01              795411\n",
       "6 2000-07-01              783795\n",
       "7 2000-08-01              805341\n",
       "8 2000-09-01              814330\n",
       "9 2000-10-01              816100"
      ]
     },
     "execution_count": 76,
     "metadata": {},
     "output_type": "execute_result"
    }
   ],
   "source": [
    "cons.head(10)"
   ]
  },
  {
   "cell_type": "markdown",
   "id": "fb46045d",
   "metadata": {},
   "source": [
    "## *Building Permits*"
   ]
  },
  {
   "cell_type": "code",
   "execution_count": 77,
   "id": "4cd9c32e",
   "metadata": {},
   "outputs": [],
   "source": [
    "pm = pd.read_csv('permits_number.csv')[488:738].rename(\n",
    "            columns = {\"New Privately Owned Housing Units Authorized by Building Permits in Permit-Issuing Places\": \"Period\" , \n",
    "                       \"Unnamed: 2\": \"Permits_Number\"}).reset_index(drop=True).drop(\n",
    "            columns=['Unnamed: 0', 'Unnamed: 3', 'Unnamed: 4', 'Unnamed: 5',\n",
    "                    'Unnamed: 6', 'Unnamed: 7', 'Unnamed: 8', 'Unnamed: 9', 'Unnamed: 10',\n",
    "                    'Unnamed: 11', 'Unnamed: 12', 'Unnamed: 13'])"
   ]
  },
  {
   "cell_type": "code",
   "execution_count": 78,
   "id": "5363441e",
   "metadata": {},
   "outputs": [],
   "source": [
    "# Converting Period column to Python datetime form\n",
    "\n",
    "pm[\"Period\"] = pd.to_datetime(pm['Period'], format='mixed')\n",
    "\n",
    "# Converting \"Permits_Number\" column to int \n",
    "\n",
    "pm[\"Permits_Number\"] = pm['Permits_Number'].str.replace(',', '').astype(float).astype(int)"
   ]
  },
  {
   "cell_type": "code",
   "execution_count": 79,
   "id": "0513e87c",
   "metadata": {},
   "outputs": [
    {
     "data": {
      "text/html": [
       "<div>\n",
       "<style scoped>\n",
       "    .dataframe tbody tr th:only-of-type {\n",
       "        vertical-align: middle;\n",
       "    }\n",
       "\n",
       "    .dataframe tbody tr th {\n",
       "        vertical-align: top;\n",
       "    }\n",
       "\n",
       "    .dataframe thead th {\n",
       "        text-align: right;\n",
       "    }\n",
       "</style>\n",
       "<table border=\"1\" class=\"dataframe\">\n",
       "  <thead>\n",
       "    <tr style=\"text-align: right;\">\n",
       "      <th></th>\n",
       "      <th>Period</th>\n",
       "      <th>Permits_Number</th>\n",
       "    </tr>\n",
       "  </thead>\n",
       "  <tbody>\n",
       "    <tr>\n",
       "      <th>0</th>\n",
       "      <td>2000-01-01</td>\n",
       "      <td>1727</td>\n",
       "    </tr>\n",
       "    <tr>\n",
       "      <th>1</th>\n",
       "      <td>2000-02-01</td>\n",
       "      <td>1692</td>\n",
       "    </tr>\n",
       "    <tr>\n",
       "      <th>2</th>\n",
       "      <td>2000-03-01</td>\n",
       "      <td>1651</td>\n",
       "    </tr>\n",
       "    <tr>\n",
       "      <th>3</th>\n",
       "      <td>2000-04-01</td>\n",
       "      <td>1597</td>\n",
       "    </tr>\n",
       "    <tr>\n",
       "      <th>4</th>\n",
       "      <td>2000-05-01</td>\n",
       "      <td>1543</td>\n",
       "    </tr>\n",
       "    <tr>\n",
       "      <th>5</th>\n",
       "      <td>2000-06-01</td>\n",
       "      <td>1572</td>\n",
       "    </tr>\n",
       "    <tr>\n",
       "      <th>6</th>\n",
       "      <td>2000-07-01</td>\n",
       "      <td>1542</td>\n",
       "    </tr>\n",
       "    <tr>\n",
       "      <th>7</th>\n",
       "      <td>2000-08-01</td>\n",
       "      <td>1552</td>\n",
       "    </tr>\n",
       "    <tr>\n",
       "      <th>8</th>\n",
       "      <td>2000-09-01</td>\n",
       "      <td>1570</td>\n",
       "    </tr>\n",
       "    <tr>\n",
       "      <th>9</th>\n",
       "      <td>2000-10-01</td>\n",
       "      <td>1577</td>\n",
       "    </tr>\n",
       "  </tbody>\n",
       "</table>\n",
       "</div>"
      ],
      "text/plain": [
       "      Period  Permits_Number\n",
       "0 2000-01-01            1727\n",
       "1 2000-02-01            1692\n",
       "2 2000-03-01            1651\n",
       "3 2000-04-01            1597\n",
       "4 2000-05-01            1543\n",
       "5 2000-06-01            1572\n",
       "6 2000-07-01            1542\n",
       "7 2000-08-01            1552\n",
       "8 2000-09-01            1570\n",
       "9 2000-10-01            1577"
      ]
     },
     "execution_count": 79,
     "metadata": {},
     "output_type": "execute_result"
    }
   ],
   "source": [
    "pm.head(10)"
   ]
  },
  {
   "cell_type": "markdown",
   "id": "d5370e08",
   "metadata": {},
   "source": [
    "## *Permit Valuation*"
   ]
  },
  {
   "cell_type": "code",
   "execution_count": 80,
   "id": "da0f18aa",
   "metadata": {},
   "outputs": [],
   "source": [
    "pv = pd.read_csv('permits_valuation.csv')[149:399].rename(\n",
    "            columns = {\"Unnamed: 1\": \"Period\" , \n",
    "                       \"Unnamed: 2\": \"Permits_Valuation\"}).reset_index(drop=True).drop(\n",
    "            columns=['New Privately Owned Housing Units Authorized by Building Permits in Permit-Issuing Places', \n",
    "                     'Unnamed: 3', 'Unnamed: 4', 'Unnamed: 5',\n",
    "                    'Unnamed: 6', 'Unnamed: 7', 'Unnamed: 8', 'Unnamed: 9', 'Unnamed: 10',\n",
    "                    'Unnamed: 11', 'Unnamed: 12', 'Unnamed: 13', 'Unnamed: 14'])"
   ]
  },
  {
   "cell_type": "code",
   "execution_count": 81,
   "id": "b84a30fa",
   "metadata": {},
   "outputs": [],
   "source": [
    "pv[\"Period\"] = pd.to_datetime(pv['Period'], format='mixed')\n",
    "\n",
    "pv[\"Permits_Valuation\"] = pv['Permits_Valuation'].str.replace(',', '').astype(float)"
   ]
  },
  {
   "cell_type": "code",
   "execution_count": 82,
   "id": "60cc87d0",
   "metadata": {},
   "outputs": [
    {
     "data": {
      "text/html": [
       "<div>\n",
       "<style scoped>\n",
       "    .dataframe tbody tr th:only-of-type {\n",
       "        vertical-align: middle;\n",
       "    }\n",
       "\n",
       "    .dataframe tbody tr th {\n",
       "        vertical-align: top;\n",
       "    }\n",
       "\n",
       "    .dataframe thead th {\n",
       "        text-align: right;\n",
       "    }\n",
       "</style>\n",
       "<table border=\"1\" class=\"dataframe\">\n",
       "  <thead>\n",
       "    <tr style=\"text-align: right;\">\n",
       "      <th></th>\n",
       "      <th>Period</th>\n",
       "      <th>Permits_Valuation</th>\n",
       "    </tr>\n",
       "  </thead>\n",
       "  <tbody>\n",
       "    <tr>\n",
       "      <th>0</th>\n",
       "      <td>2000-01-01</td>\n",
       "      <td>11753.4</td>\n",
       "    </tr>\n",
       "    <tr>\n",
       "      <th>1</th>\n",
       "      <td>2000-02-01</td>\n",
       "      <td>13301.5</td>\n",
       "    </tr>\n",
       "    <tr>\n",
       "      <th>2</th>\n",
       "      <td>2000-03-01</td>\n",
       "      <td>17325.8</td>\n",
       "    </tr>\n",
       "    <tr>\n",
       "      <th>3</th>\n",
       "      <td>2000-04-01</td>\n",
       "      <td>16060.1</td>\n",
       "    </tr>\n",
       "    <tr>\n",
       "      <th>4</th>\n",
       "      <td>2000-05-01</td>\n",
       "      <td>17428.2</td>\n",
       "    </tr>\n",
       "  </tbody>\n",
       "</table>\n",
       "</div>"
      ],
      "text/plain": [
       "      Period  Permits_Valuation\n",
       "0 2000-01-01            11753.4\n",
       "1 2000-02-01            13301.5\n",
       "2 2000-03-01            17325.8\n",
       "3 2000-04-01            16060.1\n",
       "4 2000-05-01            17428.2"
      ]
     },
     "execution_count": 82,
     "metadata": {},
     "output_type": "execute_result"
    }
   ],
   "source": [
    "pv.head()"
   ]
  },
  {
   "cell_type": "markdown",
   "id": "7fdd8c31",
   "metadata": {},
   "source": []
  },
  {
   "cell_type": "markdown",
   "id": "56bf8558",
   "metadata": {},
   "source": [
    "#####  We have all the factors available in the form of csv files. \n",
    "##### Now let's merge all these files and create one large monthly file consisting of all the factors as shown below "
   ]
  },
  {
   "cell_type": "code",
   "execution_count": 83,
   "id": "bfaac165",
   "metadata": {},
   "outputs": [],
   "source": [
    "dfs = [gdp, unemp, mos, cons, pm, pv, mortgage, housing_starts, pc, income, savings, feds, homes_sold, home_sale]"
   ]
  },
  {
   "cell_type": "code",
   "execution_count": 84,
   "id": "583bdf8d",
   "metadata": {},
   "outputs": [],
   "source": [
    "# Merge dataframes using outer join on the 'Period' column\n",
    "\n",
    "x_monthly = pd.merge(dfs[0], dfs[1], how='outer', on='Period')"
   ]
  },
  {
   "cell_type": "code",
   "execution_count": 85,
   "id": "5033db37",
   "metadata": {},
   "outputs": [],
   "source": [
    "for df in dfs[2:]:\n",
    "    x_monthly = pd.merge(x_monthly, df, how='outer', on='Period')"
   ]
  },
  {
   "cell_type": "code",
   "execution_count": 86,
   "id": "f967bf8f",
   "metadata": {},
   "outputs": [],
   "source": [
    "x_monthly.set_index('Period', inplace=True)"
   ]
  },
  {
   "cell_type": "code",
   "execution_count": 87,
   "id": "6b242a12",
   "metadata": {},
   "outputs": [
    {
     "name": "stdout",
     "output_type": "stream",
     "text": [
      "<class 'pandas.core.frame.DataFrame'>\n",
      "DatetimeIndex: 250 entries, 2000-01-01 to 2020-10-01\n",
      "Data columns (total 14 columns):\n",
      " #   Column                Non-Null Count  Dtype  \n",
      "---  ------                --------------  -----  \n",
      " 0   USA_GDP               250 non-null    float64\n",
      " 1   Unemployment          250 non-null    float64\n",
      " 2   Months of Supply      250 non-null    float64\n",
      " 3   Total_Construction    250 non-null    int32  \n",
      " 4   Permits_Number        250 non-null    int32  \n",
      " 5   Permits_Valuation     250 non-null    float64\n",
      " 6   Mortgage              250 non-null    float64\n",
      " 7   Housing_Starts        250 non-null    int32  \n",
      " 8   Personal Consumption  250 non-null    float64\n",
      " 9   Personal Income       250 non-null    float64\n",
      " 10  Savings               250 non-null    float64\n",
      " 11  Fed Funds Rate        250 non-null    float64\n",
      " 12  Homes Sold            250 non-null    int32  \n",
      " 13  Homes for Sale        250 non-null    int32  \n",
      "dtypes: float64(9), int32(5)\n",
      "memory usage: 24.4 KB\n"
     ]
    }
   ],
   "source": [
    "x_monthly.info()"
   ]
  },
  {
   "cell_type": "code",
   "execution_count": 88,
   "id": "bbab49c0",
   "metadata": {},
   "outputs": [
    {
     "name": "stdout",
     "output_type": "stream",
     "text": [
      "<class 'pandas.core.frame.DataFrame'>\n",
      "DatetimeIndex: 250 entries, 2000-01-01 to 2020-10-01\n",
      "Data columns (total 1 columns):\n",
      " #   Column  Non-Null Count  Dtype  \n",
      "---  ------  --------------  -----  \n",
      " 0   HPI     250 non-null    float64\n",
      "dtypes: float64(1)\n",
      "memory usage: 3.9 KB\n"
     ]
    }
   ],
   "source": [
    "y_monthly.info()"
   ]
  },
  {
   "cell_type": "code",
   "execution_count": 89,
   "id": "15abe700",
   "metadata": {},
   "outputs": [
    {
     "name": "stdout",
     "output_type": "stream",
     "text": [
      "USA_GDP                 float64\n",
      "Unemployment            float64\n",
      "Months of Supply        float64\n",
      "Total_Construction        int32\n",
      "Permits_Number            int32\n",
      "Permits_Valuation       float64\n",
      "Mortgage                float64\n",
      "Housing_Starts            int32\n",
      "Personal Consumption    float64\n",
      "Personal Income         float64\n",
      "Savings                 float64\n",
      "Fed Funds Rate          float64\n",
      "Homes Sold                int32\n",
      "Homes for Sale            int32\n",
      "dtype: object\n",
      "\n",
      "\n",
      "HPI    float64\n",
      "dtype: object\n"
     ]
    }
   ],
   "source": [
    "print(x_monthly.dtypes)\n",
    "print('\\n')\n",
    "print(y_monthly.dtypes)"
   ]
  },
  {
   "cell_type": "markdown",
   "id": "623438b5",
   "metadata": {},
   "source": [
    "### *Now let's build a Machine Learning(ML) model that explains how these factors impacted home prices over the last 20 years*"
   ]
  },
  {
   "cell_type": "code",
   "execution_count": 90,
   "id": "b27c71f8",
   "metadata": {},
   "outputs": [],
   "source": [
    "from sklearn.model_selection import train_test_split # Import the train_test_split function from scikit-learn for data splitting.\n",
    "from sklearn.linear_model import LinearRegression  # Import the LinearRegression model from scikit-learn.\n",
    "from sklearn import metrics # Import the metrics module from scikit-learn for evaluating model performance."
   ]
  },
  {
   "cell_type": "code",
   "execution_count": 91,
   "id": "5bacce8d",
   "metadata": {},
   "outputs": [],
   "source": [
    "# Creating x feature variable containing specific columns from the 'x_monthly'.\n",
    "\n",
    "x = x_monthly[['USA_GDP', 'Unemployment', 'Months of Supply', 'Total_Construction', \n",
    "               'Permits_Number', 'Permits_Valuation', 'Mortgage', 'Housing_Starts', \n",
    "               'Personal Consumption', 'Personal Income', 'Savings', 'Fed Funds Rate', \n",
    "               'Homes Sold', 'Homes for Sale']]"
   ]
  },
  {
   "cell_type": "code",
   "execution_count": 92,
   "id": "a75ca713",
   "metadata": {},
   "outputs": [
    {
     "data": {
      "text/html": [
       "<div>\n",
       "<style scoped>\n",
       "    .dataframe tbody tr th:only-of-type {\n",
       "        vertical-align: middle;\n",
       "    }\n",
       "\n",
       "    .dataframe tbody tr th {\n",
       "        vertical-align: top;\n",
       "    }\n",
       "\n",
       "    .dataframe thead th {\n",
       "        text-align: right;\n",
       "    }\n",
       "</style>\n",
       "<table border=\"1\" class=\"dataframe\">\n",
       "  <thead>\n",
       "    <tr style=\"text-align: right;\">\n",
       "      <th></th>\n",
       "      <th>USA_GDP</th>\n",
       "      <th>Unemployment</th>\n",
       "      <th>Months of Supply</th>\n",
       "      <th>Total_Construction</th>\n",
       "      <th>Permits_Number</th>\n",
       "      <th>Permits_Valuation</th>\n",
       "      <th>Mortgage</th>\n",
       "      <th>Housing_Starts</th>\n",
       "      <th>Personal Consumption</th>\n",
       "      <th>Personal Income</th>\n",
       "      <th>Savings</th>\n",
       "      <th>Fed Funds Rate</th>\n",
       "      <th>Homes Sold</th>\n",
       "      <th>Homes for Sale</th>\n",
       "    </tr>\n",
       "    <tr>\n",
       "      <th>Period</th>\n",
       "      <th></th>\n",
       "      <th></th>\n",
       "      <th></th>\n",
       "      <th></th>\n",
       "      <th></th>\n",
       "      <th></th>\n",
       "      <th></th>\n",
       "      <th></th>\n",
       "      <th></th>\n",
       "      <th></th>\n",
       "      <th></th>\n",
       "      <th></th>\n",
       "      <th></th>\n",
       "      <th></th>\n",
       "    </tr>\n",
       "  </thead>\n",
       "  <tbody>\n",
       "    <tr>\n",
       "      <th>2000-01-01</th>\n",
       "      <td>101.52</td>\n",
       "      <td>4.0</td>\n",
       "      <td>4.3</td>\n",
       "      <td>784940</td>\n",
       "      <td>1727</td>\n",
       "      <td>11753.4</td>\n",
       "      <td>8.21</td>\n",
       "      <td>1568</td>\n",
       "      <td>6542.9</td>\n",
       "      <td>9309.1</td>\n",
       "      <td>358.9</td>\n",
       "      <td>5.45</td>\n",
       "      <td>877</td>\n",
       "      <td>301</td>\n",
       "    </tr>\n",
       "    <tr>\n",
       "      <th>2000-02-01</th>\n",
       "      <td>101.58</td>\n",
       "      <td>4.1</td>\n",
       "      <td>4.3</td>\n",
       "      <td>793737</td>\n",
       "      <td>1692</td>\n",
       "      <td>13301.5</td>\n",
       "      <td>8.32</td>\n",
       "      <td>1570</td>\n",
       "      <td>6625.3</td>\n",
       "      <td>9345.2</td>\n",
       "      <td>324.3</td>\n",
       "      <td>5.73</td>\n",
       "      <td>879</td>\n",
       "      <td>301</td>\n",
       "    </tr>\n",
       "    <tr>\n",
       "      <th>2000-03-01</th>\n",
       "      <td>101.66</td>\n",
       "      <td>4.0</td>\n",
       "      <td>4.3</td>\n",
       "      <td>809459</td>\n",
       "      <td>1651</td>\n",
       "      <td>17325.8</td>\n",
       "      <td>8.24</td>\n",
       "      <td>1573</td>\n",
       "      <td>6686.5</td>\n",
       "      <td>9370.3</td>\n",
       "      <td>311.8</td>\n",
       "      <td>5.85</td>\n",
       "      <td>882</td>\n",
       "      <td>302</td>\n",
       "    </tr>\n",
       "    <tr>\n",
       "      <th>2000-04-01</th>\n",
       "      <td>101.73</td>\n",
       "      <td>3.8</td>\n",
       "      <td>4.4</td>\n",
       "      <td>804766</td>\n",
       "      <td>1597</td>\n",
       "      <td>16060.1</td>\n",
       "      <td>8.15</td>\n",
       "      <td>1576</td>\n",
       "      <td>6679.1</td>\n",
       "      <td>9418.3</td>\n",
       "      <td>347.8</td>\n",
       "      <td>6.02</td>\n",
       "      <td>884</td>\n",
       "      <td>303</td>\n",
       "    </tr>\n",
       "    <tr>\n",
       "      <th>2000-05-01</th>\n",
       "      <td>101.77</td>\n",
       "      <td>4.0</td>\n",
       "      <td>4.4</td>\n",
       "      <td>805005</td>\n",
       "      <td>1543</td>\n",
       "      <td>17428.2</td>\n",
       "      <td>8.52</td>\n",
       "      <td>1579</td>\n",
       "      <td>6709.7</td>\n",
       "      <td>9457.3</td>\n",
       "      <td>351.1</td>\n",
       "      <td>6.27</td>\n",
       "      <td>887</td>\n",
       "      <td>304</td>\n",
       "    </tr>\n",
       "    <tr>\n",
       "      <th>2000-06-01</th>\n",
       "      <td>101.76</td>\n",
       "      <td>4.0</td>\n",
       "      <td>4.8</td>\n",
       "      <td>795411</td>\n",
       "      <td>1572</td>\n",
       "      <td>17818.5</td>\n",
       "      <td>8.29</td>\n",
       "      <td>1582</td>\n",
       "      <td>6746.9</td>\n",
       "      <td>9483.3</td>\n",
       "      <td>355.3</td>\n",
       "      <td>6.53</td>\n",
       "      <td>889</td>\n",
       "      <td>304</td>\n",
       "    </tr>\n",
       "    <tr>\n",
       "      <th>2000-07-01</th>\n",
       "      <td>101.71</td>\n",
       "      <td>4.0</td>\n",
       "      <td>4.1</td>\n",
       "      <td>783795</td>\n",
       "      <td>1542</td>\n",
       "      <td>15181.9</td>\n",
       "      <td>8.15</td>\n",
       "      <td>1585</td>\n",
       "      <td>6768.5</td>\n",
       "      <td>9533.3</td>\n",
       "      <td>383.8</td>\n",
       "      <td>6.54</td>\n",
       "      <td>892</td>\n",
       "      <td>305</td>\n",
       "    </tr>\n",
       "    <tr>\n",
       "      <th>2000-08-01</th>\n",
       "      <td>101.62</td>\n",
       "      <td>4.1</td>\n",
       "      <td>4.4</td>\n",
       "      <td>805341</td>\n",
       "      <td>1552</td>\n",
       "      <td>17293.3</td>\n",
       "      <td>8.03</td>\n",
       "      <td>1587</td>\n",
       "      <td>6802.8</td>\n",
       "      <td>9591.5</td>\n",
       "      <td>389.9</td>\n",
       "      <td>6.50</td>\n",
       "      <td>895</td>\n",
       "      <td>306</td>\n",
       "    </tr>\n",
       "    <tr>\n",
       "      <th>2000-09-01</th>\n",
       "      <td>101.50</td>\n",
       "      <td>3.9</td>\n",
       "      <td>4.0</td>\n",
       "      <td>814330</td>\n",
       "      <td>1570</td>\n",
       "      <td>15073.9</td>\n",
       "      <td>7.91</td>\n",
       "      <td>1590</td>\n",
       "      <td>6888.6</td>\n",
       "      <td>9601.5</td>\n",
       "      <td>340.8</td>\n",
       "      <td>6.52</td>\n",
       "      <td>897</td>\n",
       "      <td>307</td>\n",
       "    </tr>\n",
       "    <tr>\n",
       "      <th>2000-10-01</th>\n",
       "      <td>101.36</td>\n",
       "      <td>3.9</td>\n",
       "      <td>4.0</td>\n",
       "      <td>816100</td>\n",
       "      <td>1577</td>\n",
       "      <td>15710.5</td>\n",
       "      <td>7.80</td>\n",
       "      <td>1593</td>\n",
       "      <td>6893.8</td>\n",
       "      <td>9627.4</td>\n",
       "      <td>360.3</td>\n",
       "      <td>6.51</td>\n",
       "      <td>900</td>\n",
       "      <td>307</td>\n",
       "    </tr>\n",
       "  </tbody>\n",
       "</table>\n",
       "</div>"
      ],
      "text/plain": [
       "            USA_GDP  Unemployment  Months of Supply  Total_Construction   \n",
       "Period                                                                    \n",
       "2000-01-01   101.52           4.0               4.3              784940  \\\n",
       "2000-02-01   101.58           4.1               4.3              793737   \n",
       "2000-03-01   101.66           4.0               4.3              809459   \n",
       "2000-04-01   101.73           3.8               4.4              804766   \n",
       "2000-05-01   101.77           4.0               4.4              805005   \n",
       "2000-06-01   101.76           4.0               4.8              795411   \n",
       "2000-07-01   101.71           4.0               4.1              783795   \n",
       "2000-08-01   101.62           4.1               4.4              805341   \n",
       "2000-09-01   101.50           3.9               4.0              814330   \n",
       "2000-10-01   101.36           3.9               4.0              816100   \n",
       "\n",
       "            Permits_Number  Permits_Valuation  Mortgage  Housing_Starts   \n",
       "Period                                                                    \n",
       "2000-01-01            1727            11753.4      8.21            1568  \\\n",
       "2000-02-01            1692            13301.5      8.32            1570   \n",
       "2000-03-01            1651            17325.8      8.24            1573   \n",
       "2000-04-01            1597            16060.1      8.15            1576   \n",
       "2000-05-01            1543            17428.2      8.52            1579   \n",
       "2000-06-01            1572            17818.5      8.29            1582   \n",
       "2000-07-01            1542            15181.9      8.15            1585   \n",
       "2000-08-01            1552            17293.3      8.03            1587   \n",
       "2000-09-01            1570            15073.9      7.91            1590   \n",
       "2000-10-01            1577            15710.5      7.80            1593   \n",
       "\n",
       "            Personal Consumption  Personal Income  Savings  Fed Funds Rate   \n",
       "Period                                                                       \n",
       "2000-01-01                6542.9           9309.1    358.9            5.45  \\\n",
       "2000-02-01                6625.3           9345.2    324.3            5.73   \n",
       "2000-03-01                6686.5           9370.3    311.8            5.85   \n",
       "2000-04-01                6679.1           9418.3    347.8            6.02   \n",
       "2000-05-01                6709.7           9457.3    351.1            6.27   \n",
       "2000-06-01                6746.9           9483.3    355.3            6.53   \n",
       "2000-07-01                6768.5           9533.3    383.8            6.54   \n",
       "2000-08-01                6802.8           9591.5    389.9            6.50   \n",
       "2000-09-01                6888.6           9601.5    340.8            6.52   \n",
       "2000-10-01                6893.8           9627.4    360.3            6.51   \n",
       "\n",
       "            Homes Sold  Homes for Sale  \n",
       "Period                                  \n",
       "2000-01-01         877             301  \n",
       "2000-02-01         879             301  \n",
       "2000-03-01         882             302  \n",
       "2000-04-01         884             303  \n",
       "2000-05-01         887             304  \n",
       "2000-06-01         889             304  \n",
       "2000-07-01         892             305  \n",
       "2000-08-01         895             306  \n",
       "2000-09-01         897             307  \n",
       "2000-10-01         900             307  "
      ]
     },
     "execution_count": 92,
     "metadata": {},
     "output_type": "execute_result"
    }
   ],
   "source": [
    "x.head(10)"
   ]
  },
  {
   "cell_type": "code",
   "execution_count": 93,
   "id": "f2f88024",
   "metadata": {},
   "outputs": [],
   "source": [
    "# 'y' Represents target variable for modeling\n",
    "\n",
    "y = y_monthly[['HPI']]"
   ]
  },
  {
   "cell_type": "code",
   "execution_count": 94,
   "id": "37b21fc2",
   "metadata": {},
   "outputs": [
    {
     "data": {
      "text/html": [
       "<div>\n",
       "<style scoped>\n",
       "    .dataframe tbody tr th:only-of-type {\n",
       "        vertical-align: middle;\n",
       "    }\n",
       "\n",
       "    .dataframe tbody tr th {\n",
       "        vertical-align: top;\n",
       "    }\n",
       "\n",
       "    .dataframe thead th {\n",
       "        text-align: right;\n",
       "    }\n",
       "</style>\n",
       "<table border=\"1\" class=\"dataframe\">\n",
       "  <thead>\n",
       "    <tr style=\"text-align: right;\">\n",
       "      <th></th>\n",
       "      <th>HPI</th>\n",
       "    </tr>\n",
       "    <tr>\n",
       "      <th>DATE</th>\n",
       "      <th></th>\n",
       "    </tr>\n",
       "  </thead>\n",
       "  <tbody>\n",
       "    <tr>\n",
       "      <th>2000-01-01</th>\n",
       "      <td>100.55</td>\n",
       "    </tr>\n",
       "    <tr>\n",
       "      <th>2000-02-01</th>\n",
       "      <td>101.34</td>\n",
       "    </tr>\n",
       "    <tr>\n",
       "      <th>2000-03-01</th>\n",
       "      <td>102.13</td>\n",
       "    </tr>\n",
       "  </tbody>\n",
       "</table>\n",
       "</div>"
      ],
      "text/plain": [
       "               HPI\n",
       "DATE              \n",
       "2000-01-01  100.55\n",
       "2000-02-01  101.34\n",
       "2000-03-01  102.13"
      ]
     },
     "execution_count": 94,
     "metadata": {},
     "output_type": "execute_result"
    }
   ],
   "source": [
    "y.head(3)"
   ]
  },
  {
   "cell_type": "code",
   "execution_count": 95,
   "id": "5ddae00a",
   "metadata": {},
   "outputs": [],
   "source": [
    "# Split the feature data 'x' and target variable 'y' into training and testing sets.\n",
    "\n",
    "X_train, X_test, y_train, y_test = train_test_split(x, y, test_size=0.3, shuffle=False, stratify=None)"
   ]
  },
  {
   "cell_type": "code",
   "execution_count": 96,
   "id": "2c63af76",
   "metadata": {},
   "outputs": [],
   "source": [
    "# Creating Linear Regression model instance\n",
    "\n",
    "model = LinearRegression()"
   ]
  },
  {
   "cell_type": "code",
   "execution_count": 97,
   "id": "1eece0c6",
   "metadata": {},
   "outputs": [
    {
     "data": {
      "text/html": [
       "<style>#sk-container-id-1 {color: black;}#sk-container-id-1 pre{padding: 0;}#sk-container-id-1 div.sk-toggleable {background-color: white;}#sk-container-id-1 label.sk-toggleable__label {cursor: pointer;display: block;width: 100%;margin-bottom: 0;padding: 0.3em;box-sizing: border-box;text-align: center;}#sk-container-id-1 label.sk-toggleable__label-arrow:before {content: \"▸\";float: left;margin-right: 0.25em;color: #696969;}#sk-container-id-1 label.sk-toggleable__label-arrow:hover:before {color: black;}#sk-container-id-1 div.sk-estimator:hover label.sk-toggleable__label-arrow:before {color: black;}#sk-container-id-1 div.sk-toggleable__content {max-height: 0;max-width: 0;overflow: hidden;text-align: left;background-color: #f0f8ff;}#sk-container-id-1 div.sk-toggleable__content pre {margin: 0.2em;color: black;border-radius: 0.25em;background-color: #f0f8ff;}#sk-container-id-1 input.sk-toggleable__control:checked~div.sk-toggleable__content {max-height: 200px;max-width: 100%;overflow: auto;}#sk-container-id-1 input.sk-toggleable__control:checked~label.sk-toggleable__label-arrow:before {content: \"▾\";}#sk-container-id-1 div.sk-estimator input.sk-toggleable__control:checked~label.sk-toggleable__label {background-color: #d4ebff;}#sk-container-id-1 div.sk-label input.sk-toggleable__control:checked~label.sk-toggleable__label {background-color: #d4ebff;}#sk-container-id-1 input.sk-hidden--visually {border: 0;clip: rect(1px 1px 1px 1px);clip: rect(1px, 1px, 1px, 1px);height: 1px;margin: -1px;overflow: hidden;padding: 0;position: absolute;width: 1px;}#sk-container-id-1 div.sk-estimator {font-family: monospace;background-color: #f0f8ff;border: 1px dotted black;border-radius: 0.25em;box-sizing: border-box;margin-bottom: 0.5em;}#sk-container-id-1 div.sk-estimator:hover {background-color: #d4ebff;}#sk-container-id-1 div.sk-parallel-item::after {content: \"\";width: 100%;border-bottom: 1px solid gray;flex-grow: 1;}#sk-container-id-1 div.sk-label:hover label.sk-toggleable__label {background-color: #d4ebff;}#sk-container-id-1 div.sk-serial::before {content: \"\";position: absolute;border-left: 1px solid gray;box-sizing: border-box;top: 0;bottom: 0;left: 50%;z-index: 0;}#sk-container-id-1 div.sk-serial {display: flex;flex-direction: column;align-items: center;background-color: white;padding-right: 0.2em;padding-left: 0.2em;position: relative;}#sk-container-id-1 div.sk-item {position: relative;z-index: 1;}#sk-container-id-1 div.sk-parallel {display: flex;align-items: stretch;justify-content: center;background-color: white;position: relative;}#sk-container-id-1 div.sk-item::before, #sk-container-id-1 div.sk-parallel-item::before {content: \"\";position: absolute;border-left: 1px solid gray;box-sizing: border-box;top: 0;bottom: 0;left: 50%;z-index: -1;}#sk-container-id-1 div.sk-parallel-item {display: flex;flex-direction: column;z-index: 1;position: relative;background-color: white;}#sk-container-id-1 div.sk-parallel-item:first-child::after {align-self: flex-end;width: 50%;}#sk-container-id-1 div.sk-parallel-item:last-child::after {align-self: flex-start;width: 50%;}#sk-container-id-1 div.sk-parallel-item:only-child::after {width: 0;}#sk-container-id-1 div.sk-dashed-wrapped {border: 1px dashed gray;margin: 0 0.4em 0.5em 0.4em;box-sizing: border-box;padding-bottom: 0.4em;background-color: white;}#sk-container-id-1 div.sk-label label {font-family: monospace;font-weight: bold;display: inline-block;line-height: 1.2em;}#sk-container-id-1 div.sk-label-container {text-align: center;}#sk-container-id-1 div.sk-container {/* jupyter's `normalize.less` sets `[hidden] { display: none; }` but bootstrap.min.css set `[hidden] { display: none !important; }` so we also need the `!important` here to be able to override the default hidden behavior on the sphinx rendered scikit-learn.org. See: https://github.com/scikit-learn/scikit-learn/issues/21755 */display: inline-block !important;position: relative;}#sk-container-id-1 div.sk-text-repr-fallback {display: none;}</style><div id=\"sk-container-id-1\" class=\"sk-top-container\"><div class=\"sk-text-repr-fallback\"><pre>LinearRegression()</pre><b>In a Jupyter environment, please rerun this cell to show the HTML representation or trust the notebook. <br />On GitHub, the HTML representation is unable to render, please try loading this page with nbviewer.org.</b></div><div class=\"sk-container\" hidden><div class=\"sk-item\"><div class=\"sk-estimator sk-toggleable\"><input class=\"sk-toggleable__control sk-hidden--visually\" id=\"sk-estimator-id-1\" type=\"checkbox\" checked><label for=\"sk-estimator-id-1\" class=\"sk-toggleable__label sk-toggleable__label-arrow\">LinearRegression</label><div class=\"sk-toggleable__content\"><pre>LinearRegression()</pre></div></div></div></div></div>"
      ],
      "text/plain": [
       "LinearRegression()"
      ]
     },
     "execution_count": 97,
     "metadata": {},
     "output_type": "execute_result"
    }
   ],
   "source": [
    "# Train the model using corresponding feature and target values\n",
    "\n",
    "model.fit(X_train, y_train)"
   ]
  },
  {
   "cell_type": "code",
   "execution_count": 98,
   "id": "3861c4c8",
   "metadata": {},
   "outputs": [],
   "source": [
    "# Make predictions on the test data 'X_test'\n",
    "\n",
    "y_predict = model.predict(X_test)"
   ]
  },
  {
   "cell_type": "code",
   "execution_count": 99,
   "id": "9bc29cf4",
   "metadata": {},
   "outputs": [
    {
     "data": {
      "text/plain": [
       "array([[165.38715941],\n",
       "       [165.48535224],\n",
       "       [166.89876613]])"
      ]
     },
     "execution_count": 99,
     "metadata": {},
     "output_type": "execute_result"
    }
   ],
   "source": [
    "y_predict[0:3]"
   ]
  },
  {
   "cell_type": "code",
   "execution_count": 100,
   "id": "675295ba",
   "metadata": {},
   "outputs": [
    {
     "name": "stdout",
     "output_type": "stream",
     "text": [
      "[[-1.45513684e+00  1.45333644e+00  1.21689253e+00  1.39084353e-05\n",
      "   6.61998783e-03  5.25931451e-05  7.32080321e-01  5.20226433e-03\n",
      "   8.50379674e-03  7.96274564e-03 -1.33319422e-02  4.64518477e-01\n",
      "  -3.26916548e-02  1.68168783e-01]]\n"
     ]
    }
   ],
   "source": [
    "#  Finding out the relationship between each feature and the target variable.\n",
    "\n",
    "print(model.coef_)"
   ]
  },
  {
   "cell_type": "code",
   "execution_count": 101,
   "id": "b96d225a",
   "metadata": {},
   "outputs": [
    {
     "name": "stdout",
     "output_type": "stream",
     "text": [
      "[51.13669871]\n"
     ]
    }
   ],
   "source": [
    "# Printing estimated values(intercepts) when all features are zero\n",
    "\n",
    "print(model.intercept_)"
   ]
  },
  {
   "cell_type": "code",
   "execution_count": 102,
   "id": "28e667ec",
   "metadata": {},
   "outputs": [
    {
     "name": "stdout",
     "output_type": "stream",
     "text": [
      "0.9964283254544176\n"
     ]
    }
   ],
   "source": [
    "print(model.score(X_train, y_train))"
   ]
  },
  {
   "cell_type": "code",
   "execution_count": 103,
   "id": "0eff90c9",
   "metadata": {},
   "outputs": [
    {
     "name": "stdout",
     "output_type": "stream",
     "text": [
      "0.750556023738618\n"
     ]
    }
   ],
   "source": [
    "print(model.score(X_test, y_test))"
   ]
  },
  {
   "cell_type": "markdown",
   "id": "417a313e",
   "metadata": {},
   "source": [
    "##### **To assess the performance of the model, below evaluation metrics can be used**"
   ]
  },
  {
   "cell_type": "code",
   "execution_count": 104,
   "id": "7c3e4c3c",
   "metadata": {},
   "outputs": [
    {
     "name": "stdout",
     "output_type": "stream",
     "text": [
      "Mean Absolute Error: 5.4747252744833945\n"
     ]
    }
   ],
   "source": [
    "print('Mean Absolute Error:', metrics.mean_absolute_error(y_test, y_predict))"
   ]
  },
  {
   "cell_type": "code",
   "execution_count": 105,
   "id": "fff02443",
   "metadata": {},
   "outputs": [
    {
     "name": "stdout",
     "output_type": "stream",
     "text": [
      "Mean Squared Error: 74.93805972026584\n"
     ]
    }
   ],
   "source": [
    "print('Mean Squared Error:', metrics.mean_squared_error(y_test, y_predict))"
   ]
  },
  {
   "cell_type": "code",
   "execution_count": 106,
   "id": "d40d8f37",
   "metadata": {},
   "outputs": [
    {
     "name": "stdout",
     "output_type": "stream",
     "text": [
      "Root Mean Squared Error: 8.65667717546784\n"
     ]
    }
   ],
   "source": [
    "import numpy as np\n",
    "\n",
    "print('Root Mean Squared Error:', np.sqrt(metrics.mean_squared_error(y_test, y_predict)))"
   ]
  },
  {
   "cell_type": "code",
   "execution_count": 107,
   "id": "e9bcfc2f",
   "metadata": {},
   "outputs": [
    {
     "name": "stdout",
     "output_type": "stream",
     "text": [
      "              HPI\n",
      "count   75.000000\n",
      "mean   193.426133\n",
      "std     17.449359\n",
      "min    165.220000\n",
      "25%    177.910000\n",
      "50%    193.770000\n",
      "75%    207.265000\n",
      "max    229.890000\n"
     ]
    }
   ],
   "source": [
    "print(y_test.describe())"
   ]
  },
  {
   "cell_type": "markdown",
   "id": "171b95a7",
   "metadata": {},
   "source": [
    "### Observations :\n",
    "#### ***The Root Mean Squared error is less than 10% of the mean value of HPI, and lesser than the standard deviation of the HPI in the test data. This indicates the the model is doing good in predicting values.*** "
   ]
  },
  {
   "cell_type": "code",
   "execution_count": 108,
   "id": "2e2de2dd",
   "metadata": {},
   "outputs": [],
   "source": [
    "# Actual target values from y_test vs predicted values by the model\n",
    "\n",
    "result = pd.DataFrame({'Actual': y_test.squeeze(), 'Predicted': y_predict.squeeze()})"
   ]
  },
  {
   "cell_type": "code",
   "execution_count": 109,
   "id": "6882f00f",
   "metadata": {},
   "outputs": [
    {
     "data": {
      "text/html": [
       "<div>\n",
       "<style scoped>\n",
       "    .dataframe tbody tr th:only-of-type {\n",
       "        vertical-align: middle;\n",
       "    }\n",
       "\n",
       "    .dataframe tbody tr th {\n",
       "        vertical-align: top;\n",
       "    }\n",
       "\n",
       "    .dataframe thead th {\n",
       "        text-align: right;\n",
       "    }\n",
       "</style>\n",
       "<table border=\"1\" class=\"dataframe\">\n",
       "  <thead>\n",
       "    <tr style=\"text-align: right;\">\n",
       "      <th></th>\n",
       "      <th>Actual</th>\n",
       "      <th>Predicted</th>\n",
       "    </tr>\n",
       "    <tr>\n",
       "      <th>DATE</th>\n",
       "      <th></th>\n",
       "      <th></th>\n",
       "    </tr>\n",
       "  </thead>\n",
       "  <tbody>\n",
       "    <tr>\n",
       "      <th>2014-08-01</th>\n",
       "      <td>165.22</td>\n",
       "      <td>165.387159</td>\n",
       "    </tr>\n",
       "    <tr>\n",
       "      <th>2014-09-01</th>\n",
       "      <td>165.91</td>\n",
       "      <td>165.485352</td>\n",
       "    </tr>\n",
       "    <tr>\n",
       "      <th>2014-10-01</th>\n",
       "      <td>166.64</td>\n",
       "      <td>166.898766</td>\n",
       "    </tr>\n",
       "    <tr>\n",
       "      <th>2014-11-01</th>\n",
       "      <td>167.34</td>\n",
       "      <td>167.483911</td>\n",
       "    </tr>\n",
       "    <tr>\n",
       "      <th>2014-12-01</th>\n",
       "      <td>168.05</td>\n",
       "      <td>166.879945</td>\n",
       "    </tr>\n",
       "    <tr>\n",
       "      <th>2015-01-01</th>\n",
       "      <td>168.63</td>\n",
       "      <td>166.264132</td>\n",
       "    </tr>\n",
       "    <tr>\n",
       "      <th>2015-02-01</th>\n",
       "      <td>169.13</td>\n",
       "      <td>166.814136</td>\n",
       "    </tr>\n",
       "    <tr>\n",
       "      <th>2015-03-01</th>\n",
       "      <td>169.80</td>\n",
       "      <td>168.560385</td>\n",
       "    </tr>\n",
       "    <tr>\n",
       "      <th>2015-04-01</th>\n",
       "      <td>170.30</td>\n",
       "      <td>170.194607</td>\n",
       "    </tr>\n",
       "    <tr>\n",
       "      <th>2015-05-01</th>\n",
       "      <td>170.88</td>\n",
       "      <td>172.869396</td>\n",
       "    </tr>\n",
       "  </tbody>\n",
       "</table>\n",
       "</div>"
      ],
      "text/plain": [
       "            Actual   Predicted\n",
       "DATE                          \n",
       "2014-08-01  165.22  165.387159\n",
       "2014-09-01  165.91  165.485352\n",
       "2014-10-01  166.64  166.898766\n",
       "2014-11-01  167.34  167.483911\n",
       "2014-12-01  168.05  166.879945\n",
       "2015-01-01  168.63  166.264132\n",
       "2015-02-01  169.13  166.814136\n",
       "2015-03-01  169.80  168.560385\n",
       "2015-04-01  170.30  170.194607\n",
       "2015-05-01  170.88  172.869396"
      ]
     },
     "execution_count": 109,
     "metadata": {},
     "output_type": "execute_result"
    }
   ],
   "source": [
    "result.head(10)"
   ]
  },
  {
   "cell_type": "markdown",
   "id": "e6a87bae",
   "metadata": {},
   "source": [
    "### *To check the assumptions and performance of a linear regression model, we can use different types of \"Residual Plots\".*"
   ]
  },
  {
   "cell_type": "code",
   "execution_count": 110,
   "id": "66db2408",
   "metadata": {},
   "outputs": [],
   "source": [
    "# Difference between predicted and actual values\n",
    "\n",
    "residuals = y_test-y_predict"
   ]
  },
  {
   "cell_type": "markdown",
   "id": "fa128bee",
   "metadata": {},
   "source": [
    "***Scatterplot of Residuals vs. Predicted Values:***"
   ]
  },
  {
   "cell_type": "code",
   "execution_count": 111,
   "id": "0578ce27",
   "metadata": {},
   "outputs": [
    {
     "data": {
      "image/png": "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",
      "text/plain": [
       "<Figure size 640x480 with 1 Axes>"
      ]
     },
     "metadata": {},
     "output_type": "display_data"
    }
   ],
   "source": [
    "import matplotlib.pyplot as plt\n",
    "\n",
    "plt.scatter(y_predict, residuals)\n",
    "plt.xlabel(\"Predicted Values\")\n",
    "plt.ylabel(\"Residuals\")\n",
    "plt.axhline(y=0, color='r', linestyle='--')\n",
    "plt.title(\"Residuals vs. Predicted Values\")\n",
    "plt.show()"
   ]
  },
  {
   "cell_type": "markdown",
   "id": "96f4910b",
   "metadata": {},
   "source": [
    "***Histogram or Density Plot of Residuals:***"
   ]
  },
  {
   "cell_type": "code",
   "execution_count": 112,
   "id": "30f91fa6",
   "metadata": {},
   "outputs": [
    {
     "data": {
      "image/png": "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",
      "text/plain": [
       "<Figure size 640x480 with 1 Axes>"
      ]
     },
     "metadata": {},
     "output_type": "display_data"
    }
   ],
   "source": [
    "import seaborn as sns\n",
    "\n",
    "sns.histplot(residuals, kde=True)\n",
    "plt.xlabel(\"Residuals\")\n",
    "plt.ylabel(\"Density\")\n",
    "plt.title(\"Residual Distribution\")\n",
    "plt.show()"
   ]
  },
  {
   "cell_type": "markdown",
   "id": "14431148",
   "metadata": {},
   "source": [
    "***QQ Plot (Quantile-Quantile Plot):***"
   ]
  },
  {
   "cell_type": "code",
   "execution_count": 113,
   "id": "e3cad32e",
   "metadata": {},
   "outputs": [
    {
     "name": "stdout",
     "output_type": "stream",
     "text": [
      "Requirement already satisfied: statsmodels in c:\\users\\pavan\\appdata\\local\\programs\\python\\python311\\lib\\site-packages (0.14.0)\n",
      "Requirement already satisfied: numpy>=1.18 in c:\\users\\pavan\\appdata\\local\\programs\\python\\python311\\lib\\site-packages (from statsmodels) (1.24.3)\n",
      "Requirement already satisfied: scipy!=1.9.2,>=1.4 in c:\\users\\pavan\\appdata\\local\\programs\\python\\python311\\lib\\site-packages (from statsmodels) (1.11.1)\n",
      "Requirement already satisfied: pandas>=1.0 in c:\\users\\pavan\\appdata\\local\\programs\\python\\python311\\lib\\site-packages (from statsmodels) (2.0.1)\n",
      "Requirement already satisfied: patsy>=0.5.2 in c:\\users\\pavan\\appdata\\local\\programs\\python\\python311\\lib\\site-packages (from statsmodels) (0.5.3)\n",
      "Requirement already satisfied: packaging>=21.3 in c:\\users\\pavan\\appdata\\local\\programs\\python\\python311\\lib\\site-packages (from statsmodels) (23.1)\n",
      "Requirement already satisfied: python-dateutil>=2.8.2 in c:\\users\\pavan\\appdata\\local\\programs\\python\\python311\\lib\\site-packages (from pandas>=1.0->statsmodels) (2.8.2)\n",
      "Requirement already satisfied: pytz>=2020.1 in c:\\users\\pavan\\appdata\\local\\programs\\python\\python311\\lib\\site-packages (from pandas>=1.0->statsmodels) (2023.3)\n",
      "Requirement already satisfied: tzdata>=2022.1 in c:\\users\\pavan\\appdata\\local\\programs\\python\\python311\\lib\\site-packages (from pandas>=1.0->statsmodels) (2023.3)\n",
      "Requirement already satisfied: six in c:\\users\\pavan\\appdata\\local\\programs\\python\\python311\\lib\\site-packages (from patsy>=0.5.2->statsmodels) (1.16.0)\n"
     ]
    },
    {
     "name": "stderr",
     "output_type": "stream",
     "text": [
      "\n",
      "[notice] A new release of pip available: 22.3.1 -> 23.2.1\n",
      "[notice] To update, run: python.exe -m pip install --upgrade pip\n"
     ]
    }
   ],
   "source": [
    "!pip install statsmodels"
   ]
  },
  {
   "cell_type": "code",
   "execution_count": 114,
   "id": "2c85d835",
   "metadata": {},
   "outputs": [
    {
     "data": {
      "image/png": "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",
      "text/plain": [
       "<Figure size 640x480 with 1 Axes>"
      ]
     },
     "metadata": {},
     "output_type": "display_data"
    }
   ],
   "source": [
    "import statsmodels.api as sm\n",
    "import scipy.stats as stats\n",
    "\n",
    "sm.qqplot(residuals, stats.t, fit=True, line='45')\n",
    "plt.xlabel(\"Theoretical Quantiles\")\n",
    "plt.ylabel(\"Sample Quantiles\")\n",
    "plt.title(\"QQ Plot of Residuals\")\n",
    "plt.show()"
   ]
  },
  {
   "cell_type": "code",
   "execution_count": null,
   "id": "875510e5",
   "metadata": {},
   "outputs": [],
   "source": []
  }
 ],
 "metadata": {
  "kernelspec": {
   "display_name": "Python 3 (ipykernel)",
   "language": "python",
   "name": "python3"
  },
  "language_info": {
   "codemirror_mode": {
    "name": "ipython",
    "version": 3
   },
   "file_extension": ".py",
   "mimetype": "text/x-python",
   "name": "python",
   "nbconvert_exporter": "python",
   "pygments_lexer": "ipython3",
   "version": "3.11.3"
  }
 },
 "nbformat": 4,
 "nbformat_minor": 5
}
plain": [
       "'C:\\\\Users\\\\pavan'"
      ]
     },
     "execution_count": 1,
     "metadata": {},
     "output_type": "execute_result"
    }
   ],
   "source": [
    "import os\n",
    "os.getcwd()"
   ]
  },
  {
   "cell_type": "code",
   "execution_count": 2,
   "id": "712305f2",
   "metadata": {},
   "outputs": [],
   "source": [
    "# Changing the directory where all the downloaded data is present\n",
    "\n",
    "os.chdir(\"C:/Users/pavan/HomeProjectFiles\")"
   ]
  },
  {
   "cell_type": "code",
   "execution_count": 3,
   "id": "71646e59",
   "metadata": {},
   "outputs": [],
   "source": [
    "# Setting up the target variable which is \"Home Price Index(HPI)\".\n",
    "# This was taken from \"S&P Case-Schiller Home Price Index\" : fred.stlouisfed.org/series/CSUSHPISA\n",
    "\n",
    "import pandas as pd\n",
    "\n",
    "# Using Pandas, read the HPI csv file and rename with the relevant names\n",
    "\n",
    "y_monthly = pd.read_csv(\"Home_Price_Index.csv\", parse_dates=True, \n",
    "                        index_col=0).rename(columns={'DATE':'Period', 'CSUSHPISA':'HPI'})"
   ]
  },
  {
   "cell_type": "code",
   "execution_count": 4,
   "id": "76caf499",
   "metadata": {},
   "outputs": [
    {
     "name": "stdout",
     "output_type": "stream",
     "text": [
      "<class 'pandas.core.frame.DataFrame'>\n",
      "DatetimeIndex: 250 entries, 2000-01-01 to 2020-10-01\n",
      "Data columns (total 1 columns):\n",
      " #   Column  Non-Null Count  Dtype  \n",
      "---  ------  --------------  -----  \n",
      " 0   HPI     250 non-null    float64\n",
      "dtypes: float64(1)\n",
      "memory usage: 3.9 KB\n"
     ]
    }
   ],
   "source": [
    "y_monthly.info()"
   ]
  },
  {
   "cell_type": "code",
   "execution_count": 5,
   "id": "fcb87a49",
   "metadata": {},
   "outputs": [],
   "source": [
    "# Rounding the HPI to two decimal digits\n",
    "\n",
    "y_monthly[\"HPI\"] = y_monthly[\"HPI\"].round(2)"
   ]
  },
  {
   "cell_type": "code",
   "execution_count": 6,
   "id": "65c436e2",
   "metadata": {},
   "outputs": [
    {
     "data": {
      "text/html": [
       "<div>\n",
       "<style scoped>\n",
       "    .dataframe tbody tr th:only-of-type {\n",
       "        vertical-align: middle;\n",
       "    }\n",
       "\n",
       "    .dataframe tbody tr th {\n",
       "        vertical-align: top;\n",
       "    }\n",
       "\n",
       "    .dataframe thead th {\n",
       "        text-align: right;\n",
       "    }\n",
       "</style>\n",
       "<table border=\"1\" class=\"dataframe\">\n",
       "  <thead>\n",
       "    <tr style=\"text-align: right;\">\n",
       "      <th></th>\n",
       "      <th>HPI</th>\n",
       "    </tr>\n",
       "    <tr>\n",
       "      <th>DATE</th>\n",
       "      <th></th>\n",
       "    </tr>\n",
       "  </thead>\n",
       "  <tbody>\n",
       "    <tr>\n",
       "      <th>2000-01-01</th>\n",
       "      <td>100.55</td>\n",
       "    </tr>\n",
       "    <tr>\n",
       "      <th>2000-02-01</th>\n",
       "      <td>101.34</td>\n",
       "    </tr>\n",
       "    <tr>\n",
       "      <th>2000-03-01</th>\n",
       "      <td>102.13</td>\n",
       "    </tr>\n",
       "    <tr>\n",
       "      <th>2000-04-01</th>\n",
       "      <td>102.92</td>\n",
       "    </tr>\n",
       "    <tr>\n",
       "      <th>2000-05-01</th>\n",
       "      <td>103.68</td>\n",
       "    </tr>\n",
       "  </tbody>\n",
       "</table>\n",
       "</div>"
      ],
      "text/plain": [
       "               HPI\n",
       "DATE              \n",
       "2000-01-01  100.55\n",
       "2000-02-01  101.34\n",
       "2000-03-01  102.13\n",
       "2000-04-01  102.92\n",
       "2000-05-01  103.68"
      ]
     },
     "execution_count": 6,
     "metadata": {},
     "output_type": "execute_result"
    }
   ],
   "source": [
    "# View the first five rows\n",
    "\n",
    "y_monthly.head()"
   ]
  },
  {
   "cell_type": "markdown",
   "id": "953c6189",
   "metadata": {},
   "source": [
    "### Reseached a list of supply and demand factors that typically affect home prices in USA. These include :\n",
    "\n",
    "####   a. Homes for sale                                       \n",
    "####   b. Homes sold                                               \n",
    "####   c. Federal Funds Rate  \n",
    "####   d. Personal Savings\n",
    "####   e. Disposable Personal Income\n",
    "####   f.  Personal Consumption\n",
    "####   g. Housing Starts\n",
    "####   f.  Mortgage Rates\n",
    "####   g. Months of Supply\n",
    "####   h. Unemployment\n",
    "####   i.  USA GDP\n"
   ]
  },
  {
   "cell_type": "markdown",
   "id": "f250be38",
   "metadata": {},
   "source": [
    "## *Grabbing \"Homes for sale\" data*"
   ]
  },
  {
   "cell_type": "code",
   "execution_count": 7,
   "id": "b7c7fbf6",
   "metadata": {},
   "outputs": [],
   "source": [
    "# Source : U.S. Census Bureau\n",
    "\n",
    "home_sale = pd.read_csv(\"Home_for_Sale.csv\")[46:68].rename(\n",
    "            columns = {\"Houses For Sale by Region\": \"Period\" , \"Unnamed: 1\": \"Homes for Sale\"}).reset_index(drop=True).drop(\n",
    "            columns=['Unnamed: 2', 'Unnamed: 3', 'Unnamed: 4', 'Unnamed: 5'])"
   ]
  },
  {
   "cell_type": "code",
   "execution_count": 8,
   "id": "de337de3",
   "metadata": {},
   "outputs": [
    {
     "data": {
      "text/html": [
       "<div>\n",
       "<style scoped>\n",
       "    .dataframe tbody tr th:only-of-type {\n",
       "        vertical-align: middle;\n",
       "    }\n",
       "\n",
       "    .dataframe tbody tr th {\n",
       "        vertical-align: top;\n",
       "    }\n",
       "\n",
       "    .dataframe thead th {\n",
       "        text-align: right;\n",
       "    }\n",
       "</style>\n",
       "<table border=\"1\" class=\"dataframe\">\n",
       "  <thead>\n",
       "    <tr style=\"text-align: right;\">\n",
       "      <th></th>\n",
       "      <th>Period</th>\n",
       "      <th>Homes for Sale</th>\n",
       "    </tr>\n",
       "  </thead>\n",
       "  <tbody>\n",
       "    <tr>\n",
       "      <th>0</th>\n",
       "      <td>2000</td>\n",
       "      <td>301</td>\n",
       "    </tr>\n",
       "    <tr>\n",
       "      <th>1</th>\n",
       "      <td>2001</td>\n",
       "      <td>310</td>\n",
       "    </tr>\n",
       "    <tr>\n",
       "      <th>2</th>\n",
       "      <td>2002</td>\n",
       "      <td>344</td>\n",
       "    </tr>\n",
       "    <tr>\n",
       "      <th>3</th>\n",
       "      <td>2003</td>\n",
       "      <td>377</td>\n",
       "    </tr>\n",
       "    <tr>\n",
       "      <th>4</th>\n",
       "      <td>2004</td>\n",
       "      <td>431</td>\n",
       "    </tr>\n",
       "  </tbody>\n",
       "</table>\n",
       "</div>"
      ],
      "text/plain": [
       "  Period Homes for Sale\n",
       "0   2000            301\n",
       "1   2001            310\n",
       "2   2002            344\n",
       "3   2003            377\n",
       "4   2004            431"
      ]
     },
     "execution_count": 8,
     "metadata": {},
     "output_type": "execute_result"
    }
   ],
   "source": [
    "home_sale.head()"
   ]
  },
  {
   "cell_type": "code",
   "execution_count": 9,
   "id": "1e101638",
   "metadata": {},
   "outputs": [
    {
     "name": "stdout",
     "output_type": "stream",
     "text": [
      "<class 'pandas.core.frame.DataFrame'>\n",
      "RangeIndex: 22 entries, 0 to 21\n",
      "Data columns (total 2 columns):\n",
      " #   Column          Non-Null Count  Dtype \n",
      "---  ------          --------------  ----- \n",
      " 0   Period          22 non-null     object\n",
      " 1   Homes for Sale  22 non-null     object\n",
      "dtypes: object(2)\n",
      "memory usage: 484.0+ bytes\n"
     ]
    }
   ],
   "source": [
    "home_sale.info()"
   ]
  },
  {
   "cell_type": "code",
   "execution_count": 10,
   "id": "b8c8e36e",
   "metadata": {},
   "outputs": [],
   "source": [
    "# Converting the \"Period\" column to Python's datetime form and \"Homes for Sale\" column to int\n",
    "\n",
    "home_sale[\"Period\"] = pd.to_datetime(home_sale['Period'], format='%Y')\n",
    "home_sale[\"Homes for Sale\"] = home_sale[\"Homes for Sale\"].astype(int)"
   ]
  },
  {
   "cell_type": "code",
   "execution_count": 11,
   "id": "1473e1e7",
   "metadata": {},
   "outputs": [
    {
     "name": "stdout",
     "output_type": "stream",
     "text": [
      "<class 'pandas.core.frame.DataFrame'>\n",
      "RangeIndex: 22 entries, 0 to 21\n",
      "Data columns (total 2 columns):\n",
      " #   Column          Non-Null Count  Dtype         \n",
      "---  ------          --------------  -----         \n",
      " 0   Period          22 non-null     datetime64[ns]\n",
      " 1   Homes for Sale  22 non-null     int32         \n",
      "dtypes: datetime64[ns](1), int32(1)\n",
      "memory usage: 396.0 bytes\n"
     ]
    }
   ],
   "source": [
    "# Successfully changed the dtypes of columns\n",
    "\n",
    "home_sale.info()"
   ]
  },
  {
   "cell_type": "code",
   "execution_count": 12,
   "id": "4476386c",
   "metadata": {},
   "outputs": [],
   "source": [
    "# Set 'Period' as the index\n",
    "\n",
    "home_sale.set_index('Period', inplace=True)\n",
    "\n",
    "# Up-sampling the annual data to Monthly\n",
    "\n",
    "home_sale = home_sale.resample('MS').mean().round()\n"
   ]
  },
  {
   "cell_type": "code",
   "execution_count": 13,
   "id": "f09f4769",
   "metadata": {},
   "outputs": [
    {
     "data": {
      "text/html": [
       "<div>\n",
       "<style scoped>\n",
       "    .dataframe tbody tr th:only-of-type {\n",
       "        vertical-align: middle;\n",
       "    }\n",
       "\n",
       "    .dataframe tbody tr th {\n",
       "        vertical-align: top;\n",
       "    }\n",
       "\n",
       "    .dataframe thead th {\n",
       "        text-align: right;\n",
       "    }\n",
       "</style>\n",
       "<table border=\"1\" class=\"dataframe\">\n",
       "  <thead>\n",
       "    <tr style=\"text-align: right;\">\n",
       "      <th></th>\n",
       "      <th>Homes for Sale</th>\n",
       "    </tr>\n",
       "    <tr>\n",
       "      <th>Period</th>\n",
       "      <th></th>\n",
       "    </tr>\n",
       "  </thead>\n",
       "  <tbody>\n",
       "    <tr>\n",
       "      <th>2000-01-01</th>\n",
       "      <td>301.0</td>\n",
       "    </tr>\n",
       "    <tr>\n",
       "      <th>2000-02-01</th>\n",
       "      <td>NaN</td>\n",
       "    </tr>\n",
       "    <tr>\n",
       "      <th>2000-03-01</th>\n",
       "      <td>NaN</td>\n",
       "    </tr>\n",
       "    <tr>\n",
       "      <th>2000-04-01</th>\n",
       "      <td>NaN</td>\n",
       "    </tr>\n",
       "    <tr>\n",
       "      <th>2000-05-01</th>\n",
       "      <td>NaN</td>\n",
       "    </tr>\n",
       "  </tbody>\n",
       "</table>\n",
       "</div>"
      ],
      "text/plain": [
       "            Homes for Sale\n",
       "Period                    \n",
       "2000-01-01           301.0\n",
       "2000-02-01             NaN\n",
       "2000-03-01             NaN\n",
       "2000-04-01             NaN\n",
       "2000-05-01             NaN"
      ]
     },
     "execution_count": 13,
     "metadata": {},
     "output_type": "execute_result"
    }
   ],
   "source": [
    "# The output shows a few samples of the dataframe which is \"upsampled\" from Year to Month with NaN values. \n",
    "\n",
    "home_sale.head()"
   ]
  },
  {
   "cell_type": "code",
   "execution_count": 14,
   "id": "49d93fa7",
   "metadata": {},
   "outputs": [],
   "source": [
    "# fill nan values using a technique called Interpolation. Using 'linear' method to upsample the values of months linearly.\n",
    "\n",
    "home_sale[\"Homes for Sale\"].interpolate(method='linear', inplace=True)"
   ]
  },
  {
   "cell_type": "code",
   "execution_count": 15,
   "id": "a8b59ad3",
   "metadata": {},
   "outputs": [],
   "source": [
    "home_sale.reset_index(inplace=True)"
   ]
  },
  {
   "cell_type": "code",
   "execution_count": 16,
   "id": "4a453cf8",
   "metadata": {
    "scrolled": true
   },
   "outputs": [],
   "source": [
    "home_sale[\"Homes for Sale\"] = home_sale[\"Homes for Sale\"].astype(int)"
   ]
  },
  {
   "cell_type": "code",
   "execution_count": 17,
   "id": "2aabccc4",
   "metadata": {},
   "outputs": [],
   "source": [
    "home_sale.drop(home_sale.tail(3).index,inplace = True)"
   ]
  },
  {
   "cell_type": "code",
   "execution_count": 18,
   "id": "c0380e37",
   "metadata": {},
   "outputs": [
    {
     "data": {
      "text/html": [
       "<div>\n",
       "<style scoped>\n",
       "    .dataframe tbody tr th:only-of-type {\n",
       "        vertical-align: middle;\n",
       "    }\n",
       "\n",
       "    .dataframe tbody tr th {\n",
       "        vertical-align: top;\n",
       "    }\n",
       "\n",
       "    .dataframe thead th {\n",
       "        text-align: right;\n",
       "    }\n",
       "</style>\n",
       "<table border=\"1\" class=\"dataframe\">\n",
       "  <thead>\n",
       "    <tr style=\"text-align: right;\">\n",
       "      <th></th>\n",
       "      <th>Period</th>\n",
       "      <th>Homes for Sale</th>\n",
       "    </tr>\n",
       "  </thead>\n",
       "  <tbody>\n",
       "    <tr>\n",
       "      <th>0</th>\n",
       "      <td>2000-01-01</td>\n",
       "      <td>301</td>\n",
       "    </tr>\n",
       "    <tr>\n",
       "      <th>1</th>\n",
       "      <td>2000-02-01</td>\n",
       "      <td>301</td>\n",
       "    </tr>\n",
       "    <tr>\n",
       "      <th>2</th>\n",
       "      <td>2000-03-01</td>\n",
       "      <td>302</td>\n",
       "    </tr>\n",
       "    <tr>\n",
       "      <th>3</th>\n",
       "      <td>2000-04-01</td>\n",
       "      <td>303</td>\n",
       "    </tr>\n",
       "    <tr>\n",
       "      <th>4</th>\n",
       "      <td>2000-05-01</td>\n",
       "      <td>304</td>\n",
       "    </tr>\n",
       "    <tr>\n",
       "      <th>5</th>\n",
       "      <td>2000-06-01</td>\n",
       "      <td>304</td>\n",
       "    </tr>\n",
       "    <tr>\n",
       "      <th>6</th>\n",
       "      <td>2000-07-01</td>\n",
       "      <td>305</td>\n",
       "    </tr>\n",
       "    <tr>\n",
       "      <th>7</th>\n",
       "      <td>2000-08-01</td>\n",
       "      <td>306</td>\n",
       "    </tr>\n",
       "    <tr>\n",
       "      <th>8</th>\n",
       "      <td>2000-09-01</td>\n",
       "      <td>307</td>\n",
       "    </tr>\n",
       "    <tr>\n",
       "      <th>9</th>\n",
       "      <td>2000-10-01</td>\n",
       "      <td>307</td>\n",
       "    </tr>\n",
       "  </tbody>\n",
       "</table>\n",
       "</div>"
      ],
      "text/plain": [
       "      Period  Homes for Sale\n",
       "0 2000-01-01             301\n",
       "1 2000-02-01             301\n",
       "2 2000-03-01             302\n",
       "3 2000-04-01             303\n",
       "4 2000-05-01             304\n",
       "5 2000-06-01             304\n",
       "6 2000-07-01             305\n",
       "7 2000-08-01             306\n",
       "8 2000-09-01             307\n",
       "9 2000-10-01             307"
      ]
     },
     "execution_count": 18,
     "metadata": {},
     "output_type": "execute_result"
    }
   ],
   "source": [
    "# Sample of interpolated values \n",
    "\n",
    "home_sale.head(10)"
   ]
  },
  {
   "cell_type": "markdown",
   "id": "a98c4678",
   "metadata": {},
   "source": [
    "## *\"Homes sold\" data*"
   ]
  },
  {
   "cell_type": "code",
   "execution_count": 19,
   "id": "ce5c9b12",
   "metadata": {},
   "outputs": [],
   "source": [
    "homes_sold = pd.read_csv(\"homes_sold.csv\")[45:67].rename(columns = \n",
    "                                                         {\"Houses Sold by Region\": \"Period\" , \"Unnamed: 1\": \"Homes Sold\"}\n",
    "                                                        ).reset_index(drop=True).drop(columns=[\n",
    "                                                                    'Unnamed: 2', 'Unnamed: 3', 'Unnamed: 4', 'Unnamed: 5'])"
   ]
  },
  {
   "cell_type": "code",
   "execution_count": 20,
   "id": "bd36a903",
   "metadata": {},
   "outputs": [
    {
     "name": "stdout",
     "output_type": "stream",
     "text": [
      "<class 'pandas.core.frame.DataFrame'>\n",
      "RangeIndex: 22 entries, 0 to 21\n",
      "Data columns (total 2 columns):\n",
      " #   Column      Non-Null Count  Dtype \n",
      "---  ------      --------------  ----- \n",
      " 0   Period      22 non-null     object\n",
      " 1   Homes Sold  22 non-null     object\n",
      "dtypes: object(2)\n",
      "memory usage: 484.0+ bytes\n"
     ]
    }
   ],
   "source": [
    "homes_sold.info()"
   ]
  },
  {
   "cell_type": "code",
   "execution_count": 21,
   "id": "4b4f2f9a",
   "metadata": {},
   "outputs": [],
   "source": [
    "# Converting Period column to Python datetime form\n",
    "\n",
    "homes_sold[\"Period\"] = pd.to_datetime(homes_sold['Period'], format='%Y')\n",
    "\n",
    "# Converting \"Homes Sold\" column to int \n",
    "\n",
    "homes_sold[\"Homes Sold\"] = homes_sold['Homes Sold'].str.replace(',', '').astype(float).astype(int)"
   ]
  },
  {
   "cell_type": "code",
   "execution_count": 22,
   "id": "78e54271",
   "metadata": {},
   "outputs": [],
   "source": [
    "# Set 'Period' as the index\n",
    "\n",
    "homes_sold.set_index('Period', inplace=True)\n",
    "\n",
    "# Up-sampling the annual data to Monthly\n",
    "\n",
    "homes_sold = homes_sold.resample('MS').mean().round()\n"
   ]
  },
  {
   "cell_type": "code",
   "execution_count": 23,
   "id": "248e7cb8",
   "metadata": {},
   "outputs": [],
   "source": [
    "# fill nan values using a technique called Interpolation. Using 'linear' method to upsample the values of months linearly.\n",
    "\n",
    "homes_sold[\"Homes Sold\"].interpolate(method='linear', inplace=True)"
   ]
  },
  {
   "cell_type": "code",
   "execution_count": 24,
   "id": "27a7cb93",
   "metadata": {},
   "outputs": [],
   "source": [
    "homes_sold.reset_index(inplace=True)"
   ]
  },
  {
   "cell_type": "code",
   "execution_count": 25,
   "id": "309e4d9b",
   "metadata": {},
   "outputs": [],
   "source": [
    "homes_sold[\"Homes Sold\"] = homes_sold[\"Homes Sold\"].astype(int)"
   ]
  },
  {
   "cell_type": "code",
   "execution_count": 26,
   "id": "3545ed21",
   "metadata": {},
   "outputs": [],
   "source": [
    "homes_sold.drop(homes_sold.tail(3).index,inplace = True)"
   ]
  },
  {
   "cell_type": "code",
   "execution_count": 27,
   "id": "fe88b37e",
   "metadata": {},
   "outputs": [
    {
     "data": {
      "text/html": [
       "<div>\n",
       "<style scoped>\n",
       "    .dataframe tbody tr th:only-of-type {\n",
       "        vertical-align: middle;\n",
       "    }\n",
       "\n",
       "    .dataframe tbody tr th {\n",
       "        vertical-align: top;\n",
       "    }\n",
       "\n",
       "    .dataframe thead th {\n",
       "        text-align: right;\n",
       "    }\n",
       "</style>\n",
       "<table border=\"1\" class=\"dataframe\">\n",
       "  <thead>\n",
       "    <tr style=\"text-align: right;\">\n",
       "      <th></th>\n",
       "      <th>Period</th>\n",
       "      <th>Homes Sold</th>\n",
       "    </tr>\n",
       "  </thead>\n",
       "  <tbody>\n",
       "    <tr>\n",
       "      <th>0</th>\n",
       "      <td>2000-01-01</td>\n",
       "      <td>877</td>\n",
       "    </tr>\n",
       "    <tr>\n",
       "      <th>1</th>\n",
       "      <td>2000-02-01</td>\n",
       "      <td>879</td>\n",
       "    </tr>\n",
       "    <tr>\n",
       "      <th>2</th>\n",
       "      <td>2000-03-01</td>\n",
       "      <td>882</td>\n",
       "    </tr>\n",
       "    <tr>\n",
       "      <th>3</th>\n",
       "      <td>2000-04-01</td>\n",
       "      <td>884</td>\n",
       "    </tr>\n",
       "    <tr>\n",
       "      <th>4</th>\n",
       "      <td>2000-05-01</td>\n",
       "      <td>887</td>\n",
       "    </tr>\n",
       "    <tr>\n",
       "      <th>5</th>\n",
       "      <td>2000-06-01</td>\n",
       "      <td>889</td>\n",
       "    </tr>\n",
       "    <tr>\n",
       "      <th>6</th>\n",
       "      <td>2000-07-01</td>\n",
       "      <td>892</td>\n",
       "    </tr>\n",
       "    <tr>\n",
       "      <th>7</th>\n",
       "      <td>2000-08-01</td>\n",
       "      <td>895</td>\n",
       "    </tr>\n",
       "    <tr>\n",
       "      <th>8</th>\n",
       "      <td>2000-09-01</td>\n",
       "      <td>897</td>\n",
       "    </tr>\n",
       "    <tr>\n",
       "      <th>9</th>\n",
       "      <td>2000-10-01</td>\n",
       "      <td>900</td>\n",
       "    </tr>\n",
       "  </tbody>\n",
       "</table>\n",
       "</div>"
      ],
      "text/plain": [
       "      Period  Homes Sold\n",
       "0 2000-01-01         877\n",
       "1 2000-02-01         879\n",
       "2 2000-03-01         882\n",
       "3 2000-04-01         884\n",
       "4 2000-05-01         887\n",
       "5 2000-06-01         889\n",
       "6 2000-07-01         892\n",
       "7 2000-08-01         895\n",
       "8 2000-09-01         897\n",
       "9 2000-10-01         900"
      ]
     },
     "execution_count": 27,
     "metadata": {},
     "output_type": "execute_result"
    }
   ],
   "source": [
    "homes_sold.head(10)"
   ]
  },
  {
   "cell_type": "markdown",
   "id": "dc5ea010",
   "metadata": {},
   "source": [
    "## *Federal Funds Rate*"
   ]
  },
  {
   "cell_type": "code",
   "execution_count": 28,
   "id": "95ad49f1",
   "metadata": {},
   "outputs": [],
   "source": [
    "# Source :  Federal Reserve Economic Data (FRED) database\n",
    "\n",
    "feds = pd.read_csv(\"Federal_Funds.csv\").rename(columns = {\"DATE\": \"Period\", \"DFF\": \"Fed Funds Rate\"})"
   ]
  },
  {
   "cell_type": "code",
   "execution_count": 29,
   "id": "b4b350fc",
   "metadata": {},
   "outputs": [
    {
     "data": {
      "text/html": [
       "<div>\n",
       "<style scoped>\n",
       "    .dataframe tbody tr th:only-of-type {\n",
       "        vertical-align: middle;\n",
       "    }\n",
       "\n",
       "    .dataframe tbody tr th {\n",
       "        vertical-align: top;\n",
       "    }\n",
       "\n",
       "    .dataframe thead th {\n",
       "        text-align: right;\n",
       "    }\n",
       "</style>\n",
       "<table border=\"1\" class=\"dataframe\">\n",
       "  <thead>\n",
       "    <tr style=\"text-align: right;\">\n",
       "      <th></th>\n",
       "      <th>Period</th>\n",
       "      <th>Fed Funds Rate</th>\n",
       "    </tr>\n",
       "  </thead>\n",
       "  <tbody>\n",
       "    <tr>\n",
       "      <th>0</th>\n",
       "      <td>2000-01-01</td>\n",
       "      <td>3.99</td>\n",
       "    </tr>\n",
       "    <tr>\n",
       "      <th>1</th>\n",
       "      <td>2000-01-02</td>\n",
       "      <td>3.99</td>\n",
       "    </tr>\n",
       "    <tr>\n",
       "      <th>2</th>\n",
       "      <td>2000-01-03</td>\n",
       "      <td>5.43</td>\n",
       "    </tr>\n",
       "  </tbody>\n",
       "</table>\n",
       "</div>"
      ],
      "text/plain": [
       "       Period  Fed Funds Rate\n",
       "0  2000-01-01            3.99\n",
       "1  2000-01-02            3.99\n",
       "2  2000-01-03            5.43"
      ]
     },
     "execution_count": 29,
     "metadata": {},
     "output_type": "execute_result"
    }
   ],
   "source": [
    "feds.head(3)"
   ]
  },
  {
   "cell_type": "code",
   "execution_count": 30,
   "id": "99838a8f",
   "metadata": {},
   "outputs": [],
   "source": [
    "feds[\"Period\"] = pd.to_datetime(feds[\"Period\"])"
   ]
  },
  {
   "cell_type": "code",
   "execution_count": 31,
   "id": "04385e1e",
   "metadata": {},
   "outputs": [
    {
     "name": "stdout",
     "output_type": "stream",
     "text": [
      "<class 'pandas.core.frame.DataFrame'>\n",
      "RangeIndex: 7581 entries, 0 to 7580\n",
      "Data columns (total 2 columns):\n",
      " #   Column          Non-Null Count  Dtype         \n",
      "---  ------          --------------  -----         \n",
      " 0   Period          7581 non-null   datetime64[ns]\n",
      " 1   Fed Funds Rate  7581 non-null   float64       \n",
      "dtypes: datetime64[ns](1), float64(1)\n",
      "memory usage: 118.6 KB\n"
     ]
    }
   ],
   "source": [
    "feds.info()"
   ]
  },
  {
   "cell_type": "code",
   "execution_count": 32,
   "id": "64382378",
   "metadata": {},
   "outputs": [],
   "source": [
    "# Set 'Period' as the index\n",
    "\n",
    "feds.set_index('Period', inplace=True)\n",
    "\n",
    "# Upsampling \n",
    "\n",
    "feds = feds.resample('MS').mean()\n"
   ]
  },
  {
   "cell_type": "code",
   "execution_count": 33,
   "id": "4965e2bd",
   "metadata": {},
   "outputs": [],
   "source": [
    "# Interpolation \n",
    "\n",
    "feds[\"Fed Funds Rate\"].interpolate(method='linear', inplace=True)"
   ]
  },
  {
   "cell_type": "code",
   "execution_count": 34,
   "id": "97b3198c",
   "metadata": {},
   "outputs": [],
   "source": [
    "feds.reset_index(inplace=True)"
   ]
  },
  {
   "cell_type": "code",
   "execution_count": 35,
   "id": "47dbdb52",
   "metadata": {},
   "outputs": [],
   "source": [
    "feds[\"Fed Funds Rate\"] = feds[\"Fed Funds Rate\"].round(2)"
   ]
  },
  {
   "cell_type": "code",
   "execution_count": 36,
   "id": "cc154740",
   "metadata": {},
   "outputs": [
    {
     "data": {
      "text/html": [
       "<div>\n",
       "<style scoped>\n",
       "    .dataframe tbody tr th:only-of-type {\n",
       "        vertical-align: middle;\n",
       "    }\n",
       "\n",
       "    .dataframe tbody tr th {\n",
       "        vertical-align: top;\n",
       "    }\n",
       "\n",
       "    .dataframe thead th {\n",
       "        text-align: right;\n",
       "    }\n",
       "</style>\n",
       "<table border=\"1\" class=\"dataframe\">\n",
       "  <thead>\n",
       "    <tr style=\"text-align: right;\">\n",
       "      <th></th>\n",
       "      <th>Period</th>\n",
       "      <th>Fed Funds Rate</th>\n",
       "    </tr>\n",
       "  </thead>\n",
       "  <tbody>\n",
       "    <tr>\n",
       "      <th>0</th>\n",
       "      <td>2000-01-01</td>\n",
       "      <td>5.45</td>\n",
       "    </tr>\n",
       "    <tr>\n",
       "      <th>1</th>\n",
       "      <td>2000-02-01</td>\n",
       "      <td>5.73</td>\n",
       "    </tr>\n",
       "    <tr>\n",
       "      <th>2</th>\n",
       "      <td>2000-03-01</td>\n",
       "      <td>5.85</td>\n",
       "    </tr>\n",
       "    <tr>\n",
       "      <th>3</th>\n",
       "      <td>2000-04-01</td>\n",
       "      <td>6.02</td>\n",
       "    </tr>\n",
       "    <tr>\n",
       "      <th>4</th>\n",
       "      <td>2000-05-01</td>\n",
       "      <td>6.27</td>\n",
       "    </tr>\n",
       "    <tr>\n",
       "      <th>5</th>\n",
       "      <td>2000-06-01</td>\n",
       "      <td>6.53</td>\n",
       "    </tr>\n",
       "    <tr>\n",
       "      <th>6</th>\n",
       "      <td>2000-07-01</td>\n",
       "      <td>6.54</td>\n",
       "    </tr>\n",
       "    <tr>\n",
       "      <th>7</th>\n",
       "      <td>2000-08-01</td>\n",
       "      <td>6.50</td>\n",
       "    </tr>\n",
       "    <tr>\n",
       "      <th>8</th>\n",
       "      <td>2000-09-01</td>\n",
       "      <td>6.52</td>\n",
       "    </tr>\n",
       "    <tr>\n",
       "      <th>9</th>\n",
       "      <td>2000-10-01</td>\n",
       "      <td>6.51</td>\n",
       "    </tr>\n",
       "  </tbody>\n",
       "</table>\n",
       "</div>"
      ],
      "text/plain": [
       "      Period  Fed Funds Rate\n",
       "0 2000-01-01            5.45\n",
       "1 2000-02-01            5.73\n",
       "2 2000-03-01            5.85\n",
       "3 2000-04-01            6.02\n",
       "4 2000-05-01            6.27\n",
       "5 2000-06-01            6.53\n",
       "6 2000-07-01            6.54\n",
       "7 2000-08-01            6.50\n",
       "8 2000-09-01            6.52\n",
       "9 2000-10-01            6.51"
      ]
     },
     "execution_count": 36,
     "metadata": {},
     "output_type": "execute_result"
    }
   ],
   "source": [
    "feds.head(10)"
   ]
  },
  {
   "cell_type": "markdown",
   "id": "ea10c63a",
   "metadata": {},
   "source": [
    "## *Personal Savings*"
   ]
  },
  {
   "cell_type": "code",
   "execution_count": 37,
   "id": "e080cbae",
   "metadata": {},
   "outputs": [],
   "source": [
    "# Source :  Federal Reserve Economic Data (FRED) database\n",
    "\n",
    "savings = pd.read_csv(\"Savings.csv\").rename(columns = {\"DATE\": \"Period\", \"PMSAVE\": \"Savings\"})"
   ]
  },
  {
   "cell_type": "code",
   "execution_count": 38,
   "id": "16d85ca3",
   "metadata": {},
   "outputs": [],
   "source": [
    "savings['Period'] = pd.to_datetime(savings['Period'])"
   ]
  },
  {
   "cell_type": "code",
   "execution_count": 39,
   "id": "ed62eb43",
   "metadata": {},
   "outputs": [
    {
     "data": {
      "text/html": [
       "<div>\n",
       "<style scoped>\n",
       "    .dataframe tbody tr th:only-of-type {\n",
       "        vertical-align: middle;\n",
       "    }\n",
       "\n",
       "    .dataframe tbody tr th {\n",
       "        vertical-align: top;\n",
       "    }\n",
       "\n",
       "    .dataframe thead th {\n",
       "        text-align: right;\n",
       "    }\n",
       "</style>\n",
       "<table border=\"1\" class=\"dataframe\">\n",
       "  <thead>\n",
       "    <tr style=\"text-align: right;\">\n",
       "      <th></th>\n",
       "      <th>Period</th>\n",
       "      <th>Savings</th>\n",
       "    </tr>\n",
       "  </thead>\n",
       "  <tbody>\n",
       "    <tr>\n",
       "      <th>0</th>\n",
       "      <td>2000-01-01</td>\n",
       "      <td>358.9</td>\n",
       "    </tr>\n",
       "    <tr>\n",
       "      <th>1</th>\n",
       "      <td>2000-02-01</td>\n",
       "      <td>324.3</td>\n",
       "    </tr>\n",
       "    <tr>\n",
       "      <th>2</th>\n",
       "      <td>2000-03-01</td>\n",
       "      <td>311.8</td>\n",
       "    </tr>\n",
       "    <tr>\n",
       "      <th>3</th>\n",
       "      <td>2000-04-01</td>\n",
       "      <td>347.8</td>\n",
       "    </tr>\n",
       "    <tr>\n",
       "      <th>4</th>\n",
       "      <td>2000-05-01</td>\n",
       "      <td>351.1</td>\n",
       "    </tr>\n",
       "    <tr>\n",
       "      <th>5</th>\n",
       "      <td>2000-06-01</td>\n",
       "      <td>355.3</td>\n",
       "    </tr>\n",
       "    <tr>\n",
       "      <th>6</th>\n",
       "      <td>2000-07-01</td>\n",
       "      <td>383.8</td>\n",
       "    </tr>\n",
       "    <tr>\n",
       "      <th>7</th>\n",
       "      <td>2000-08-01</td>\n",
       "      <td>389.9</td>\n",
       "    </tr>\n",
       "    <tr>\n",
       "      <th>8</th>\n",
       "      <td>2000-09-01</td>\n",
       "      <td>340.8</td>\n",
       "    </tr>\n",
       "    <tr>\n",
       "      <th>9</th>\n",
       "      <td>2000-10-01</td>\n",
       "      <td>360.3</td>\n",
       "    </tr>\n",
       "  </tbody>\n",
       "</table>\n",
       "</div>"
      ],
      "text/plain": [
       "      Period  Savings\n",
       "0 2000-01-01    358.9\n",
       "1 2000-02-01    324.3\n",
       "2 2000-03-01    311.8\n",
       "3 2000-04-01    347.8\n",
       "4 2000-05-01    351.1\n",
       "5 2000-06-01    355.3\n",
       "6 2000-07-01    383.8\n",
       "7 2000-08-01    389.9\n",
       "8 2000-09-01    340.8\n",
       "9 2000-10-01    360.3"
      ]
     },
     "execution_count": 39,
     "metadata": {},
     "output_type": "execute_result"
    }
   ],
   "source": [
    "savings.head(10)"
   ]
  },
  {
   "cell_type": "markdown",
   "id": "1a642bad",
   "metadata": {},
   "source": [
    "## *Disposable income*"
   ]
  },
  {
   "cell_type": "code",
   "execution_count": 40,
   "id": "d3577fdb",
   "metadata": {},
   "outputs": [],
   "source": [
    "# Source :  Federal Reserve Economic Data (FRED) database\n",
    "\n",
    "income = pd.read_csv(\"Personal_Income.csv\").rename(columns = {\"DATE\": \"Period\", \"DSPIC96\": \"Personal Income\"})"
   ]
  },
  {
   "cell_type": "code",
   "execution_count": 41,
   "id": "05241506",
   "metadata": {},
   "outputs": [],
   "source": [
    "income['Period'] = pd.to_datetime(income['Period'])"
   ]
  },
  {
   "cell_type": "code",
   "execution_count": 42,
   "id": "5767d52a",
   "metadata": {},
   "outputs": [
    {
     "name": "stdout",
     "output_type": "stream",
     "text": [
      "<class 'pandas.core.frame.DataFrame'>\n",
      "RangeIndex: 250 entries, 0 to 249\n",
      "Data columns (total 2 columns):\n",
      " #   Column           Non-Null Count  Dtype         \n",
      "---  ------           --------------  -----         \n",
      " 0   Period           250 non-null    datetime64[ns]\n",
      " 1   Personal Income  250 non-null    float64       \n",
      "dtypes: datetime64[ns](1), float64(1)\n",
      "memory usage: 4.0 KB\n"
     ]
    }
   ],
   "source": [
    "income.info()"
   ]
  },
  {
   "cell_type": "code",
   "execution_count": 43,
   "id": "502e71fc",
   "metadata": {},
   "outputs": [
    {
     "data": {
      "text/html": [
       "<div>\n",
       "<style scoped>\n",
       "    .dataframe tbody tr th:only-of-type {\n",
       "        vertical-align: middle;\n",
       "    }\n",
       "\n",
       "    .dataframe tbody tr th {\n",
       "        vertical-align: top;\n",
       "    }\n",
       "\n",
       "    .dataframe thead th {\n",
       "        text-align: right;\n",
       "    }\n",
       "</style>\n",
       "<table border=\"1\" class=\"dataframe\">\n",
       "  <thead>\n",
       "    <tr style=\"text-align: right;\">\n",
       "      <th></th>\n",
       "      <th>Period</th>\n",
       "      <th>Personal Income</th>\n",
       "    </tr>\n",
       "  </thead>\n",
       "  <tbody>\n",
       "    <tr>\n",
       "      <th>0</th>\n",
       "      <td>2000-01-01</td>\n",
       "      <td>9309.1</td>\n",
       "    </tr>\n",
       "    <tr>\n",
       "      <th>1</th>\n",
       "      <td>2000-02-01</td>\n",
       "      <td>9345.2</td>\n",
       "    </tr>\n",
       "    <tr>\n",
       "      <th>2</th>\n",
       "      <td>2000-03-01</td>\n",
       "      <td>9370.3</td>\n",
       "    </tr>\n",
       "    <tr>\n",
       "      <th>3</th>\n",
       "      <td>2000-04-01</td>\n",
       "      <td>9418.3</td>\n",
       "    </tr>\n",
       "    <tr>\n",
       "      <th>4</th>\n",
       "      <td>2000-05-01</td>\n",
       "      <td>9457.3</td>\n",
       "    </tr>\n",
       "    <tr>\n",
       "      <th>5</th>\n",
       "      <td>2000-06-01</td>\n",
       "      <td>9483.3</td>\n",
       "    </tr>\n",
       "    <tr>\n",
       "      <th>6</th>\n",
       "      <td>2000-07-01</td>\n",
       "      <td>9533.3</td>\n",
       "    </tr>\n",
       "    <tr>\n",
       "      <th>7</th>\n",
       "      <td>2000-08-01</td>\n",
       "      <td>9591.5</td>\n",
       "    </tr>\n",
       "    <tr>\n",
       "      <th>8</th>\n",
       "      <td>2000-09-01</td>\n",
       "      <td>9601.5</td>\n",
       "    </tr>\n",
       "    <tr>\n",
       "      <th>9</th>\n",
       "      <td>2000-10-01</td>\n",
       "      <td>9627.4</td>\n",
       "    </tr>\n",
       "  </tbody>\n",
       "</table>\n",
       "</div>"
      ],
      "text/plain": [
       "      Period  Personal Income\n",
       "0 2000-01-01           9309.1\n",
       "1 2000-02-01           9345.2\n",
       "2 2000-03-01           9370.3\n",
       "3 2000-04-01           9418.3\n",
       "4 2000-05-01           9457.3\n",
       "5 2000-06-01           9483.3\n",
       "6 2000-07-01           9533.3\n",
       "7 2000-08-01           9591.5\n",
       "8 2000-09-01           9601.5\n",
       "9 2000-10-01           9627.4"
      ]
     },
     "execution_count": 43,
     "metadata": {},
     "output_type": "execute_result"
    }
   ],
   "source": [
    "income.head(10)"
   ]
  },
  {
   "cell_type": "markdown",
   "id": "ef271849",
   "metadata": {},
   "source": [
    "## *Personal Consumption*"
   ]
  },
  {
   "cell_type": "code",
   "execution_count": 44,
   "id": "2c61399d",
   "metadata": {},
   "outputs": [],
   "source": [
    "# Source :  Federal Reserve Economic Data (FRED) database\n",
    "\n",
    "pc = pd.read_csv(\"Personal_Consumption.csv\").rename(columns = {\"DATE\": \"Period\", \"PCE\": \"Personal Consumption\"})"
   ]
  },
  {
   "cell_type": "code",
   "execution_count": 45,
   "id": "20355edc",
   "metadata": {},
   "outputs": [],
   "source": [
    "pc[\"Period\"] = pd.to_datetime(pc[\"Period\"])"
   ]
  },
  {
   "cell_type": "code",
   "execution_count": 46,
   "id": "46943cd0",
   "metadata": {},
   "outputs": [
    {
     "data": {
      "text/html": [
       "<div>\n",
       "<style scoped>\n",
       "    .dataframe tbody tr th:only-of-type {\n",
       "        vertical-align: middle;\n",
       "    }\n",
       "\n",
       "    .dataframe tbody tr th {\n",
       "        vertical-align: top;\n",
       "    }\n",
       "\n",
       "    .dataframe thead th {\n",
       "        text-align: right;\n",
       "    }\n",
       "</style>\n",
       "<table border=\"1\" class=\"dataframe\">\n",
       "  <thead>\n",
       "    <tr style=\"text-align: right;\">\n",
       "      <th></th>\n",
       "      <th>Period</th>\n",
       "      <th>Personal Consumption</th>\n",
       "    </tr>\n",
       "  </thead>\n",
       "  <tbody>\n",
       "    <tr>\n",
       "      <th>0</th>\n",
       "      <td>2000-01-01</td>\n",
       "      <td>6542.9</td>\n",
       "    </tr>\n",
       "    <tr>\n",
       "      <th>1</th>\n",
       "      <td>2000-02-01</td>\n",
       "      <td>6625.3</td>\n",
       "    </tr>\n",
       "    <tr>\n",
       "      <th>2</th>\n",
       "      <td>2000-03-01</td>\n",
       "      <td>6686.5</td>\n",
       "    </tr>\n",
       "    <tr>\n",
       "      <th>3</th>\n",
       "      <td>2000-04-01</td>\n",
       "      <td>6679.1</td>\n",
       "    </tr>\n",
       "    <tr>\n",
       "      <th>4</th>\n",
       "      <td>2000-05-01</td>\n",
       "      <td>6709.7</td>\n",
       "    </tr>\n",
       "    <tr>\n",
       "      <th>5</th>\n",
       "      <td>2000-06-01</td>\n",
       "      <td>6746.9</td>\n",
       "    </tr>\n",
       "    <tr>\n",
       "      <th>6</th>\n",
       "      <td>2000-07-01</td>\n",
       "      <td>6768.5</td>\n",
       "    </tr>\n",
       "    <tr>\n",
       "      <th>7</th>\n",
       "      <td>2000-08-01</td>\n",
       "      <td>6802.8</td>\n",
       "    </tr>\n",
       "    <tr>\n",
       "      <th>8</th>\n",
       "      <td>2000-09-01</td>\n",
       "      <td>6888.6</td>\n",
       "    </tr>\n",
       "    <tr>\n",
       "      <th>9</th>\n",
       "      <td>2000-10-01</td>\n",
       "      <td>6893.8</td>\n",
       "    </tr>\n",
       "  </tbody>\n",
       "</table>\n",
       "</div>"
      ],
      "text/plain": [
       "      Period  Personal Consumption\n",
       "0 2000-01-01                6542.9\n",
       "1 2000-02-01                6625.3\n",
       "2 2000-03-01                6686.5\n",
       "3 2000-04-01                6679.1\n",
       "4 2000-05-01                6709.7\n",
       "5 2000-06-01                6746.9\n",
       "6 2000-07-01                6768.5\n",
       "7 2000-08-01                6802.8\n",
       "8 2000-09-01                6888.6\n",
       "9 2000-10-01                6893.8"
      ]
     },
     "execution_count": 46,
     "metadata": {},
     "output_type": "execute_result"
    }
   ],
   "source": [
    "pc.head(10)"
   ]
  },
  {
   "cell_type": "markdown",
   "id": "9423fec3",
   "metadata": {},
   "source": [
    "## *Housing Starts*"
   ]
  },
  {
   "cell_type": "code",
   "execution_count": 47,
   "id": "245b87b6",
   "metadata": {},
   "outputs": [],
   "source": [
    "# Source : U.S. Census Bureau\n",
    "\n",
    "housing_starts = pd.read_csv(\"housing_starts.csv\")[49:71].rename(\n",
    "                    columns = {\n",
    "                        \"New Privately Owned Housing Units Started\": \"Period\" , \"Unnamed: 1\": \"Housing_Starts\"\n",
    "                              }).reset_index(drop=True).drop(\n",
    "                    columns=[\n",
    "                        'Unnamed: 2', 'Unnamed: 3', 'Unnamed: 4', 'Unnamed: 5', 'Unnamed: 6',\n",
    "                        'Unnamed: 7', 'Unnamed: 8', 'Unnamed: 9', 'Unnamed: 10', 'Unnamed: 11', 'Unnamed: 12'\n",
    "\n",
    "                    ])"
   ]
  },
  {
   "cell_type": "code",
   "execution_count": 48,
   "id": "8ea6ac41",
   "metadata": {},
   "outputs": [
    {
     "data": {
      "text/html": [
       "<div>\n",
       "<style scoped>\n",
       "    .dataframe tbody tr th:only-of-type {\n",
       "        vertical-align: middle;\n",
       "    }\n",
       "\n",
       "    .dataframe tbody tr th {\n",
       "        vertical-align: top;\n",
       "    }\n",
       "\n",
       "    .dataframe thead th {\n",
       "        text-align: right;\n",
       "    }\n",
       "</style>\n",
       "<table border=\"1\" class=\"dataframe\">\n",
       "  <thead>\n",
       "    <tr style=\"text-align: right;\">\n",
       "      <th></th>\n",
       "      <th>Period</th>\n",
       "      <th>Housing_Starts</th>\n",
       "    </tr>\n",
       "  </thead>\n",
       "  <tbody>\n",
       "    <tr>\n",
       "      <th>0</th>\n",
       "      <td>2000</td>\n",
       "      <td>1,568.7</td>\n",
       "    </tr>\n",
       "    <tr>\n",
       "      <th>1</th>\n",
       "      <td>2001</td>\n",
       "      <td>1,602.7</td>\n",
       "    </tr>\n",
       "    <tr>\n",
       "      <th>2</th>\n",
       "      <td>2002</td>\n",
       "      <td>1,704.9</td>\n",
       "    </tr>\n",
       "    <tr>\n",
       "      <th>3</th>\n",
       "      <td>2003</td>\n",
       "      <td>1,847.7</td>\n",
       "    </tr>\n",
       "    <tr>\n",
       "      <th>4</th>\n",
       "      <td>2004</td>\n",
       "      <td>1,955.8</td>\n",
       "    </tr>\n",
       "  </tbody>\n",
       "</table>\n",
       "</div>"
      ],
      "text/plain": [
       "  Period Housing_Starts\n",
       "0   2000        1,568.7\n",
       "1   2001        1,602.7\n",
       "2   2002        1,704.9\n",
       "3   2003        1,847.7\n",
       "4   2004        1,955.8"
      ]
     },
     "execution_count": 48,
     "metadata": {},
     "output_type": "execute_result"
    }
   ],
   "source": [
    "housing_starts.head()"
   ]
  },
  {
   "cell_type": "code",
   "execution_count": 49,
   "id": "57ebbb7d",
   "metadata": {},
   "outputs": [],
   "source": [
    "housing_starts[\"Period\"] = pd.to_datetime(housing_starts['Period'])"
   ]
  },
  {
   "cell_type": "code",
   "execution_count": 50,
   "id": "44ddbd67",
   "metadata": {},
   "outputs": [],
   "source": [
    "housing_starts['Housing_Starts'] = housing_starts['Housing_Starts'].str.replace(',', '').astype(float).astype(int)\n"
   ]
  },
  {
   "cell_type": "code",
   "execution_count": 51,
   "id": "0fa1ede8",
   "metadata": {},
   "outputs": [
    {
     "name": "stdout",
     "output_type": "stream",
     "text": [
      "<class 'pandas.core.frame.DataFrame'>\n",
      "RangeIndex: 22 entries, 0 to 21\n",
      "Data columns (total 2 columns):\n",
      " #   Column          Non-Null Count  Dtype         \n",
      "---  ------          --------------  -----         \n",
      " 0   Period          22 non-null     datetime64[ns]\n",
      " 1   Housing_Starts  22 non-null     int32         \n",
      "dtypes: datetime64[ns](1), int32(1)\n",
      "memory usage: 396.0 bytes\n"
     ]
    }
   ],
   "source": [
    "housing_starts.info()"
   ]
  },
  {
   "cell_type": "code",
   "execution_count": 52,
   "id": "5246fcfd",
   "metadata": {},
   "outputs": [],
   "source": [
    "housing_starts.set_index('Period', inplace=True)\n",
    "\n",
    "\n",
    "housing_starts = housing_starts.resample('MS').mean()"
   ]
  },
  {
   "cell_type": "code",
   "execution_count": 53,
   "id": "eb2d1e9e",
   "metadata": {},
   "outputs": [],
   "source": [
    "housing_starts[\"Housing_Starts\"].interpolate(method='linear', inplace=True)"
   ]
  },
  {
   "cell_type": "code",
   "execution_count": 54,
   "id": "d1f1e303",
   "metadata": {},
   "outputs": [],
   "source": [
    "housing_starts.reset_index(inplace=True)"
   ]
  },
  {
   "cell_type": "code",
   "execution_count": 55,
   "id": "ae5a76d0",
   "metadata": {},
   "outputs": [],
   "source": [
    "housing_starts.drop(housing_starts.tail(3).index,inplace = True)"
   ]
  },
  {
   "cell_type": "code",
   "execution_count": 56,
   "id": "c4287c45",
   "metadata": {},
   "outputs": [],
   "source": [
    "housing_starts[\"Housing_Starts\"] = housing_starts[\"Housing_Starts\"].astype(int)"
   ]
  },
  {
   "cell_type": "code",
   "execution_count": 57,
   "id": "599a6a73",
   "metadata": {},
   "outputs": [
    {
     "data": {
      "text/html": [
       "<div>\n",
       "<style scoped>\n",
       "    .dataframe tbody tr th:only-of-type {\n",
       "        vertical-align: middle;\n",
       "    }\n",
       "\n",
       "    .dataframe tbody tr th {\n",
       "        vertical-align: top;\n",
       "    }\n",
       "\n",
       "    .dataframe thead th {\n",
       "        text-align: right;\n",
       "    }\n",
       "</style>\n",
       "<table border=\"1\" class=\"dataframe\">\n",
       "  <thead>\n",
       "    <tr style=\"text-align: right;\">\n",
       "      <th></th>\n",
       "      <th>Period</th>\n",
       "      <th>Housing_Starts</th>\n",
       "    </tr>\n",
       "  </thead>\n",
       "  <tbody>\n",
       "    <tr>\n",
       "      <th>0</th>\n",
       "      <td>2000-01-01</td>\n",
       "      <td>1568</td>\n",
       "    </tr>\n",
       "    <tr>\n",
       "      <th>1</th>\n",
       "      <td>2000-02-01</td>\n",
       "      <td>1570</td>\n",
       "    </tr>\n",
       "    <tr>\n",
       "      <th>2</th>\n",
       "      <td>2000-03-01</td>\n",
       "      <td>1573</td>\n",
       "    </tr>\n",
       "    <tr>\n",
       "      <th>3</th>\n",
       "      <td>2000-04-01</td>\n",
       "      <td>1576</td>\n",
       "    </tr>\n",
       "    <tr>\n",
       "      <th>4</th>\n",
       "      <td>2000-05-01</td>\n",
       "      <td>1579</td>\n",
       "    </tr>\n",
       "    <tr>\n",
       "      <th>5</th>\n",
       "      <td>2000-06-01</td>\n",
       "      <td>1582</td>\n",
       "    </tr>\n",
       "    <tr>\n",
       "      <th>6</th>\n",
       "      <td>2000-07-01</td>\n",
       "      <td>1585</td>\n",
       "    </tr>\n",
       "    <tr>\n",
       "      <th>7</th>\n",
       "      <td>2000-08-01</td>\n",
       "      <td>1587</td>\n",
       "    </tr>\n",
       "    <tr>\n",
       "      <th>8</th>\n",
       "      <td>2000-09-01</td>\n",
       "      <td>1590</td>\n",
       "    </tr>\n",
       "    <tr>\n",
       "      <th>9</th>\n",
       "      <td>2000-10-01</td>\n",
       "      <td>1593</td>\n",
       "    </tr>\n",
       "  </tbody>\n",
       "</table>\n",
       "</div>"
      ],
      "text/plain": [
       "      Period  Housing_Starts\n",
       "0 2000-01-01            1568\n",
       "1 2000-02-01            1570\n",
       "2 2000-03-01            1573\n",
       "3 2000-04-01            1576\n",
       "4 2000-05-01            1579\n",
       "5 2000-06-01            1582\n",
       "6 2000-07-01            1585\n",
       "7 2000-08-01            1587\n",
       "8 2000-09-01            1590\n",
       "9 2000-10-01            1593"
      ]
     },
     "execution_count": 57,
     "metadata": {},
     "output_type": "execute_result"
    }
   ],
   "source": [
    "housing_starts.head(10)"
   ]
  },
  {
   "cell_type": "markdown",
   "id": "e48ea93a",
   "metadata": {},
   "source": [
    "## *Mortgage rate*"
   ]
  },
  {
   "cell_type": "code",
   "execution_count": 58,
   "id": "3759511b",
   "metadata": {},
   "outputs": [],
   "source": [
    "# Source :  Federal Reserve Economic Data (FRED) database\n",
    "\n",
    "mortgage = pd.read_csv('mortgage.csv').rename(columns={'DATE':'Period', 'MORTGAGE30US':'Mortgage'})"
   ]
  },
  {
   "cell_type": "code",
   "execution_count": 59,
   "id": "68141b60",
   "metadata": {},
   "outputs": [],
   "source": [
    "mortgage[\"Period\"] = pd.to_datetime(mortgage[\"Period\"])"
   ]
  },
  {
   "cell_type": "code",
   "execution_count": 60,
   "id": "8be9d57f",
   "metadata": {},
   "outputs": [],
   "source": [
    "mortgage[\"Mortgage\"] = mortgage[\"Mortgage\"].round(2)"
   ]
  },
  {
   "cell_type": "code",
   "execution_count": 61,
   "id": "31f70ce6",
   "metadata": {},
   "outputs": [
    {
     "data": {
      "text/html": [
       "<div>\n",
       "<style scoped>\n",
       "    .dataframe tbody tr th:only-of-type {\n",
       "        vertical-align: middle;\n",
       "    }\n",
       "\n",
       "    .dataframe tbody tr th {\n",
       "        vertical-align: top;\n",
       "    }\n",
       "\n",
       "    .dataframe thead th {\n",
       "        text-align: right;\n",
       "    }\n",
       "</style>\n",
       "<table border=\"1\" class=\"dataframe\">\n",
       "  <thead>\n",
       "    <tr style=\"text-align: right;\">\n",
       "      <th></th>\n",
       "      <th>Period</th>\n",
       "      <th>Mortgage</th>\n",
       "    </tr>\n",
       "  </thead>\n",
       "  <tbody>\n",
       "    <tr>\n",
       "      <th>0</th>\n",
       "      <td>2000-01-01</td>\n",
       "      <td>8.21</td>\n",
       "    </tr>\n",
       "    <tr>\n",
       "      <th>1</th>\n",
       "      <td>2000-02-01</td>\n",
       "      <td>8.32</td>\n",
       "    </tr>\n",
       "    <tr>\n",
       "      <th>2</th>\n",
       "      <td>2000-03-01</td>\n",
       "      <td>8.24</td>\n",
       "    </tr>\n",
       "    <tr>\n",
       "      <th>3</th>\n",
       "      <td>2000-04-01</td>\n",
       "      <td>8.15</td>\n",
       "    </tr>\n",
       "    <tr>\n",
       "      <th>4</th>\n",
       "      <td>2000-05-01</td>\n",
       "      <td>8.52</td>\n",
       "    </tr>\n",
       "    <tr>\n",
       "      <th>5</th>\n",
       "      <td>2000-06-01</td>\n",
       "      <td>8.29</td>\n",
       "    </tr>\n",
       "    <tr>\n",
       "      <th>6</th>\n",
       "      <td>2000-07-01</td>\n",
       "      <td>8.15</td>\n",
       "    </tr>\n",
       "    <tr>\n",
       "      <th>7</th>\n",
       "      <td>2000-08-01</td>\n",
       "      <td>8.03</td>\n",
       "    </tr>\n",
       "    <tr>\n",
       "      <th>8</th>\n",
       "      <td>2000-09-01</td>\n",
       "      <td>7.91</td>\n",
       "    </tr>\n",
       "    <tr>\n",
       "      <th>9</th>\n",
       "      <td>2000-10-01</td>\n",
       "      <td>7.80</td>\n",
       "    </tr>\n",
       "  </tbody>\n",
       "</table>\n",
       "</div>"
      ],
      "text/plain": [
       "      Period  Mortgage\n",
       "0 2000-01-01      8.21\n",
       "1 2000-02-01      8.32\n",
       "2 2000-03-01      8.24\n",
       "3 2000-04-01      8.15\n",
       "4 2000-05-01      8.52\n",
       "5 2000-06-01      8.29\n",
       "6 2000-07-01      8.15\n",
       "7 2000-08-01      8.03\n",
       "8 2000-09-01      7.91\n",
       "9 2000-10-01      7.80"
      ]
     },
     "execution_count": 61,
     "metadata": {},
     "output_type": "execute_result"
    }
   ],
   "source": [
    "mortgage.head(10)"
   ]
  },
  {
   "cell_type": "markdown",
   "id": "821f2087",
   "metadata": {},
   "source": [
    "## *Months of supply*"
   ]
  },
  {
   "cell_type": "code",
   "execution_count": 62,
   "id": "ca7715c5",
   "metadata": {},
   "outputs": [],
   "source": [
    "# Source :  Federal Reserve Economic Data (FRED) database\n",
    "\n",
    "mos = pd.read_csv('Months_of_Supply.csv').rename(columns={'DATE':'Period', 'MSACSR':'Months of Supply'})"
   ]
  },
  {
   "cell_type": "code",
   "execution_count": 63,
   "id": "ced4e23e",
   "metadata": {},
   "outputs": [],
   "source": [
    "mos[\"Period\"] = pd.to_datetime(mos[\"Period\"])"
   ]
  },
  {
   "cell_type": "code",
   "execution_count": 64,
   "id": "58d5c48a",
   "metadata": {},
   "outputs": [
    {
     "data": {
      "text/html": [
       "<div>\n",
       "<style scoped>\n",
       "    .dataframe tbody tr th:only-of-type {\n",
       "        vertical-align: middle;\n",
       "    }\n",
       "\n",
       "    .dataframe tbody tr th {\n",
       "        vertical-align: top;\n",
       "    }\n",
       "\n",
       "    .dataframe thead th {\n",
       "        text-align: right;\n",
       "    }\n",
       "</style>\n",
       "<table border=\"1\" class=\"dataframe\">\n",
       "  <thead>\n",
       "    <tr style=\"text-align: right;\">\n",
       "      <th></th>\n",
       "      <th>Period</th>\n",
       "      <th>Months of Supply</th>\n",
       "    </tr>\n",
       "  </thead>\n",
       "  <tbody>\n",
       "    <tr>\n",
       "      <th>0</th>\n",
       "      <td>2000-01-01</td>\n",
       "      <td>4.3</td>\n",
       "    </tr>\n",
       "    <tr>\n",
       "      <th>1</th>\n",
       "      <td>2000-02-01</td>\n",
       "      <td>4.3</td>\n",
       "    </tr>\n",
       "    <tr>\n",
       "      <th>2</th>\n",
       "      <td>2000-03-01</td>\n",
       "      <td>4.3</td>\n",
       "    </tr>\n",
       "    <tr>\n",
       "      <th>3</th>\n",
       "      <td>2000-04-01</td>\n",
       "      <td>4.4</td>\n",
       "    </tr>\n",
       "    <tr>\n",
       "      <th>4</th>\n",
       "      <td>2000-05-01</td>\n",
       "      <td>4.4</td>\n",
       "    </tr>\n",
       "    <tr>\n",
       "      <th>5</th>\n",
       "      <td>2000-06-01</td>\n",
       "      <td>4.8</td>\n",
       "    </tr>\n",
       "    <tr>\n",
       "      <th>6</th>\n",
       "      <td>2000-07-01</td>\n",
       "      <td>4.1</td>\n",
       "    </tr>\n",
       "    <tr>\n",
       "      <th>7</th>\n",
       "      <td>2000-08-01</td>\n",
       "      <td>4.4</td>\n",
       "    </tr>\n",
       "    <tr>\n",
       "      <th>8</th>\n",
       "      <td>2000-09-01</td>\n",
       "      <td>4.0</td>\n",
       "    </tr>\n",
       "    <tr>\n",
       "      <th>9</th>\n",
       "      <td>2000-10-01</td>\n",
       "      <td>4.0</td>\n",
       "    </tr>\n",
       "  </tbody>\n",
       "</table>\n",
       "</div>"
      ],
      "text/plain": [
       "      Period  Months of Supply\n",
       "0 2000-01-01               4.3\n",
       "1 2000-02-01               4.3\n",
       "2 2000-03-01               4.3\n",
       "3 2000-04-01               4.4\n",
       "4 2000-05-01               4.4\n",
       "5 2000-06-01               4.8\n",
       "6 2000-07-01               4.1\n",
       "7 2000-08-01               4.4\n",
       "8 2000-09-01               4.0\n",
       "9 2000-10-01               4.0"
      ]
     },
     "execution_count": 64,
     "metadata": {},
     "output_type": "execute_result"
    }
   ],
   "source": [
    "mos.head(10)"
   ]
  },
  {
   "cell_type": "markdown",
   "id": "8d98abb0",
   "metadata": {},
   "source": [
    "## *Unemployment*"
   ]
  },
  {
   "cell_type": "code",
   "execution_count": 65,
   "id": "d39895c2",
   "metadata": {},
   "outputs": [],
   "source": [
    "# Source :  Federal Reserve Economic Data (FRED) database\n",
    "\n",
    "unemp = pd.read_csv('unemp.csv').rename(columns={'DATE':'Period', 'UNRATE':'Unemployment'})"
   ]
  },
  {
   "cell_type": "code",
   "execution_count": 66,
   "id": "6a43b9df",
   "metadata": {},
   "outputs": [],
   "source": [
    "unemp[\"Period\"] = pd.to_datetime(unemp[\"Period\"])"
   ]
  },
  {
   "cell_type": "code",
   "execution_count": 67,
   "id": "2ff65cb3",
   "metadata": {},
   "outputs": [
    {
     "name": "stdout",
     "output_type": "stream",
     "text": [
      "<class 'pandas.core.frame.DataFrame'>\n",
      "RangeIndex: 250 entries, 0 to 249\n",
      "Data columns (total 2 columns):\n",
      " #   Column        Non-Null Count  Dtype         \n",
      "---  ------        --------------  -----         \n",
      " 0   Period        250 non-null    datetime64[ns]\n",
      " 1   Unemployment  250 non-null    float64       \n",
      "dtypes: datetime64[ns](1), float64(1)\n",
      "memory usage: 4.0 KB\n"
     ]
    }
   ],
   "source": [
    "unemp.info()"
   ]
  },
  {
   "cell_type": "code",
   "execution_count": 68,
   "id": "cbbdbd82",
   "metadata": {},
   "outputs": [
    {
     "data": {
      "text/html": [
       "<div>\n",
       "<style scoped>\n",
       "    .dataframe tbody tr th:only-of-type {\n",
       "        vertical-align: middle;\n",
       "    }\n",
       "\n",
       "    .dataframe tbody tr th {\n",
       "        vertical-align: top;\n",
       "    }\n",
       "\n",
       "    .dataframe thead th {\n",
       "        text-align: right;\n",
       "    }\n",
       "</style>\n",
       "<table border=\"1\" class=\"dataframe\">\n",
       "  <thead>\n",
       "    <tr style=\"text-align: right;\">\n",
       "      <th></th>\n",
       "      <th>Period</th>\n",
       "      <th>Unemployment</th>\n",
       "    </tr>\n",
       "  </thead>\n",
       "  <tbody>\n",
       "    <tr>\n",
       "      <th>0</th>\n",
       "      <td>2000-01-01</td>\n",
       "      <td>4.0</td>\n",
       "    </tr>\n",
       "    <tr>\n",
       "      <th>1</th>\n",
       "      <td>2000-02-01</td>\n",
       "      <td>4.1</td>\n",
       "    </tr>\n",
       "    <tr>\n",
       "      <th>2</th>\n",
       "      <td>2000-03-01</td>\n",
       "      <td>4.0</td>\n",
       "    </tr>\n",
       "    <tr>\n",
       "      <th>3</th>\n",
       "      <td>2000-04-01</td>\n",
       "      <td>3.8</td>\n",
       "    </tr>\n",
       "    <tr>\n",
       "      <th>4</th>\n",
       "      <td>2000-05-01</td>\n",
       "      <td>4.0</td>\n",
       "    </tr>\n",
       "    <tr>\n",
       "      <th>5</th>\n",
       "      <td>2000-06-01</td>\n",
       "      <td>4.0</td>\n",
       "    </tr>\n",
       "    <tr>\n",
       "      <th>6</th>\n",
       "      <td>2000-07-01</td>\n",
       "      <td>4.0</td>\n",
       "    </tr>\n",
       "    <tr>\n",
       "      <th>7</th>\n",
       "      <td>2000-08-01</td>\n",
       "      <td>4.1</td>\n",
       "    </tr>\n",
       "    <tr>\n",
       "      <th>8</th>\n",
       "      <td>2000-09-01</td>\n",
       "      <td>3.9</td>\n",
       "    </tr>\n",
       "    <tr>\n",
       "      <th>9</th>\n",
       "      <td>2000-10-01</td>\n",
       "      <td>3.9</td>\n",
       "    </tr>\n",
       "  </tbody>\n",
       "</table>\n",
       "</div>"
      ],
      "text/plain": [
       "      Period  Unemployment\n",
       "0 2000-01-01           4.0\n",
       "1 2000-02-01           4.1\n",
       "2 2000-03-01           4.0\n",
       "3 2000-04-01           3.8\n",
       "4 2000-05-01           4.0\n",
       "5 2000-06-01           4.0\n",
       "6 2000-07-01           4.0\n",
       "7 2000-08-01           4.1\n",
       "8 2000-09-01           3.9\n",
       "9 2000-10-01           3.9"
      ]
     },
     "execution_count": 68,
     "metadata": {},
     "output_type": "execute_result"
    }
   ],
   "source": [
    "unemp.head(10)"
   ]
  },
  {
   "cell_type": "markdown",
   "id": "da8d0bd3",
   "metadata": {},
   "source": [
    "## *USA GDP monthly*"
   ]
  },
  {
   "cell_type": "code",
   "execution_count": 69,
   "id": "501cf15f",
   "metadata": {},
   "outputs": [],
   "source": [
    "# Source :  Federal Reserve Economic Data (FRED) database\n",
    "\n",
    "gdp = pd.read_csv(\"GDP_Monthly.csv\").rename(columns={'DATE': 'Period', 'USALORSGPNOSTSAM':'USA_GDP'})"
   ]
  },
  {
   "cell_type": "code",
   "execution_count": 70,
   "id": "8851cf4a",
   "metadata": {},
   "outputs": [],
   "source": [
    "gdp[\"Period\"] = pd.to_datetime(gdp[\"Period\"])"
   ]
  },
  {
   "cell_type": "code",
   "execution_count": 71,
   "id": "3322a31d",
   "metadata": {},
   "outputs": [],
   "source": [
    "gdp[\"USA_GDP\"] = round(gdp[\"USA_GDP\"], 2)"
   ]
  },
  {
   "cell_type": "code",
   "execution_count": 72,
   "id": "a62b8b81",
   "metadata": {},
   "outputs": [
    {
     "name": "stdout",
     "output_type": "stream",
     "text": [
      "<class 'pandas.core.frame.DataFrame'>\n",
      "RangeIndex: 250 entries, 0 to 249\n",
      "Data columns (total 2 columns):\n",
      " #   Column   Non-Null Count  Dtype         \n",
      "---  ------   --------------  -----         \n",
      " 0   Period   250 non-null    datetime64[ns]\n",
      " 1   USA_GDP  250 non-null    float64       \n",
      "dtypes: datetime64[ns](1), float64(1)\n",
      "memory usage: 4.0 KB\n"
     ]
    }
   ],
   "source": [
    "gdp.info()"
   ]
  },
  {
   "cell_type": "code",
   "execution_count": 73,
   "id": "dee4100a",
   "metadata": {},
   "outputs": [
    {
     "data": {
      "text/html": [
       "<div>\n",
       "<style scoped>\n",
       "    .dataframe tbody tr th:only-of-type {\n",
       "        vertical-align: middle;\n",
       "    }\n",
       "\n",
       "    .dataframe tbody tr th {\n",
       "        vertical-align: top;\n",
       "    }\n",
       "\n",
       "    .dataframe thead th {\n",
       "        text-align: right;\n",
       "    }\n",
       "</style>\n",
       "<table border=\"1\" class=\"dataframe\">\n",
       "  <thead>\n",
       "    <tr style=\"text-align: right;\">\n",
       "      <th></th>\n",
       "      <th>Period</th>\n",
       "      <th>USA_GDP</th>\n",
       "    </tr>\n",
       "  </thead>\n",
       "  <tbody>\n",
       "    <tr>\n",
       "      <th>0</th>\n",
       "      <td>2000-01-01</td>\n",
       "      <td>101.52</td>\n",
       "    </tr>\n",
       "    <tr>\n",
       "      <th>1</th>\n",
       "      <td>2000-02-01</td>\n",
       "      <td>101.58</td>\n",
       "    </tr>\n",
       "    <tr>\n",
       "      <th>2</th>\n",
       "      <td>2000-03-01</td>\n",
       "      <td>101.66</td>\n",
       "    </tr>\n",
       "    <tr>\n",
       "      <th>3</th>\n",
       "      <td>2000-04-01</td>\n",
       "      <td>101.73</td>\n",
       "    </tr>\n",
       "    <tr>\n",
       "      <th>4</th>\n",
       "      <td>2000-05-01</td>\n",
       "      <td>101.77</td>\n",
       "    </tr>\n",
       "    <tr>\n",
       "      <th>5</th>\n",
       "      <td>2000-06-01</td>\n",
       "      <td>101.76</td>\n",
       "    </tr>\n",
       "    <tr>\n",
       "      <th>6</th>\n",
       "      <td>2000-07-01</td>\n",
       "      <td>101.71</td>\n",
       "    </tr>\n",
       "    <tr>\n",
       "      <th>7</th>\n",
       "      <td>2000-08-01</td>\n",
       "      <td>101.62</td>\n",
       "    </tr>\n",
       "    <tr>\n",
       "      <th>8</th>\n",
       "      <td>2000-09-01</td>\n",
       "      <td>101.50</td>\n",
       "    </tr>\n",
       "    <tr>\n",
       "      <th>9</th>\n",
       "      <td>2000-10-01</td>\n",
       "      <td>101.36</td>\n",
       "    </tr>\n",
       "  </tbody>\n",
       "</table>\n",
       "</div>"
      ],
      "text/plain": [
       "      Period  USA_GDP\n",
       "0 2000-01-01   101.52\n",
       "1 2000-02-01   101.58\n",
       "2 2000-03-01   101.66\n",
       "3 2000-04-01   101.73\n",
       "4 2000-05-01   101.77\n",
       "5 2000-06-01   101.76\n",
       "6 2000-07-01   101.71\n",
       "7 2000-08-01   101.62\n",
       "8 2000-09-01   101.50\n",
       "9 2000-10-01   101.36"
      ]
     },
     "execution_count": 73,
     "metadata": {},
     "output_type": "execute_result"
    }
   ],
   "source": [
    "gdp.head(10)"
   ]
  },
  {
   "cell_type": "markdown",
   "id": "b01341ab",
   "metadata": {},
   "source": [
    "#####  We have all the factors available in the form of csv files. \n",
    "##### Now let's merge all these files and create one large monthly file consisting of all the factors as shown below "
   ]
  },
  {
   "cell_type": "code",
   "execution_count": 74,
   "id": "bfaac165",
   "metadata": {},
   "outputs": [],
   "source": [
    "dfs = [gdp, unemp, mos, mortgage, housing_starts, pc, income, savings, feds, homes_sold, home_sale]"
   ]
  },
  {
   "cell_type": "code",
   "execution_count": 75,
   "id": "583bdf8d",
   "metadata": {},
   "outputs": [],
   "source": [
    "# Merge dataframes using outer join on the 'Period' column\n",
    "\n",
    "x_monthly = pd.merge(dfs[0], dfs[1], how='outer', on='Period')"
   ]
  },
  {
   "cell_type": "code",
   "execution_count": 76,
   "id": "5033db37",
   "metadata": {},
   "outputs": [],
   "source": [
    "for df in dfs[2:]:\n",
    "    x_monthly = pd.merge(x_monthly, df, how='outer', on='Period')"
   ]
  },
  {
   "cell_type": "code",
   "execution_count": 77,
   "id": "f967bf8f",
   "metadata": {},
   "outputs": [],
   "source": [
    "x_monthly.set_index('Period', inplace=True)"
   ]
  },
  {
   "cell_type": "code",
   "execution_count": 78,
   "id": "6b242a12",
   "metadata": {},
   "outputs": [
    {
     "name": "stdout",
     "output_type": "stream",
     "text": [
      "<class 'pandas.core.frame.DataFrame'>\n",
      "DatetimeIndex: 250 entries, 2000-01-01 to 2020-10-01\n",
      "Data columns (total 11 columns):\n",
      " #   Column                Non-Null Count  Dtype  \n",
      "---  ------                --------------  -----  \n",
      " 0   USA_GDP               250 non-null    float64\n",
      " 1   Unemployment          250 non-null    float64\n",
      " 2   Months of Supply      250 non-null    float64\n",
      " 3   Mortgage              250 non-null    float64\n",
      " 4   Housing_Starts        250 non-null    int32  \n",
      " 5   Personal Consumption  250 non-null    float64\n",
      " 6   Personal Income       250 non-null    float64\n",
      " 7   Savings               250 non-null    float64\n",
      " 8   Fed Funds Rate        250 non-null    float64\n",
      " 9   Homes Sold            250 non-null    int32  \n",
      " 10  Homes for Sale        250 non-null    int32  \n",
      "dtypes: float64(8), int32(3)\n",
      "memory usage: 20.5 KB\n"
     ]
    }
   ],
   "source": [
    "x_monthly.info()"
   ]
  },
  {
   "cell_type": "code",
   "execution_count": 79,
   "id": "bbab49c0",
   "metadata": {},
   "outputs": [
    {
     "name": "stdout",
     "output_type": "stream",
     "text": [
      "<class 'pandas.core.frame.DataFrame'>\n",
      "DatetimeIndex: 250 entries, 2000-01-01 to 2020-10-01\n",
      "Data columns (total 1 columns):\n",
      " #   Column  Non-Null Count  Dtype  \n",
      "---  ------  --------------  -----  \n",
      " 0   HPI     250 non-null    float64\n",
      "dtypes: float64(1)\n",
      "memory usage: 3.9 KB\n"
     ]
    }
   ],
   "source": [
    "y_monthly.info()"
   ]
  },
  {
   "cell_type": "code",
   "execution_count": 80,
   "id": "15abe700",
   "metadata": {},
   "outputs": [
    {
     "name": "stdout",
     "output_type": "stream",
     "text": [
      "USA_GDP                 float64\n",
      "Unemployment            float64\n",
      "Months of Supply        float64\n",
      "Mortgage                float64\n",
      "Housing_Starts            int32\n",
      "Personal Consumption    float64\n",
      "Personal Income         float64\n",
      "Savings                 float64\n",
      "Fed Funds Rate          float64\n",
      "Homes Sold                int32\n",
      "Homes for Sale            int32\n",
      "dtype: object\n",
      "\n",
      "\n",
      "HPI    float64\n",
      "dtype: object\n"
     ]
    }
   ],
   "source": [
    "print(x_monthly.dtypes)\n",
    "print('\\n')\n",
    "print(y_monthly.dtypes)"
   ]
  },
  {
   "cell_type": "markdown",
   "id": "623438b5",
   "metadata": {},
   "source": [
    "### *Now let's build a Machine Learning(ML) model that explains how these factors impacted home prices over the last 20 years*"
   ]
  },
  {
   "cell_type": "code",
   "execution_count": 81,
   "id": "b27c71f8",
   "metadata": {},
   "outputs": [],
   "source": [
    "from sklearn.model_selection import train_test_split # Import the train_test_split function from scikit-learn for data splitting.\n",
    "from sklearn.linear_model import LinearRegression  # Import the LinearRegression model from scikit-learn.\n",
    "from sklearn import metrics # Import the metrics module from scikit-learn for evaluating model performance."
   ]
  },
  {
   "cell_type": "code",
   "execution_count": 82,
   "id": "5bacce8d",
   "metadata": {},
   "outputs": [],
   "source": [
    "# Creating x feature variable containing specific columns from the 'x_monthly'.\n",
    "\n",
    "x = x_monthly[['USA_GDP', 'Unemployment', 'Months of Supply', 'Mortgage', 'Housing_Starts', \n",
    "           'Personal Consumption', 'Personal Income', 'Savings', 'Fed Funds Rate', 'Homes Sold', 'Homes for Sale']]"
   ]
  },
  {
   "cell_type": "code",
   "execution_count": 83,
   "id": "a75ca713",
   "metadata": {},
   "outputs": [
    {
     "data": {
      "text/html": [
       "<div>\n",
       "<style scoped>\n",
       "    .dataframe tbody tr th:only-of-type {\n",
       "        vertical-align: middle;\n",
       "    }\n",
       "\n",
       "    .dataframe tbody tr th {\n",
       "        vertical-align: top;\n",
       "    }\n",
       "\n",
       "    .dataframe thead th {\n",
       "        text-align: right;\n",
       "    }\n",
       "</style>\n",
       "<table border=\"1\" class=\"dataframe\">\n",
       "  <thead>\n",
       "    <tr style=\"text-align: right;\">\n",
       "      <th></th>\n",
       "      <th>USA_GDP</th>\n",
       "      <th>Unemployment</th>\n",
       "      <th>Months of Supply</th>\n",
       "      <th>Mortgage</th>\n",
       "      <th>Housing_Starts</th>\n",
       "      <th>Personal Consumption</th>\n",
       "      <th>Personal Income</th>\n",
       "      <th>Savings</th>\n",
       "      <th>Fed Funds Rate</th>\n",
       "      <th>Homes Sold</th>\n",
       "      <th>Homes for Sale</th>\n",
       "    </tr>\n",
       "    <tr>\n",
       "      <th>Period</th>\n",
       "      <th></th>\n",
       "      <th></th>\n",
       "      <th></th>\n",
       "      <th></th>\n",
       "      <th></th>\n",
       "      <th></th>\n",
       "      <th></th>\n",
       "      <th></th>\n",
       "      <th></th>\n",
       "      <th></th>\n",
       "      <th></th>\n",
       "    </tr>\n",
       "  </thead>\n",
       "  <tbody>\n",
       "    <tr>\n",
       "      <th>2000-01-01</th>\n",
       "      <td>101.52</td>\n",
       "      <td>4.0</td>\n",
       "      <td>4.3</td>\n",
       "      <td>8.21</td>\n",
       "      <td>1568</td>\n",
       "      <td>6542.9</td>\n",
       "      <td>9309.1</td>\n",
       "      <td>358.9</td>\n",
       "      <td>5.45</td>\n",
       "      <td>877</td>\n",
       "      <td>301</td>\n",
       "    </tr>\n",
       "    <tr>\n",
       "      <th>2000-02-01</th>\n",
       "      <td>101.58</td>\n",
       "      <td>4.1</td>\n",
       "      <td>4.3</td>\n",
       "      <td>8.32</td>\n",
       "      <td>1570</td>\n",
       "      <td>6625.3</td>\n",
       "      <td>9345.2</td>\n",
       "      <td>324.3</td>\n",
       "      <td>5.73</td>\n",
       "      <td>879</td>\n",
       "      <td>301</td>\n",
       "    </tr>\n",
       "    <tr>\n",
       "      <th>2000-03-01</th>\n",
       "      <td>101.66</td>\n",
       "      <td>4.0</td>\n",
       "      <td>4.3</td>\n",
       "      <td>8.24</td>\n",
       "      <td>1573</td>\n",
       "      <td>6686.5</td>\n",
       "      <td>9370.3</td>\n",
       "      <td>311.8</td>\n",
       "      <td>5.85</td>\n",
       "      <td>882</td>\n",
       "      <td>302</td>\n",
       "    </tr>\n",
       "  </tbody>\n",
       "</table>\n",
       "</div>"
      ],
      "text/plain": [
       "            USA_GDP  Unemployment  Months of Supply  Mortgage  Housing_Starts   \n",
       "Period                                                                          \n",
       "2000-01-01   101.52           4.0               4.3      8.21            1568  \\\n",
       "2000-02-01   101.58           4.1               4.3      8.32            1570   \n",
       "2000-03-01   101.66           4.0               4.3      8.24            1573   \n",
       "\n",
       "            Personal Consumption  Personal Income  Savings  Fed Funds Rate   \n",
       "Period                                                                       \n",
       "2000-01-01                6542.9           9309.1    358.9            5.45  \\\n",
       "2000-02-01                6625.3           9345.2    324.3            5.73   \n",
       "2000-03-01                6686.5           9370.3    311.8            5.85   \n",
       "\n",
       "            Homes Sold  Homes for Sale  \n",
       "Period                                  \n",
       "2000-01-01         877             301  \n",
       "2000-02-01         879             301  \n",
       "2000-03-01         882             302  "
      ]
     },
     "execution_count": 83,
     "metadata": {},
     "output_type": "execute_result"
    }
   ],
   "source": [
    "x.head(3)"
   ]
  },
  {
   "cell_type": "code",
   "execution_count": 84,
   "id": "f2f88024",
   "metadata": {},
   "outputs": [],
   "source": [
    "# 'y' Represents target variable for modeling\n",
    "\n",
    "y = y_monthly[['HPI']]"
   ]
  },
  {
   "cell_type": "code",
   "execution_count": 85,
   "id": "37b21fc2",
   "metadata": {},
   "outputs": [
    {
     "data": {
      "text/html": [
       "<div>\n",
       "<style scoped>\n",
       "    .dataframe tbody tr th:only-of-type {\n",
       "        vertical-align: middle;\n",
       "    }\n",
       "\n",
       "    .dataframe tbody tr th {\n",
       "        vertical-align: top;\n",
       "    }\n",
       "\n",
       "    .dataframe thead th {\n",
       "        text-align: right;\n",
       "    }\n",
       "</style>\n",
       "<table border=\"1\" class=\"dataframe\">\n",
       "  <thead>\n",
       "    <tr style=\"text-align: right;\">\n",
       "      <th></th>\n",
       "      <th>HPI</th>\n",
       "    </tr>\n",
       "    <tr>\n",
       "      <th>DATE</th>\n",
       "      <th></th>\n",
       "    </tr>\n",
       "  </thead>\n",
       "  <tbody>\n",
       "    <tr>\n",
       "      <th>2000-01-01</th>\n",
       "      <td>100.55</td>\n",
       "    </tr>\n",
       "    <tr>\n",
       "      <th>2000-02-01</th>\n",
       "      <td>101.34</td>\n",
       "    </tr>\n",
       "    <tr>\n",
       "      <th>2000-03-01</th>\n",
       "      <td>102.13</td>\n",
       "    </tr>\n",
       "  </tbody>\n",
       "</table>\n",
       "</div>"
      ],
      "text/plain": [
       "               HPI\n",
       "DATE              \n",
       "2000-01-01  100.55\n",
       "2000-02-01  101.34\n",
       "2000-03-01  102.13"
      ]
     },
     "execution_count": 85,
     "metadata": {},
     "output_type": "execute_result"
    }
   ],
   "source": [
    "y.head(3)"
   ]
  },
  {
   "cell_type": "code",
   "execution_count": 86,
   "id": "5ddae00a",
   "metadata": {},
   "outputs": [],
   "source": [
    "# Split the feature data 'x' and target variable 'y' into training and testing sets.\n",
    "\n",
    "X_train, X_test, y_train, y_test = train_test_split(x, y, test_size=0.3, shuffle=False, stratify=None)"
   ]
  },
  {
   "cell_type": "code",
   "execution_count": 87,
   "id": "2c63af76",
   "metadata": {},
   "outputs": [],
   "source": [
    "# Creating Linear Regression model instance\n",
    "\n",
    "model = LinearRegression()"
   ]
  },
  {
   "cell_type": "code",
   "execution_count": 88,
   "id": "1eece0c6",
   "metadata": {},
   "outputs": [
    {
     "data": {
      "text/html": [
       "<style>#sk-container-id-1 {color: black;}#sk-container-id-1 pre{padding: 0;}#sk-container-id-1 div.sk-toggleable {background-color: white;}#sk-container-id-1 label.sk-toggleable__label {cursor: pointer;display: block;width: 100%;margin-bottom: 0;padding: 0.3em;box-sizing: border-box;text-align: center;}#sk-container-id-1 label.sk-toggleable__label-arrow:before {content: \"▸\";float: left;margin-right: 0.25em;color: #696969;}#sk-container-id-1 label.sk-toggleable__label-arrow:hover:before {color: black;}#sk-container-id-1 div.sk-estimator:hover label.sk-toggleable__label-arrow:before {color: black;}#sk-container-id-1 div.sk-toggleable__content {max-height: 0;max-width: 0;overflow: hidden;text-align: left;background-color: #f0f8ff;}#sk-container-id-1 div.sk-toggleable__content pre {margin: 0.2em;color: black;border-radius: 0.25em;background-color: #f0f8ff;}#sk-container-id-1 input.sk-toggleable__control:checked~div.sk-toggleable__content {max-height: 200px;max-width: 100%;overflow: auto;}#sk-container-id-1 input.sk-toggleable__control:checked~label.sk-toggleable__label-arrow:before {content: \"▾\";}#sk-container-id-1 div.sk-estimator input.sk-toggleable__control:checked~label.sk-toggleable__label {background-color: #d4ebff;}#sk-container-id-1 div.sk-label input.sk-toggleable__control:checked~label.sk-toggleable__label {background-color: #d4ebff;}#sk-container-id-1 input.sk-hidden--visually {border: 0;clip: rect(1px 1px 1px 1px);clip: rect(1px, 1px, 1px, 1px);height: 1px;margin: -1px;overflow: hidden;padding: 0;position: absolute;width: 1px;}#sk-container-id-1 div.sk-estimator {font-family: monospace;background-color: #f0f8ff;border: 1px dotted black;border-radius: 0.25em;box-sizing: border-box;margin-bottom: 0.5em;}#sk-container-id-1 div.sk-estimator:hover {background-color: #d4ebff;}#sk-container-id-1 div.sk-parallel-item::after {content: \"\";width: 100%;border-bottom: 1px solid gray;flex-grow: 1;}#sk-container-id-1 div.sk-label:hover label.sk-toggleable__label {background-color: #d4ebff;}#sk-container-id-1 div.sk-serial::before {content: \"\";position: absolute;border-left: 1px solid gray;box-sizing: border-box;top: 0;bottom: 0;left: 50%;z-index: 0;}#sk-container-id-1 div.sk-serial {display: flex;flex-direction: column;align-items: center;background-color: white;padding-right: 0.2em;padding-left: 0.2em;position: relative;}#sk-container-id-1 div.sk-item {position: relative;z-index: 1;}#sk-container-id-1 div.sk-parallel {display: flex;align-items: stretch;justify-content: center;background-color: white;position: relative;}#sk-container-id-1 div.sk-item::before, #sk-container-id-1 div.sk-parallel-item::before {content: \"\";position: absolute;border-left: 1px solid gray;box-sizing: border-box;top: 0;bottom: 0;left: 50%;z-index: -1;}#sk-container-id-1 div.sk-parallel-item {display: flex;flex-direction: column;z-index: 1;position: relative;background-color: white;}#sk-container-id-1 div.sk-parallel-item:first-child::after {align-self: flex-end;width: 50%;}#sk-container-id-1 div.sk-parallel-item:last-child::after {align-self: flex-start;width: 50%;}#sk-container-id-1 div.sk-parallel-item:only-child::after {width: 0;}#sk-container-id-1 div.sk-dashed-wrapped {border: 1px dashed gray;margin: 0 0.4em 0.5em 0.4em;box-sizing: border-box;padding-bottom: 0.4em;background-color: white;}#sk-container-id-1 div.sk-label label {font-family: monospace;font-weight: bold;display: inline-block;line-height: 1.2em;}#sk-container-id-1 div.sk-label-container {text-align: center;}#sk-container-id-1 div.sk-container {/* jupyter's `normalize.less` sets `[hidden] { display: none; }` but bootstrap.min.css set `[hidden] { display: none !important; }` so we also need the `!important` here to be able to override the default hidden behavior on the sphinx rendered scikit-learn.org. See: https://github.com/scikit-learn/scikit-learn/issues/21755 */display: inline-block !important;position: relative;}#sk-container-id-1 div.sk-text-repr-fallback {display: none;}</style><div id=\"sk-container-id-1\" class=\"sk-top-container\"><div class=\"sk-text-repr-fallback\"><pre>LinearRegression()</pre><b>In a Jupyter environment, please rerun this cell to show the HTML representation or trust the notebook. <br />On GitHub, the HTML representation is unable to render, please try loading this page with nbviewer.org.</b></div><div class=\"sk-container\" hidden><div class=\"sk-item\"><div class=\"sk-estimator sk-toggleable\"><input class=\"sk-toggleable__control sk-hidden--visually\" id=\"sk-estimator-id-1\" type=\"checkbox\" checked><label for=\"sk-estimator-id-1\" class=\"sk-toggleable__label sk-toggleable__label-arrow\">LinearRegression</label><div class=\"sk-toggleable__content\"><pre>LinearRegression()</pre></div></div></div></div></div>"
      ],
      "text/plain": [
       "LinearRegression()"
      ]
     },
     "execution_count": 88,
     "metadata": {},
     "output_type": "execute_result"
    }
   ],
   "source": [
    "# Train the model using corresponding feature and target values\n",
    "\n",
    "model.fit(X_train, y_train)"
   ]
  },
  {
   "cell_type": "code",
   "execution_count": 89,
   "id": "3861c4c8",
   "metadata": {},
   "outputs": [],
   "source": [
    "# Make predictions on the test data 'X_test'\n",
    "\n",
    "y_predict = model.predict(X_test)"
   ]
  },
  {
   "cell_type": "code",
   "execution_count": 90,
   "id": "9bc29cf4",
   "metadata": {},
   "outputs": [
    {
     "data": {
      "text/plain": [
       "array([[165.28453247],\n",
       "       [165.22985996],\n",
       "       [166.10403159]])"
      ]
     },
     "execution_count": 90,
     "metadata": {},
     "output_type": "execute_result"
    }
   ],
   "source": [
    "y_predict[0:3]"
   ]
  },
  {
   "cell_type": "code",
   "execution_count": 91,
   "id": "675295ba",
   "metadata": {},
   "outputs": [
    {
     "name": "stdout",
     "output_type": "stream",
     "text": [
      "[[-1.23275554  1.07697972  1.13622129  0.94680826  0.00703515  0.01254401\n",
      "   0.00155432 -0.00690965  0.16672316 -0.03408859  0.20914769]]\n"
     ]
    }
   ],
   "source": [
    "#  Finding out the relationship between each feature and the target variable.\n",
    "\n",
    "print(model.coef_)"
   ]
  },
  {
   "cell_type": "code",
   "execution_count": 92,
   "id": "b96d225a",
   "metadata": {},
   "outputs": [
    {
     "name": "stdout",
     "output_type": "stream",
     "text": [
      "[70.32696808]\n"
     ]
    }
   ],
   "source": [
    "# Printing estimated values(intercepts) when all features are zero\n",
    "\n",
    "print(model.intercept_)"
   ]
  },
  {
   "cell_type": "code",
   "execution_count": 93,
   "id": "28e667ec",
   "metadata": {},
   "outputs": [
    {
     "name": "stdout",
     "output_type": "stream",
     "text": [
      "0.9957584047248025\n"
     ]
    }
   ],
   "source": [
    "print(model.score(X_train, y_train))"
   ]
  },
  {
   "cell_type": "code",
   "execution_count": 94,
   "id": "0eff90c9",
   "metadata": {},
   "outputs": [
    {
     "name": "stdout",
     "output_type": "stream",
     "text": [
      "0.7288678856123973\n"
     ]
    }
   ],
   "source": [
    "print(model.score(X_test, y_test))"
   ]
  },
  {
   "cell_type": "markdown",
   "id": "20de1a7e",
   "metadata": {},
   "source": [
    "##### **To assess the performance of the model, below evaluation metrics can be used**"
   ]
  },
  {
   "cell_type": "code",
   "execution_count": 95,
   "id": "7c3e4c3c",
   "metadata": {},
   "outputs": [
    {
     "name": "stdout",
     "output_type": "stream",
     "text": [
      "Mean Absolute Error: 5.583874341090686\n"
     ]
    }
   ],
   "source": [
    "print('Mean Absolute Error:', metrics.mean_absolute_error(y_test, y_predict))"
   ]
  },
  {
   "cell_type": "code",
   "execution_count": 96,
   "id": "fff02443",
   "metadata": {},
   "outputs": [
    {
     "name": "stdout",
     "output_type": "stream",
     "text": [
      "Mean Squared Error: 81.45361890306624\n"
     ]
    }
   ],
   "source": [
    "print('Mean Squared Error:', metrics.mean_squared_error(y_test, y_predict))"
   ]
  },
  {
   "cell_type": "code",
   "execution_count": 97,
   "id": "d40d8f37",
   "metadata": {},
   "outputs": [
    {
     "name": "stdout",
     "output_type": "stream",
     "text": [
      "Root Mean Squared Error: 9.025165865681707\n"
     ]
    }
   ],
   "source": [
    "import numpy as np\n",
    "\n",
    "print('Root Mean Squared Error:', np.sqrt(metrics.mean_squared_error(y_test, y_predict)))"
   ]
  },
  {
   "cell_type": "code",
   "execution_count": 98,
   "id": "e9bcfc2f",
   "metadata": {},
   "outputs": [
    {
     "name": "stdout",
     "output_type": "stream",
     "text": [
      "              HPI\n",
      "count   75.000000\n",
      "mean   193.426133\n",
      "std     17.449359\n",
      "min    165.220000\n",
      "25%    177.910000\n",
      "50%    193.770000\n",
      "75%    207.265000\n",
      "max    229.890000\n"
     ]
    }
   ],
   "source": [
    "print(y_test.describe())"
   ]
  },
  {
   "cell_type": "markdown",
   "id": "3c4c4370",
   "metadata": {},
   "source": [
    "### Observations :\n",
    "#### ***The Root Mean Squared error is less than 10% of the mean value of HPI, and lesser than the standard deviation of the HPI in the test data. This indicates the the model is doing good in predicting values.*** "
   ]
  },
  {
   "cell_type": "code",
   "execution_count": 99,
   "id": "2e2de2dd",
   "metadata": {},
   "outputs": [],
   "source": [
    "# Actual target values from y_test vs predicted values by the model\n",
    "\n",
    "result = pd.DataFrame({'Actual': y_test.squeeze(), 'Predicted': y_predict.squeeze()})"
   ]
  },
  {
   "cell_type": "code",
   "execution_count": 100,
   "id": "6882f00f",
   "metadata": {},
   "outputs": [
    {
     "data": {
      "text/html": [
       "<div>\n",
       "<style scoped>\n",
       "    .dataframe tbody tr th:only-of-type {\n",
       "        vertical-align: middle;\n",
       "    }\n",
       "\n",
       "    .dataframe tbody tr th {\n",
       "        vertical-align: top;\n",
       "    }\n",
       "\n",
       "    .dataframe thead th {\n",
       "        text-align: right;\n",
       "    }\n",
       "</style>\n",
       "<table border=\"1\" class=\"dataframe\">\n",
       "  <thead>\n",
       "    <tr style=\"text-align: right;\">\n",
       "      <th></th>\n",
       "      <th>Actual</th>\n",
       "      <th>Predicted</th>\n",
       "    </tr>\n",
       "    <tr>\n",
       "      <th>DATE</th>\n",
       "      <th></th>\n",
       "      <th></th>\n",
       "    </tr>\n",
       "  </thead>\n",
       "  <tbody>\n",
       "    <tr>\n",
       "      <th>2014-08-01</th>\n",
       "      <td>165.22</td>\n",
       "      <td>165.284532</td>\n",
       "    </tr>\n",
       "    <tr>\n",
       "      <th>2014-09-01</th>\n",
       "      <td>165.91</td>\n",
       "      <td>165.229860</td>\n",
       "    </tr>\n",
       "    <tr>\n",
       "      <th>2014-10-01</th>\n",
       "      <td>166.64</td>\n",
       "      <td>166.104032</td>\n",
       "    </tr>\n",
       "    <tr>\n",
       "      <th>2014-11-01</th>\n",
       "      <td>167.34</td>\n",
       "      <td>167.049523</td>\n",
       "    </tr>\n",
       "    <tr>\n",
       "      <th>2014-12-01</th>\n",
       "      <td>168.05</td>\n",
       "      <td>166.146533</td>\n",
       "    </tr>\n",
       "    <tr>\n",
       "      <th>2015-01-01</th>\n",
       "      <td>168.63</td>\n",
       "      <td>165.409781</td>\n",
       "    </tr>\n",
       "    <tr>\n",
       "      <th>2015-02-01</th>\n",
       "      <td>169.13</td>\n",
       "      <td>165.427707</td>\n",
       "    </tr>\n",
       "    <tr>\n",
       "      <th>2015-03-01</th>\n",
       "      <td>169.80</td>\n",
       "      <td>167.306740</td>\n",
       "    </tr>\n",
       "    <tr>\n",
       "      <th>2015-04-01</th>\n",
       "      <td>170.30</td>\n",
       "      <td>167.827106</td>\n",
       "    </tr>\n",
       "    <tr>\n",
       "      <th>2015-05-01</th>\n",
       "      <td>170.88</td>\n",
       "      <td>169.544739</td>\n",
       "    </tr>\n",
       "  </tbody>\n",
       "</table>\n",
       "</div>"
      ],
      "text/plain": [
       "            Actual   Predicted\n",
       "DATE                          \n",
       "2014-08-01  165.22  165.284532\n",
       "2014-09-01  165.91  165.229860\n",
       "2014-10-01  166.64  166.104032\n",
       "2014-11-01  167.34  167.049523\n",
       "2014-12-01  168.05  166.146533\n",
       "2015-01-01  168.63  165.409781\n",
       "2015-02-01  169.13  165.427707\n",
       "2015-03-01  169.80  167.306740\n",
       "2015-04-01  170.30  167.827106\n",
       "2015-05-01  170.88  169.544739"
      ]
     },
     "execution_count": 100,
     "metadata": {},
     "output_type": "execute_result"
    }
   ],
   "source": [
    "result.head(10)"
   ]
  },
  {
   "cell_type": "markdown",
   "id": "67ca7345",
   "metadata": {},
   "source": [
    "### *To check the assumptions and performance of a linear regression model, we can use different types of \"Residual Plots\".*"
   ]
  },
  {
   "cell_type": "code",
   "execution_count": 101,
   "id": "e5a0e9ac",
   "metadata": {},
   "outputs": [],
   "source": [
    "# Difference between predicted and actual values\n",
    "\n",
    "residuals = y_test-y_predict"
   ]
  },
  {
   "cell_type": "markdown",
   "id": "69de6e6a",
   "metadata": {},
   "source": [
    "***Scatterplot of Residuals vs. Predicted Values:***"
   ]
  },
  {
   "cell_type": "code",
   "execution_count": 102,
   "id": "a95b2630",
   "metadata": {},
   "outputs": [
    {
     "data": {
      "image/png": "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",
      "text/plain": [
       "<Figure size 640x480 with 1 Axes>"
      ]
     },
     "metadata": {},
     "output_type": "display_data"
    }
   ],
   "source": [
    "import matplotlib.pyplot as plt\n",
    "\n",
    "plt.scatter(y_predict, residuals)\n",
    "plt.xlabel(\"Predicted Values\")\n",
    "plt.ylabel(\"Residuals\")\n",
    "plt.axhline(y=0, color='r', linestyle='--')\n",
    "plt.title(\"Residuals vs. Predicted Values\")\n",
    "plt.show()"
   ]
  },
  {
   "cell_type": "markdown",
   "id": "4c0bb846",
   "metadata": {},
   "source": [
    "***Histogram or Density Plot of Residuals:***"
   ]
  },
  {
   "cell_type": "code",
   "execution_count": 103,
   "id": "e50b91d5",
   "metadata": {},
   "outputs": [
    {
     "data": {
      "image/png": "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",
      "text/plain": [
       "<Figure size 640x480 with 1 Axes>"
      ]
     },
     "metadata": {},
     "output_type": "display_data"
    }
   ],
   "source": [
    "import seaborn as sns\n",
    "\n",
    "sns.histplot(residuals, kde=True)\n",
    "plt.xlabel(\"Residuals\")\n",
    "plt.ylabel(\"Density\")\n",
    "plt.title(\"Residual Distribution\")\n",
    "plt.show()"
   ]
  },
  {
   "cell_type": "markdown",
   "id": "6eb5cfd4",
   "metadata": {},
   "source": [
    "***QQ Plot (Quantile-Quantile Plot):***"
   ]
  },
  {
   "cell_type": "code",
   "execution_count": 104,
   "id": "7fc9a829",
   "metadata": {},
   "outputs": [
    {
     "name": "stdout",
     "output_type": "stream",
     "text": [
      "Requirement already satisfied: statsmodels in c:\\users\\pavan\\appdata\\local\\programs\\python\\python311\\lib\\site-packages (0.14.0)\n",
      "Requirement already satisfied: numpy>=1.18 in c:\\users\\pavan\\appdata\\local\\programs\\python\\python311\\lib\\site-packages (from statsmodels) (1.24.3)\n",
      "Requirement already satisfied: scipy!=1.9.2,>=1.4 in c:\\users\\pavan\\appdata\\local\\programs\\python\\python311\\lib\\site-packages (from statsmodels) (1.11.1)\n",
      "Requirement already satisfied: pandas>=1.0 in c:\\users\\pavan\\appdata\\local\\programs\\python\\python311\\lib\\site-packages (from statsmodels) (2.0.1)\n",
      "Requirement already satisfied: patsy>=0.5.2 in c:\\users\\pavan\\appdata\\local\\programs\\python\\python311\\lib\\site-packages (from statsmodels) (0.5.3)\n",
      "Requirement already satisfied: packaging>=21.3 in c:\\users\\pavan\\appdata\\local\\programs\\python\\python311\\lib\\site-packages (from statsmodels) (23.1)\n",
      "Requirement already satisfied: python-dateutil>=2.8.2 in c:\\users\\pavan\\appdata\\local\\programs\\python\\python311\\lib\\site-packages (from pandas>=1.0->statsmodels) (2.8.2)\n",
      "Requirement already satisfied: pytz>=2020.1 in c:\\users\\pavan\\appdata\\local\\programs\\python\\python311\\lib\\site-packages (from pandas>=1.0->statsmodels) (2023.3)\n",
      "Requirement already satisfied: tzdata>=2022.1 in c:\\users\\pavan\\appdata\\local\\programs\\python\\python311\\lib\\site-packages (from pandas>=1.0->statsmodels) (2023.3)\n",
      "Requirement already satisfied: six in c:\\users\\pavan\\appdata\\local\\programs\\python\\python311\\lib\\site-packages (from patsy>=0.5.2->statsmodels) (1.16.0)\n"
     ]
    },
    {
     "name": "stderr",
     "output_type": "stream",
     "text": [
      "\n",
      "[notice] A new release of pip available: 22.3.1 -> 23.2.1\n",
      "[notice] To update, run: python.exe -m pip install --upgrade pip\n"
     ]
    }
   ],
   "source": [
    "!pip install statsmodels"
   ]
  },
  {
   "cell_type": "code",
   "execution_count": 105,
   "id": "8337f648",
   "metadata": {},
   "outputs": [
    {
     "data": {
      "image/png": "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",
      "text/plain": [
       "<Figure size 640x480 with 1 Axes>"
      ]
     },
     "metadata": {},
     "output_type": "display_data"
    }
   ],
   "source": [
    "import statsmodels.api as sm\n",
    "import scipy.stats as stats\n",
    "\n",
    "sm.qqplot(residuals, stats.t, fit=True, line='45')\n",
    "plt.xlabel(\"Theoretical Quantiles\")\n",
    "plt.ylabel(\"Sample Quantiles\")\n",
    "plt.title(\"QQ Plot of Residuals\")\n",
    "plt.show()"
   ]
  },
  {
   "cell_type": "code",
   "execution_count": null,
   "id": "8f4c628a",
   "metadata": {},
   "outputs": [],
   "source": []
  }
 ],
 "metadata": {
  "kernelspec": {
   "display_name": "Python 3 (ipykernel)",
   "language": "python",
   "name": "python3"
  },
  "language_info": {
   "codemirror_mode": {
    "name": "ipython",
    "version": 3
   },
   "file_extension": ".py",
   "mimetype": "text/x-python",
   "name": "python",
   "nbconvert_exporter": "python",
   "pygments_lexer": "ipython3",
   "version": "3.11.3"
  }
 },
 "nbformat": 4,
 "nbformat_minor": 5
}
