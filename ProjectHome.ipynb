{
 "cells": [
  {
   "cell_type": "markdown",
   "id": "e4b5dac0",
   "metadata": {},
   "source": [
    "# *Predicting Home Price using various factors*"
   ]
  },
  {
   "cell_type": "markdown",
   "id": "1213d6ff",
   "metadata": {},
   "source": [
    "#### Our Goal is to find information or data about the factors that affect the prices of homes in the United States and knowing how these factors have influenced home prices over the past 20 years (2000 - 2020)."
   ]
  },
  {
   "cell_type": "code",
   "execution_count": 1,
   "id": "29f9a4b4",
   "metadata": {},
   "outputs": [
    {
     "data": {
      "text/plain": [
       "'C:\\\\Users\\\\pavan'"
      ]
     },
     "execution_count": 1,
     "metadata": {},
     "output_type": "execute_result"
    }
   ],
   "source": [
    "import os\n",
    "os.getcwd()"
   ]
  },
  {
   "cell_type": "code",
   "execution_count": 2,
   "id": "712305f2",
   "metadata": {},
   "outputs": [],
   "source": [
    "# Changing the directory where all the downloaded data is present\n",
    "\n",
    "os.chdir(\"C:/Users/pavan/HomeProjectFiles\")"
   ]
  },
  {
   "cell_type": "code",
   "execution_count": 3,
   "id": "71646e59",
   "metadata": {},
   "outputs": [],
   "source": [
    "# Setting up the target variable which is \"Home Price Index(HPI)\".\n",
    "# This was taken from \"S&P Case-Schiller Home Price Index\" : fred.stlouisfed.org/series/CSUSHPISA\n",
    "\n",
    "import pandas as pd\n",
    "\n",
    "# Using Pandas, read the HPI csv file and rename with the relevant names\n",
    "\n",
    "y_monthly = pd.read_csv(\"Home_Price_Index.csv\", parse_dates=True, \n",
    "                        index_col=0).rename(columns={'DATE':'Period', 'CSUSHPISA':'HPI'})"
   ]
  },
  {
   "cell_type": "code",
   "execution_count": 4,
   "id": "76caf499",
   "metadata": {},
   "outputs": [
    {
     "name": "stdout",
     "output_type": "stream",
     "text": [
      "<class 'pandas.core.frame.DataFrame'>\n",
      "DatetimeIndex: 250 entries, 2000-01-01 to 2020-10-01\n",
      "Data columns (total 1 columns):\n",
      " #   Column  Non-Null Count  Dtype  \n",
      "---  ------  --------------  -----  \n",
      " 0   HPI     250 non-null    float64\n",
      "dtypes: float64(1)\n",
      "memory usage: 3.9 KB\n"
     ]
    }
   ],
   "source": [
    "y_monthly.info()"
   ]
  },
  {
   "cell_type": "code",
   "execution_count": 5,
   "id": "fcb87a49",
   "metadata": {},
   "outputs": [],
   "source": [
    "# Rounding the HPI to two decimal digits\n",
    "\n",
    "y_monthly[\"HPI\"] = y_monthly[\"HPI\"].round(2)"
   ]
  },
  {
   "cell_type": "code",
   "execution_count": 6,
   "id": "65c436e2",
   "metadata": {},
   "outputs": [
    {
     "data": {
      "text/html": [
       "<div>\n",
       "<style scoped>\n",
       "    .dataframe tbody tr th:only-of-type {\n",
       "        vertical-align: middle;\n",
       "    }\n",
       "\n",
       "    .dataframe tbody tr th {\n",
       "        vertical-align: top;\n",
       "    }\n",
       "\n",
       "    .dataframe thead th {\n",
       "        text-align: right;\n",
       "    }\n",
       "</style>\n",
       "<table border=\"1\" class=\"dataframe\">\n",
       "  <thead>\n",
       "    <tr style=\"text-align: right;\">\n",
       "      <th></th>\n",
       "      <th>HPI</th>\n",
       "    </tr>\n",
       "    <tr>\n",
       "      <th>DATE</th>\n",
       "      <th></th>\n",
       "    </tr>\n",
       "  </thead>\n",
       "  <tbody>\n",
       "    <tr>\n",
       "      <th>2000-01-01</th>\n",
       "      <td>100.55</td>\n",
       "    </tr>\n",
       "    <tr>\n",
       "      <th>2000-02-01</th>\n",
       "      <td>101.34</td>\n",
       "    </tr>\n",
       "    <tr>\n",
       "      <th>2000-03-01</th>\n",
       "      <td>102.13</td>\n",
       "    </tr>\n",
       "    <tr>\n",
       "      <th>2000-04-01</th>\n",
       "      <td>102.92</td>\n",
       "    </tr>\n",
       "    <tr>\n",
       "      <th>2000-05-01</th>\n",
       "      <td>103.68</td>\n",
       "    </tr>\n",
       "  </tbody>\n",
       "</table>\n",
       "</div>"
      ],
      "text/plain": [
       "               HPI\n",
       "DATE              \n",
       "2000-01-01  100.55\n",
       "2000-02-01  101.34\n",
       "2000-03-01  102.13\n",
       "2000-04-01  102.92\n",
       "2000-05-01  103.68"
      ]
     },
     "execution_count": 6,
     "metadata": {},
     "output_type": "execute_result"
    }
   ],
   "source": [
    "# View the first five rows\n",
    "\n",
    "y_monthly.head()"
   ]
  },
  {
   "cell_type": "markdown",
   "id": "953c6189",
   "metadata": {},
   "source": [
    "### Reseached a list of supply and demand factors that typically affect home prices in USA. These include :\n",
    "\n",
    "####   a. Homes for sale                                       \n",
    "####   b. Homes sold                                               \n",
    "####   c. Federal Funds Rate  \n",
    "####   d. Personal Savings\n",
    "####   e. Disposable Personal Income\n",
    "####   f.  Personal Consumption\n",
    "####   g. Housing Starts\n",
    "####   f.  Mortgage Rates\n",
    "####   g. Months of Supply\n",
    "####   h. Unemployment\n",
    "####   i.  USA GDP\n"
   ]
  },
  {
   "cell_type": "markdown",
   "id": "f250be38",
   "metadata": {},
   "source": [
    "## *Grabbing \"Homes for sale\" data*"
   ]
  },
  {
   "cell_type": "code",
   "execution_count": 7,
   "id": "b7c7fbf6",
   "metadata": {},
   "outputs": [],
   "source": [
    "# Source : U.S. Census Bureau\n",
    "\n",
    "home_sale = pd.read_csv(\"Home_for_Sale.csv\")[46:68].rename(\n",
    "            columns = {\"Houses For Sale by Region\": \"Period\" , \"Unnamed: 1\": \"Homes for Sale\"}).reset_index(drop=True).drop(\n",
    "            columns=['Unnamed: 2', 'Unnamed: 3', 'Unnamed: 4', 'Unnamed: 5'])"
   ]
  },
  {
   "cell_type": "code",
   "execution_count": 8,
   "id": "de337de3",
   "metadata": {},
   "outputs": [
    {
     "data": {
      "text/html": [
       "<div>\n",
       "<style scoped>\n",
       "    .dataframe tbody tr th:only-of-type {\n",
       "        vertical-align: middle;\n",
       "    }\n",
       "\n",
       "    .dataframe tbody tr th {\n",
       "        vertical-align: top;\n",
       "    }\n",
       "\n",
       "    .dataframe thead th {\n",
       "        text-align: right;\n",
       "    }\n",
       "</style>\n",
       "<table border=\"1\" class=\"dataframe\">\n",
       "  <thead>\n",
       "    <tr style=\"text-align: right;\">\n",
       "      <th></th>\n",
       "      <th>Period</th>\n",
       "      <th>Homes for Sale</th>\n",
       "    </tr>\n",
       "  </thead>\n",
       "  <tbody>\n",
       "    <tr>\n",
       "      <th>0</th>\n",
       "      <td>2000</td>\n",
       "      <td>301</td>\n",
       "    </tr>\n",
       "    <tr>\n",
       "      <th>1</th>\n",
       "      <td>2001</td>\n",
       "      <td>310</td>\n",
       "    </tr>\n",
       "    <tr>\n",
       "      <th>2</th>\n",
       "      <td>2002</td>\n",
       "      <td>344</td>\n",
       "    </tr>\n",
       "    <tr>\n",
       "      <th>3</th>\n",
       "      <td>2003</td>\n",
       "      <td>377</td>\n",
       "    </tr>\n",
       "    <tr>\n",
       "      <th>4</th>\n",
       "      <td>2004</td>\n",
       "      <td>431</td>\n",
       "    </tr>\n",
       "  </tbody>\n",
       "</table>\n",
       "</div>"
      ],
      "text/plain": [
       "  Period Homes for Sale\n",
       "0   2000            301\n",
       "1   2001            310\n",
       "2   2002            344\n",
       "3   2003            377\n",
       "4   2004            431"
      ]
     },
     "execution_count": 8,
     "metadata": {},
     "output_type": "execute_result"
    }
   ],
   "source": [
    "home_sale.head()"
   ]
  },
  {
   "cell_type": "code",
   "execution_count": 9,
   "id": "1e101638",
   "metadata": {},
   "outputs": [
    {
     "name": "stdout",
     "output_type": "stream",
     "text": [
      "<class 'pandas.core.frame.DataFrame'>\n",
      "RangeIndex: 22 entries, 0 to 21\n",
      "Data columns (total 2 columns):\n",
      " #   Column          Non-Null Count  Dtype \n",
      "---  ------          --------------  ----- \n",
      " 0   Period          22 non-null     object\n",
      " 1   Homes for Sale  22 non-null     object\n",
      "dtypes: object(2)\n",
      "memory usage: 484.0+ bytes\n"
     ]
    }
   ],
   "source": [
    "home_sale.info()"
   ]
  },
  {
   "cell_type": "code",
   "execution_count": 10,
   "id": "b8c8e36e",
   "metadata": {},
   "outputs": [],
   "source": [
    "# Converting the \"Period\" column to Python's datetime form and \"Homes for Sale\" column to int\n",
    "\n",
    "home_sale[\"Period\"] = pd.to_datetime(home_sale['Period'], format='%Y')\n",
    "home_sale[\"Homes for Sale\"] = home_sale[\"Homes for Sale\"].astype(int)"
   ]
  },
  {
   "cell_type": "code",
   "execution_count": 11,
   "id": "1473e1e7",
   "metadata": {},
   "outputs": [
    {
     "name": "stdout",
     "output_type": "stream",
     "text": [
      "<class 'pandas.core.frame.DataFrame'>\n",
      "RangeIndex: 22 entries, 0 to 21\n",
      "Data columns (total 2 columns):\n",
      " #   Column          Non-Null Count  Dtype         \n",
      "---  ------          --------------  -----         \n",
      " 0   Period          22 non-null     datetime64[ns]\n",
      " 1   Homes for Sale  22 non-null     int32         \n",
      "dtypes: datetime64[ns](1), int32(1)\n",
      "memory usage: 396.0 bytes\n"
     ]
    }
   ],
   "source": [
    "# Successfully changed the dtypes of columns\n",
    "\n",
    "home_sale.info()"
   ]
  },
  {
   "cell_type": "code",
   "execution_count": 12,
   "id": "4476386c",
   "metadata": {},
   "outputs": [],
   "source": [
    "# Set 'Period' as the index\n",
    "\n",
    "home_sale.set_index('Period', inplace=True)\n",
    "\n",
    "# Up-sampling the annual data to Monthly\n",
    "\n",
    "home_sale = home_sale.resample('MS').mean().round()\n"
   ]
  },
  {
   "cell_type": "code",
   "execution_count": 13,
   "id": "f09f4769",
   "metadata": {},
   "outputs": [
    {
     "data": {
      "text/html": [
       "<div>\n",
       "<style scoped>\n",
       "    .dataframe tbody tr th:only-of-type {\n",
       "        vertical-align: middle;\n",
       "    }\n",
       "\n",
       "    .dataframe tbody tr th {\n",
       "        vertical-align: top;\n",
       "    }\n",
       "\n",
       "    .dataframe thead th {\n",
       "        text-align: right;\n",
       "    }\n",
       "</style>\n",
       "<table border=\"1\" class=\"dataframe\">\n",
       "  <thead>\n",
       "    <tr style=\"text-align: right;\">\n",
       "      <th></th>\n",
       "      <th>Homes for Sale</th>\n",
       "    </tr>\n",
       "    <tr>\n",
       "      <th>Period</th>\n",
       "      <th></th>\n",
       "    </tr>\n",
       "  </thead>\n",
       "  <tbody>\n",
       "    <tr>\n",
       "      <th>2000-01-01</th>\n",
       "      <td>301.0</td>\n",
       "    </tr>\n",
       "    <tr>\n",
       "      <th>2000-02-01</th>\n",
       "      <td>NaN</td>\n",
       "    </tr>\n",
       "    <tr>\n",
       "      <th>2000-03-01</th>\n",
       "      <td>NaN</td>\n",
       "    </tr>\n",
       "    <tr>\n",
       "      <th>2000-04-01</th>\n",
       "      <td>NaN</td>\n",
       "    </tr>\n",
       "    <tr>\n",
       "      <th>2000-05-01</th>\n",
       "      <td>NaN</td>\n",
       "    </tr>\n",
       "  </tbody>\n",
       "</table>\n",
       "</div>"
      ],
      "text/plain": [
       "            Homes for Sale\n",
       "Period                    \n",
       "2000-01-01           301.0\n",
       "2000-02-01             NaN\n",
       "2000-03-01             NaN\n",
       "2000-04-01             NaN\n",
       "2000-05-01             NaN"
      ]
     },
     "execution_count": 13,
     "metadata": {},
     "output_type": "execute_result"
    }
   ],
   "source": [
    "# The output shows a few samples of the dataframe which is \"upsampled\" from Year to Month with NaN values. \n",
    "\n",
    "home_sale.head()"
   ]
  },
  {
   "cell_type": "code",
   "execution_count": 14,
   "id": "49d93fa7",
   "metadata": {},
   "outputs": [],
   "source": [
    "# fill nan values using a technique called Interpolation. Using 'linear' method to upsample the values of months linearly.\n",
    "\n",
    "home_sale[\"Homes for Sale\"].interpolate(method='linear', inplace=True)"
   ]
  },
  {
   "cell_type": "code",
   "execution_count": 15,
   "id": "a8b59ad3",
   "metadata": {},
   "outputs": [],
   "source": [
    "home_sale.reset_index(inplace=True)"
   ]
  },
  {
   "cell_type": "code",
   "execution_count": 16,
   "id": "4a453cf8",
   "metadata": {
    "scrolled": true
   },
   "outputs": [],
   "source": [
    "home_sale[\"Homes for Sale\"] = home_sale[\"Homes for Sale\"].astype(int)"
   ]
  },
  {
   "cell_type": "code",
   "execution_count": 17,
   "id": "2aabccc4",
   "metadata": {},
   "outputs": [],
   "source": [
    "home_sale.drop(home_sale.tail(3).index,inplace = True)"
   ]
  },
  {
   "cell_type": "code",
   "execution_count": 18,
   "id": "c0380e37",
   "metadata": {},
   "outputs": [
    {
     "data": {
      "text/html": [
       "<div>\n",
       "<style scoped>\n",
       "    .dataframe tbody tr th:only-of-type {\n",
       "        vertical-align: middle;\n",
       "    }\n",
       "\n",
       "    .dataframe tbody tr th {\n",
       "        vertical-align: top;\n",
       "    }\n",
       "\n",
       "    .dataframe thead th {\n",
       "        text-align: right;\n",
       "    }\n",
       "</style>\n",
       "<table border=\"1\" class=\"dataframe\">\n",
       "  <thead>\n",
       "    <tr style=\"text-align: right;\">\n",
       "      <th></th>\n",
       "      <th>Period</th>\n",
       "      <th>Homes for Sale</th>\n",
       "    </tr>\n",
       "  </thead>\n",
       "  <tbody>\n",
       "    <tr>\n",
       "      <th>0</th>\n",
       "      <td>2000-01-01</td>\n",
       "      <td>301</td>\n",
       "    </tr>\n",
       "    <tr>\n",
       "      <th>1</th>\n",
       "      <td>2000-02-01</td>\n",
       "      <td>301</td>\n",
       "    </tr>\n",
       "    <tr>\n",
       "      <th>2</th>\n",
       "      <td>2000-03-01</td>\n",
       "      <td>302</td>\n",
       "    </tr>\n",
       "    <tr>\n",
       "      <th>3</th>\n",
       "      <td>2000-04-01</td>\n",
       "      <td>303</td>\n",
       "    </tr>\n",
       "    <tr>\n",
       "      <th>4</th>\n",
       "      <td>2000-05-01</td>\n",
       "      <td>304</td>\n",
       "    </tr>\n",
       "    <tr>\n",
       "      <th>5</th>\n",
       "      <td>2000-06-01</td>\n",
       "      <td>304</td>\n",
       "    </tr>\n",
       "    <tr>\n",
       "      <th>6</th>\n",
       "      <td>2000-07-01</td>\n",
       "      <td>305</td>\n",
       "    </tr>\n",
       "    <tr>\n",
       "      <th>7</th>\n",
       "      <td>2000-08-01</td>\n",
       "      <td>306</td>\n",
       "    </tr>\n",
       "    <tr>\n",
       "      <th>8</th>\n",
       "      <td>2000-09-01</td>\n",
       "      <td>307</td>\n",
       "    </tr>\n",
       "    <tr>\n",
       "      <th>9</th>\n",
       "      <td>2000-10-01</td>\n",
       "      <td>307</td>\n",
       "    </tr>\n",
       "  </tbody>\n",
       "</table>\n",
       "</div>"
      ],
      "text/plain": [
       "      Period  Homes for Sale\n",
       "0 2000-01-01             301\n",
       "1 2000-02-01             301\n",
       "2 2000-03-01             302\n",
       "3 2000-04-01             303\n",
       "4 2000-05-01             304\n",
       "5 2000-06-01             304\n",
       "6 2000-07-01             305\n",
       "7 2000-08-01             306\n",
       "8 2000-09-01             307\n",
       "9 2000-10-01             307"
      ]
     },
     "execution_count": 18,
     "metadata": {},
     "output_type": "execute_result"
    }
   ],
   "source": [
    "# Sample of interpolated values \n",
    "\n",
    "home_sale.head(10)"
   ]
  },
  {
   "cell_type": "markdown",
   "id": "a98c4678",
   "metadata": {},
   "source": [
    "## *\"Homes sold\" data*"
   ]
  },
  {
   "cell_type": "code",
   "execution_count": 19,
   "id": "ce5c9b12",
   "metadata": {},
   "outputs": [],
   "source": [
    "homes_sold = pd.read_csv(\"homes_sold.csv\")[45:67].rename(columns = \n",
    "                                                         {\"Houses Sold by Region\": \"Period\" , \"Unnamed: 1\": \"Homes Sold\"}\n",
    "                                                        ).reset_index(drop=True).drop(columns=[\n",
    "                                                                    'Unnamed: 2', 'Unnamed: 3', 'Unnamed: 4', 'Unnamed: 5'])"
   ]
  },
  {
   "cell_type": "code",
   "execution_count": 20,
   "id": "bd36a903",
   "metadata": {},
   "outputs": [
    {
     "name": "stdout",
     "output_type": "stream",
     "text": [
      "<class 'pandas.core.frame.DataFrame'>\n",
      "RangeIndex: 22 entries, 0 to 21\n",
      "Data columns (total 2 columns):\n",
      " #   Column      Non-Null Count  Dtype \n",
      "---  ------      --------------  ----- \n",
      " 0   Period      22 non-null     object\n",
      " 1   Homes Sold  22 non-null     object\n",
      "dtypes: object(2)\n",
      "memory usage: 484.0+ bytes\n"
     ]
    }
   ],
   "source": [
    "homes_sold.info()"
   ]
  },
  {
   "cell_type": "code",
   "execution_count": 21,
   "id": "4b4f2f9a",
   "metadata": {},
   "outputs": [],
   "source": [
    "# Converting Period column to Python datetime form\n",
    "\n",
    "homes_sold[\"Period\"] = pd.to_datetime(homes_sold['Period'], format='%Y')\n",
    "\n",
    "# Converting \"Homes Sold\" column to int \n",
    "\n",
    "homes_sold[\"Homes Sold\"] = homes_sold['Homes Sold'].str.replace(',', '').astype(float).astype(int)"
   ]
  },
  {
   "cell_type": "code",
   "execution_count": 22,
   "id": "78e54271",
   "metadata": {},
   "outputs": [],
   "source": [
    "# Set 'Period' as the index\n",
    "\n",
    "homes_sold.set_index('Period', inplace=True)\n",
    "\n",
    "# Up-sampling the annual data to Monthly\n",
    "\n",
    "homes_sold = homes_sold.resample('MS').mean().round()\n"
   ]
  },
  {
   "cell_type": "code",
   "execution_count": 23,
   "id": "248e7cb8",
   "metadata": {},
   "outputs": [],
   "source": [
    "# fill nan values using a technique called Interpolation. Using 'linear' method to upsample the values of months linearly.\n",
    "\n",
    "homes_sold[\"Homes Sold\"].interpolate(method='linear', inplace=True)"
   ]
  },
  {
   "cell_type": "code",
   "execution_count": 24,
   "id": "27a7cb93",
   "metadata": {},
   "outputs": [],
   "source": [
    "homes_sold.reset_index(inplace=True)"
   ]
  },
  {
   "cell_type": "code",
   "execution_count": 25,
   "id": "309e4d9b",
   "metadata": {},
   "outputs": [],
   "source": [
    "homes_sold[\"Homes Sold\"] = homes_sold[\"Homes Sold\"].astype(int)"
   ]
  },
  {
   "cell_type": "code",
   "execution_count": 26,
   "id": "3545ed21",
   "metadata": {},
   "outputs": [],
   "source": [
    "homes_sold.drop(homes_sold.tail(3).index,inplace = True)"
   ]
  },
  {
   "cell_type": "code",
   "execution_count": 27,
   "id": "fe88b37e",
   "metadata": {},
   "outputs": [
    {
     "data": {
      "text/html": [
       "<div>\n",
       "<style scoped>\n",
       "    .dataframe tbody tr th:only-of-type {\n",
       "        vertical-align: middle;\n",
       "    }\n",
       "\n",
       "    .dataframe tbody tr th {\n",
       "        vertical-align: top;\n",
       "    }\n",
       "\n",
       "    .dataframe thead th {\n",
       "        text-align: right;\n",
       "    }\n",
       "</style>\n",
       "<table border=\"1\" class=\"dataframe\">\n",
       "  <thead>\n",
       "    <tr style=\"text-align: right;\">\n",
       "      <th></th>\n",
       "      <th>Period</th>\n",
       "      <th>Homes Sold</th>\n",
       "    </tr>\n",
       "  </thead>\n",
       "  <tbody>\n",
       "    <tr>\n",
       "      <th>0</th>\n",
       "      <td>2000-01-01</td>\n",
       "      <td>877</td>\n",
       "    </tr>\n",
       "    <tr>\n",
       "      <th>1</th>\n",
       "      <td>2000-02-01</td>\n",
       "      <td>879</td>\n",
       "    </tr>\n",
       "    <tr>\n",
       "      <th>2</th>\n",
       "      <td>2000-03-01</td>\n",
       "      <td>882</td>\n",
       "    </tr>\n",
       "    <tr>\n",
       "      <th>3</th>\n",
       "      <td>2000-04-01</td>\n",
       "      <td>884</td>\n",
       "    </tr>\n",
       "    <tr>\n",
       "      <th>4</th>\n",
       "      <td>2000-05-01</td>\n",
       "      <td>887</td>\n",
       "    </tr>\n",
       "    <tr>\n",
       "      <th>5</th>\n",
       "      <td>2000-06-01</td>\n",
       "      <td>889</td>\n",
       "    </tr>\n",
       "    <tr>\n",
       "      <th>6</th>\n",
       "      <td>2000-07-01</td>\n",
       "      <td>892</td>\n",
       "    </tr>\n",
       "    <tr>\n",
       "      <th>7</th>\n",
       "      <td>2000-08-01</td>\n",
       "      <td>895</td>\n",
       "    </tr>\n",
       "    <tr>\n",
       "      <th>8</th>\n",
       "      <td>2000-09-01</td>\n",
       "      <td>897</td>\n",
       "    </tr>\n",
       "    <tr>\n",
       "      <th>9</th>\n",
       "      <td>2000-10-01</td>\n",
       "      <td>900</td>\n",
       "    </tr>\n",
       "  </tbody>\n",
       "</table>\n",
       "</div>"
      ],
      "text/plain": [
       "      Period  Homes Sold\n",
       "0 2000-01-01         877\n",
       "1 2000-02-01         879\n",
       "2 2000-03-01         882\n",
       "3 2000-04-01         884\n",
       "4 2000-05-01         887\n",
       "5 2000-06-01         889\n",
       "6 2000-07-01         892\n",
       "7 2000-08-01         895\n",
       "8 2000-09-01         897\n",
       "9 2000-10-01         900"
      ]
     },
     "execution_count": 27,
     "metadata": {},
     "output_type": "execute_result"
    }
   ],
   "source": [
    "homes_sold.head(10)"
   ]
  },
  {
   "cell_type": "markdown",
   "id": "dc5ea010",
   "metadata": {},
   "source": [
    "## *Federal Funds Rate*"
   ]
  },
  {
   "cell_type": "code",
   "execution_count": 28,
   "id": "95ad49f1",
   "metadata": {},
   "outputs": [],
   "source": [
    "# Source :  Federal Reserve Economic Data (FRED) database\n",
    "\n",
    "feds = pd.read_csv(\"Federal_Funds.csv\").rename(columns = {\"DATE\": \"Period\", \"DFF\": \"Fed Funds Rate\"})"
   ]
  },
  {
   "cell_type": "code",
   "execution_count": 29,
   "id": "b4b350fc",
   "metadata": {},
   "outputs": [
    {
     "data": {
      "text/html": [
       "<div>\n",
       "<style scoped>\n",
       "    .dataframe tbody tr th:only-of-type {\n",
       "        vertical-align: middle;\n",
       "    }\n",
       "\n",
       "    .dataframe tbody tr th {\n",
       "        vertical-align: top;\n",
       "    }\n",
       "\n",
       "    .dataframe thead th {\n",
       "        text-align: right;\n",
       "    }\n",
       "</style>\n",
       "<table border=\"1\" class=\"dataframe\">\n",
       "  <thead>\n",
       "    <tr style=\"text-align: right;\">\n",
       "      <th></th>\n",
       "      <th>Period</th>\n",
       "      <th>Fed Funds Rate</th>\n",
       "    </tr>\n",
       "  </thead>\n",
       "  <tbody>\n",
       "    <tr>\n",
       "      <th>0</th>\n",
       "      <td>2000-01-01</td>\n",
       "      <td>3.99</td>\n",
       "    </tr>\n",
       "    <tr>\n",
       "      <th>1</th>\n",
       "      <td>2000-01-02</td>\n",
       "      <td>3.99</td>\n",
       "    </tr>\n",
       "    <tr>\n",
       "      <th>2</th>\n",
       "      <td>2000-01-03</td>\n",
       "      <td>5.43</td>\n",
       "    </tr>\n",
       "  </tbody>\n",
       "</table>\n",
       "</div>"
      ],
      "text/plain": [
       "       Period  Fed Funds Rate\n",
       "0  2000-01-01            3.99\n",
       "1  2000-01-02            3.99\n",
       "2  2000-01-03            5.43"
      ]
     },
     "execution_count": 29,
     "metadata": {},
     "output_type": "execute_result"
    }
   ],
   "source": [
    "feds.head(3)"
   ]
  },
  {
   "cell_type": "code",
   "execution_count": 30,
   "id": "99838a8f",
   "metadata": {},
   "outputs": [],
   "source": [
    "feds[\"Period\"] = pd.to_datetime(feds[\"Period\"])"
   ]
  },
  {
   "cell_type": "code",
   "execution_count": 31,
   "id": "04385e1e",
   "metadata": {},
   "outputs": [
    {
     "name": "stdout",
     "output_type": "stream",
     "text": [
      "<class 'pandas.core.frame.DataFrame'>\n",
      "RangeIndex: 7581 entries, 0 to 7580\n",
      "Data columns (total 2 columns):\n",
      " #   Column          Non-Null Count  Dtype         \n",
      "---  ------          --------------  -----         \n",
      " 0   Period          7581 non-null   datetime64[ns]\n",
      " 1   Fed Funds Rate  7581 non-null   float64       \n",
      "dtypes: datetime64[ns](1), float64(1)\n",
      "memory usage: 118.6 KB\n"
     ]
    }
   ],
   "source": [
    "feds.info()"
   ]
  },
  {
   "cell_type": "code",
   "execution_count": 32,
   "id": "64382378",
   "metadata": {},
   "outputs": [],
   "source": [
    "# Set 'Period' as the index\n",
    "\n",
    "feds.set_index('Period', inplace=True)\n",
    "\n",
    "# Upsampling \n",
    "\n",
    "feds = feds.resample('MS').mean()\n"
   ]
  },
  {
   "cell_type": "code",
   "execution_count": 33,
   "id": "4965e2bd",
   "metadata": {},
   "outputs": [],
   "source": [
    "# Interpolation \n",
    "\n",
    "feds[\"Fed Funds Rate\"].interpolate(method='linear', inplace=True)"
   ]
  },
  {
   "cell_type": "code",
   "execution_count": 34,
   "id": "97b3198c",
   "metadata": {},
   "outputs": [],
   "source": [
    "feds.reset_index(inplace=True)"
   ]
  },
  {
   "cell_type": "code",
   "execution_count": 35,
   "id": "47dbdb52",
   "metadata": {},
   "outputs": [],
   "source": [
    "feds[\"Fed Funds Rate\"] = feds[\"Fed Funds Rate\"].round(2)"
   ]
  },
  {
   "cell_type": "code",
   "execution_count": 36,
   "id": "cc154740",
   "metadata": {},
   "outputs": [
    {
     "data": {
      "text/html": [
       "<div>\n",
       "<style scoped>\n",
       "    .dataframe tbody tr th:only-of-type {\n",
       "        vertical-align: middle;\n",
       "    }\n",
       "\n",
       "    .dataframe tbody tr th {\n",
       "        vertical-align: top;\n",
       "    }\n",
       "\n",
       "    .dataframe thead th {\n",
       "        text-align: right;\n",
       "    }\n",
       "</style>\n",
       "<table border=\"1\" class=\"dataframe\">\n",
       "  <thead>\n",
       "    <tr style=\"text-align: right;\">\n",
       "      <th></th>\n",
       "      <th>Period</th>\n",
       "      <th>Fed Funds Rate</th>\n",
       "    </tr>\n",
       "  </thead>\n",
       "  <tbody>\n",
       "    <tr>\n",
       "      <th>0</th>\n",
       "      <td>2000-01-01</td>\n",
       "      <td>5.45</td>\n",
       "    </tr>\n",
       "    <tr>\n",
       "      <th>1</th>\n",
       "      <td>2000-02-01</td>\n",
       "      <td>5.73</td>\n",
       "    </tr>\n",
       "    <tr>\n",
       "      <th>2</th>\n",
       "      <td>2000-03-01</td>\n",
       "      <td>5.85</td>\n",
       "    </tr>\n",
       "    <tr>\n",
       "      <th>3</th>\n",
       "      <td>2000-04-01</td>\n",
       "      <td>6.02</td>\n",
       "    </tr>\n",
       "    <tr>\n",
       "      <th>4</th>\n",
       "      <td>2000-05-01</td>\n",
       "      <td>6.27</td>\n",
       "    </tr>\n",
       "    <tr>\n",
       "      <th>5</th>\n",
       "      <td>2000-06-01</td>\n",
       "      <td>6.53</td>\n",
       "    </tr>\n",
       "    <tr>\n",
       "      <th>6</th>\n",
       "      <td>2000-07-01</td>\n",
       "      <td>6.54</td>\n",
       "    </tr>\n",
       "    <tr>\n",
       "      <th>7</th>\n",
       "      <td>2000-08-01</td>\n",
       "      <td>6.50</td>\n",
       "    </tr>\n",
       "    <tr>\n",
       "      <th>8</th>\n",
       "      <td>2000-09-01</td>\n",
       "      <td>6.52</td>\n",
       "    </tr>\n",
       "    <tr>\n",
       "      <th>9</th>\n",
       "      <td>2000-10-01</td>\n",
       "      <td>6.51</td>\n",
       "    </tr>\n",
       "  </tbody>\n",
       "</table>\n",
       "</div>"
      ],
      "text/plain": [
       "      Period  Fed Funds Rate\n",
       "0 2000-01-01            5.45\n",
       "1 2000-02-01            5.73\n",
       "2 2000-03-01            5.85\n",
       "3 2000-04-01            6.02\n",
       "4 2000-05-01            6.27\n",
       "5 2000-06-01            6.53\n",
       "6 2000-07-01            6.54\n",
       "7 2000-08-01            6.50\n",
       "8 2000-09-01            6.52\n",
       "9 2000-10-01            6.51"
      ]
     },
     "execution_count": 36,
     "metadata": {},
     "output_type": "execute_result"
    }
   ],
   "source": [
    "feds.head(10)"
   ]
  },
  {
   "cell_type": "markdown",
   "id": "ea10c63a",
   "metadata": {},
   "source": [
    "## *Personal Savings*"
   ]
  },
  {
   "cell_type": "code",
   "execution_count": 37,
   "id": "e080cbae",
   "metadata": {},
   "outputs": [],
   "source": [
    "# Source :  Federal Reserve Economic Data (FRED) database\n",
    "\n",
    "savings = pd.read_csv(\"Savings.csv\").rename(columns = {\"DATE\": \"Period\", \"PMSAVE\": \"Savings\"})"
   ]
  },
  {
   "cell_type": "code",
   "execution_count": 38,
   "id": "16d85ca3",
   "metadata": {},
   "outputs": [],
   "source": [
    "savings['Period'] = pd.to_datetime(savings['Period'])"
   ]
  },
  {
   "cell_type": "code",
   "execution_count": 39,
   "id": "ed62eb43",
   "metadata": {},
   "outputs": [
    {
     "data": {
      "text/html": [
       "<div>\n",
       "<style scoped>\n",
       "    .dataframe tbody tr th:only-of-type {\n",
       "        vertical-align: middle;\n",
       "    }\n",
       "\n",
       "    .dataframe tbody tr th {\n",
       "        vertical-align: top;\n",
       "    }\n",
       "\n",
       "    .dataframe thead th {\n",
       "        text-align: right;\n",
       "    }\n",
       "</style>\n",
       "<table border=\"1\" class=\"dataframe\">\n",
       "  <thead>\n",
       "    <tr style=\"text-align: right;\">\n",
       "      <th></th>\n",
       "      <th>Period</th>\n",
       "      <th>Savings</th>\n",
       "    </tr>\n",
       "  </thead>\n",
       "  <tbody>\n",
       "    <tr>\n",
       "      <th>0</th>\n",
       "      <td>2000-01-01</td>\n",
       "      <td>358.9</td>\n",
       "    </tr>\n",
       "    <tr>\n",
       "      <th>1</th>\n",
       "      <td>2000-02-01</td>\n",
       "      <td>324.3</td>\n",
       "    </tr>\n",
       "    <tr>\n",
       "      <th>2</th>\n",
       "      <td>2000-03-01</td>\n",
       "      <td>311.8</td>\n",
       "    </tr>\n",
       "    <tr>\n",
       "      <th>3</th>\n",
       "      <td>2000-04-01</td>\n",
       "      <td>347.8</td>\n",
       "    </tr>\n",
       "    <tr>\n",
       "      <th>4</th>\n",
       "      <td>2000-05-01</td>\n",
       "      <td>351.1</td>\n",
       "    </tr>\n",
       "    <tr>\n",
       "      <th>5</th>\n",
       "      <td>2000-06-01</td>\n",
       "      <td>355.3</td>\n",
       "    </tr>\n",
       "    <tr>\n",
       "      <th>6</th>\n",
       "      <td>2000-07-01</td>\n",
       "      <td>383.8</td>\n",
       "    </tr>\n",
       "    <tr>\n",
       "      <th>7</th>\n",
       "      <td>2000-08-01</td>\n",
       "      <td>389.9</td>\n",
       "    </tr>\n",
       "    <tr>\n",
       "      <th>8</th>\n",
       "      <td>2000-09-01</td>\n",
       "      <td>340.8</td>\n",
       "    </tr>\n",
       "    <tr>\n",
       "      <th>9</th>\n",
       "      <td>2000-10-01</td>\n",
       "      <td>360.3</td>\n",
       "    </tr>\n",
       "  </tbody>\n",
       "</table>\n",
       "</div>"
      ],
      "text/plain": [
       "      Period  Savings\n",
       "0 2000-01-01    358.9\n",
       "1 2000-02-01    324.3\n",
       "2 2000-03-01    311.8\n",
       "3 2000-04-01    347.8\n",
       "4 2000-05-01    351.1\n",
       "5 2000-06-01    355.3\n",
       "6 2000-07-01    383.8\n",
       "7 2000-08-01    389.9\n",
       "8 2000-09-01    340.8\n",
       "9 2000-10-01    360.3"
      ]
     },
     "execution_count": 39,
     "metadata": {},
     "output_type": "execute_result"
    }
   ],
   "source": [
    "savings.head(10)"
   ]
  },
  {
   "cell_type": "markdown",
   "id": "1a642bad",
   "metadata": {},
   "source": [
    "## *Disposable income*"
   ]
  },
  {
   "cell_type": "code",
   "execution_count": 40,
   "id": "d3577fdb",
   "metadata": {},
   "outputs": [],
   "source": [
    "# Source :  Federal Reserve Economic Data (FRED) database\n",
    "\n",
    "income = pd.read_csv(\"Personal_Income.csv\").rename(columns = {\"DATE\": \"Period\", \"DSPIC96\": \"Personal Income\"})"
   ]
  },
  {
   "cell_type": "code",
   "execution_count": 41,
   "id": "05241506",
   "metadata": {},
   "outputs": [],
   "source": [
    "income['Period'] = pd.to_datetime(income['Period'])"
   ]
  },
  {
   "cell_type": "code",
   "execution_count": 42,
   "id": "5767d52a",
   "metadata": {},
   "outputs": [
    {
     "name": "stdout",
     "output_type": "stream",
     "text": [
      "<class 'pandas.core.frame.DataFrame'>\n",
      "RangeIndex: 250 entries, 0 to 249\n",
      "Data columns (total 2 columns):\n",
      " #   Column           Non-Null Count  Dtype         \n",
      "---  ------           --------------  -----         \n",
      " 0   Period           250 non-null    datetime64[ns]\n",
      " 1   Personal Income  250 non-null    float64       \n",
      "dtypes: datetime64[ns](1), float64(1)\n",
      "memory usage: 4.0 KB\n"
     ]
    }
   ],
   "source": [
    "income.info()"
   ]
  },
  {
   "cell_type": "code",
   "execution_count": 43,
   "id": "502e71fc",
   "metadata": {},
   "outputs": [
    {
     "data": {
      "text/html": [
       "<div>\n",
       "<style scoped>\n",
       "    .dataframe tbody tr th:only-of-type {\n",
       "        vertical-align: middle;\n",
       "    }\n",
       "\n",
       "    .dataframe tbody tr th {\n",
       "        vertical-align: top;\n",
       "    }\n",
       "\n",
       "    .dataframe thead th {\n",
       "        text-align: right;\n",
       "    }\n",
       "</style>\n",
       "<table border=\"1\" class=\"dataframe\">\n",
       "  <thead>\n",
       "    <tr style=\"text-align: right;\">\n",
       "      <th></th>\n",
       "      <th>Period</th>\n",
       "      <th>Personal Income</th>\n",
       "    </tr>\n",
       "  </thead>\n",
       "  <tbody>\n",
       "    <tr>\n",
       "      <th>0</th>\n",
       "      <td>2000-01-01</td>\n",
       "      <td>9309.1</td>\n",
       "    </tr>\n",
       "    <tr>\n",
       "      <th>1</th>\n",
       "      <td>2000-02-01</td>\n",
       "      <td>9345.2</td>\n",
       "    </tr>\n",
       "    <tr>\n",
       "      <th>2</th>\n",
       "      <td>2000-03-01</td>\n",
       "      <td>9370.3</td>\n",
       "    </tr>\n",
       "    <tr>\n",
       "      <th>3</th>\n",
       "      <td>2000-04-01</td>\n",
       "      <td>9418.3</td>\n",
       "    </tr>\n",
       "    <tr>\n",
       "      <th>4</th>\n",
       "      <td>2000-05-01</td>\n",
       "      <td>9457.3</td>\n",
       "    </tr>\n",
       "    <tr>\n",
       "      <th>5</th>\n",
       "      <td>2000-06-01</td>\n",
       "      <td>9483.3</td>\n",
       "    </tr>\n",
       "    <tr>\n",
       "      <th>6</th>\n",
       "      <td>2000-07-01</td>\n",
       "      <td>9533.3</td>\n",
       "    </tr>\n",
       "    <tr>\n",
       "      <th>7</th>\n",
       "      <td>2000-08-01</td>\n",
       "      <td>9591.5</td>\n",
       "    </tr>\n",
       "    <tr>\n",
       "      <th>8</th>\n",
       "      <td>2000-09-01</td>\n",
       "      <td>9601.5</td>\n",
       "    </tr>\n",
       "    <tr>\n",
       "      <th>9</th>\n",
       "      <td>2000-10-01</td>\n",
       "      <td>9627.4</td>\n",
       "    </tr>\n",
       "  </tbody>\n",
       "</table>\n",
       "</div>"
      ],
      "text/plain": [
       "      Period  Personal Income\n",
       "0 2000-01-01           9309.1\n",
       "1 2000-02-01           9345.2\n",
       "2 2000-03-01           9370.3\n",
       "3 2000-04-01           9418.3\n",
       "4 2000-05-01           9457.3\n",
       "5 2000-06-01           9483.3\n",
       "6 2000-07-01           9533.3\n",
       "7 2000-08-01           9591.5\n",
       "8 2000-09-01           9601.5\n",
       "9 2000-10-01           9627.4"
      ]
     },
     "execution_count": 43,
     "metadata": {},
     "output_type": "execute_result"
    }
   ],
   "source": [
    "income.head(10)"
   ]
  },
  {
   "cell_type": "markdown",
   "id": "ef271849",
   "metadata": {},
   "source": [
    "## *Personal Consumption*"
   ]
  },
  {
   "cell_type": "code",
   "execution_count": 44,
   "id": "2c61399d",
   "metadata": {},
   "outputs": [],
   "source": [
    "# Source :  Federal Reserve Economic Data (FRED) database\n",
    "\n",
    "pc = pd.read_csv(\"Personal_Consumption.csv\").rename(columns = {\"DATE\": \"Period\", \"PCE\": \"Personal Consumption\"})"
   ]
  },
  {
   "cell_type": "code",
   "execution_count": 45,
   "id": "20355edc",
   "metadata": {},
   "outputs": [],
   "source": [
    "pc[\"Period\"] = pd.to_datetime(pc[\"Period\"])"
   ]
  },
  {
   "cell_type": "code",
   "execution_count": 46,
   "id": "46943cd0",
   "metadata": {},
   "outputs": [
    {
     "data": {
      "text/html": [
       "<div>\n",
       "<style scoped>\n",
       "    .dataframe tbody tr th:only-of-type {\n",
       "        vertical-align: middle;\n",
       "    }\n",
       "\n",
       "    .dataframe tbody tr th {\n",
       "        vertical-align: top;\n",
       "    }\n",
       "\n",
       "    .dataframe thead th {\n",
       "        text-align: right;\n",
       "    }\n",
       "</style>\n",
       "<table border=\"1\" class=\"dataframe\">\n",
       "  <thead>\n",
       "    <tr style=\"text-align: right;\">\n",
       "      <th></th>\n",
       "      <th>Period</th>\n",
       "      <th>Personal Consumption</th>\n",
       "    </tr>\n",
       "  </thead>\n",
       "  <tbody>\n",
       "    <tr>\n",
       "      <th>0</th>\n",
       "      <td>2000-01-01</td>\n",
       "      <td>6542.9</td>\n",
       "    </tr>\n",
       "    <tr>\n",
       "      <th>1</th>\n",
       "      <td>2000-02-01</td>\n",
       "      <td>6625.3</td>\n",
       "    </tr>\n",
       "    <tr>\n",
       "      <th>2</th>\n",
       "      <td>2000-03-01</td>\n",
       "      <td>6686.5</td>\n",
       "    </tr>\n",
       "    <tr>\n",
       "      <th>3</th>\n",
       "      <td>2000-04-01</td>\n",
       "      <td>6679.1</td>\n",
       "    </tr>\n",
       "    <tr>\n",
       "      <th>4</th>\n",
       "      <td>2000-05-01</td>\n",
       "      <td>6709.7</td>\n",
       "    </tr>\n",
       "    <tr>\n",
       "      <th>5</th>\n",
       "      <td>2000-06-01</td>\n",
       "      <td>6746.9</td>\n",
       "    </tr>\n",
       "    <tr>\n",
       "      <th>6</th>\n",
       "      <td>2000-07-01</td>\n",
       "      <td>6768.5</td>\n",
       "    </tr>\n",
       "    <tr>\n",
       "      <th>7</th>\n",
       "      <td>2000-08-01</td>\n",
       "      <td>6802.8</td>\n",
       "    </tr>\n",
       "    <tr>\n",
       "      <th>8</th>\n",
       "      <td>2000-09-01</td>\n",
       "      <td>6888.6</td>\n",
       "    </tr>\n",
       "    <tr>\n",
       "      <th>9</th>\n",
       "      <td>2000-10-01</td>\n",
       "      <td>6893.8</td>\n",
       "    </tr>\n",
       "  </tbody>\n",
       "</table>\n",
       "</div>"
      ],
      "text/plain": [
       "      Period  Personal Consumption\n",
       "0 2000-01-01                6542.9\n",
       "1 2000-02-01                6625.3\n",
       "2 2000-03-01                6686.5\n",
       "3 2000-04-01                6679.1\n",
       "4 2000-05-01                6709.7\n",
       "5 2000-06-01                6746.9\n",
       "6 2000-07-01                6768.5\n",
       "7 2000-08-01                6802.8\n",
       "8 2000-09-01                6888.6\n",
       "9 2000-10-01                6893.8"
      ]
     },
     "execution_count": 46,
     "metadata": {},
     "output_type": "execute_result"
    }
   ],
   "source": [
    "pc.head(10)"
   ]
  },
  {
   "cell_type": "markdown",
   "id": "9423fec3",
   "metadata": {},
   "source": [
    "## *Housing Starts*"
   ]
  },
  {
   "cell_type": "code",
   "execution_count": 47,
   "id": "245b87b6",
   "metadata": {},
   "outputs": [],
   "source": [
    "# Source : U.S. Census Bureau\n",
    "\n",
    "housing_starts = pd.read_csv(\"housing_starts.csv\")[49:71].rename(\n",
    "                    columns = {\n",
    "                        \"New Privately Owned Housing Units Started\": \"Period\" , \"Unnamed: 1\": \"Housing_Starts\"\n",
    "                              }).reset_index(drop=True).drop(\n",
    "                    columns=[\n",
    "                        'Unnamed: 2', 'Unnamed: 3', 'Unnamed: 4', 'Unnamed: 5', 'Unnamed: 6',\n",
    "                        'Unnamed: 7', 'Unnamed: 8', 'Unnamed: 9', 'Unnamed: 10', 'Unnamed: 11', 'Unnamed: 12'\n",
    "\n",
    "                    ])"
   ]
  },
  {
   "cell_type": "code",
   "execution_count": 48,
   "id": "8ea6ac41",
   "metadata": {},
   "outputs": [
    {
     "data": {
      "text/html": [
       "<div>\n",
       "<style scoped>\n",
       "    .dataframe tbody tr th:only-of-type {\n",
       "        vertical-align: middle;\n",
       "    }\n",
       "\n",
       "    .dataframe tbody tr th {\n",
       "        vertical-align: top;\n",
       "    }\n",
       "\n",
       "    .dataframe thead th {\n",
       "        text-align: right;\n",
       "    }\n",
       "</style>\n",
       "<table border=\"1\" class=\"dataframe\">\n",
       "  <thead>\n",
       "    <tr style=\"text-align: right;\">\n",
       "      <th></th>\n",
       "      <th>Period</th>\n",
       "      <th>Housing_Starts</th>\n",
       "    </tr>\n",
       "  </thead>\n",
       "  <tbody>\n",
       "    <tr>\n",
       "      <th>0</th>\n",
       "      <td>2000</td>\n",
       "      <td>1,568.7</td>\n",
       "    </tr>\n",
       "    <tr>\n",
       "      <th>1</th>\n",
       "      <td>2001</td>\n",
       "      <td>1,602.7</td>\n",
       "    </tr>\n",
       "    <tr>\n",
       "      <th>2</th>\n",
       "      <td>2002</td>\n",
       "      <td>1,704.9</td>\n",
       "    </tr>\n",
       "    <tr>\n",
       "      <th>3</th>\n",
       "      <td>2003</td>\n",
       "      <td>1,847.7</td>\n",
       "    </tr>\n",
       "    <tr>\n",
       "      <th>4</th>\n",
       "      <td>2004</td>\n",
       "      <td>1,955.8</td>\n",
       "    </tr>\n",
       "  </tbody>\n",
       "</table>\n",
       "</div>"
      ],
      "text/plain": [
       "  Period Housing_Starts\n",
       "0   2000        1,568.7\n",
       "1   2001        1,602.7\n",
       "2   2002        1,704.9\n",
       "3   2003        1,847.7\n",
       "4   2004        1,955.8"
      ]
     },
     "execution_count": 48,
     "metadata": {},
     "output_type": "execute_result"
    }
   ],
   "source": [
    "housing_starts.head()"
   ]
  },
  {
   "cell_type": "code",
   "execution_count": 49,
   "id": "57ebbb7d",
   "metadata": {},
   "outputs": [],
   "source": [
    "housing_starts[\"Period\"] = pd.to_datetime(housing_starts['Period'])"
   ]
  },
  {
   "cell_type": "code",
   "execution_count": 50,
   "id": "44ddbd67",
   "metadata": {},
   "outputs": [],
   "source": [
    "housing_starts['Housing_Starts'] = housing_starts['Housing_Starts'].str.replace(',', '').astype(float).astype(int)\n"
   ]
  },
  {
   "cell_type": "code",
   "execution_count": 51,
   "id": "0fa1ede8",
   "metadata": {},
   "outputs": [
    {
     "name": "stdout",
     "output_type": "stream",
     "text": [
      "<class 'pandas.core.frame.DataFrame'>\n",
      "RangeIndex: 22 entries, 0 to 21\n",
      "Data columns (total 2 columns):\n",
      " #   Column          Non-Null Count  Dtype         \n",
      "---  ------          --------------  -----         \n",
      " 0   Period          22 non-null     datetime64[ns]\n",
      " 1   Housing_Starts  22 non-null     int32         \n",
      "dtypes: datetime64[ns](1), int32(1)\n",
      "memory usage: 396.0 bytes\n"
     ]
    }
   ],
   "source": [
    "housing_starts.info()"
   ]
  },
  {
   "cell_type": "code",
   "execution_count": 52,
   "id": "5246fcfd",
   "metadata": {},
   "outputs": [],
   "source": [
    "housing_starts.set_index('Period', inplace=True)\n",
    "\n",
    "\n",
    "housing_starts = housing_starts.resample('MS').mean()"
   ]
  },
  {
   "cell_type": "code",
   "execution_count": 53,
   "id": "eb2d1e9e",
   "metadata": {},
   "outputs": [],
   "source": [
    "housing_starts[\"Housing_Starts\"].interpolate(method='linear', inplace=True)"
   ]
  },
  {
   "cell_type": "code",
   "execution_count": 54,
   "id": "d1f1e303",
   "metadata": {},
   "outputs": [],
   "source": [
    "housing_starts.reset_index(inplace=True)"
   ]
  },
  {
   "cell_type": "code",
   "execution_count": 55,
   "id": "ae5a76d0",
   "metadata": {},
   "outputs": [],
   "source": [
    "housing_starts.drop(housing_starts.tail(3).index,inplace = True)"
   ]
  },
  {
   "cell_type": "code",
   "execution_count": 56,
   "id": "c4287c45",
   "metadata": {},
   "outputs": [],
   "source": [
    "housing_starts[\"Housing_Starts\"] = housing_starts[\"Housing_Starts\"].astype(int)"
   ]
  },
  {
   "cell_type": "code",
   "execution_count": 57,
   "id": "599a6a73",
   "metadata": {},
   "outputs": [
    {
     "data": {
      "text/html": [
       "<div>\n",
       "<style scoped>\n",
       "    .dataframe tbody tr th:only-of-type {\n",
       "        vertical-align: middle;\n",
       "    }\n",
       "\n",
       "    .dataframe tbody tr th {\n",
       "        vertical-align: top;\n",
       "    }\n",
       "\n",
       "    .dataframe thead th {\n",
       "        text-align: right;\n",
       "    }\n",
       "</style>\n",
       "<table border=\"1\" class=\"dataframe\">\n",
       "  <thead>\n",
       "    <tr style=\"text-align: right;\">\n",
       "      <th></th>\n",
       "      <th>Period</th>\n",
       "      <th>Housing_Starts</th>\n",
       "    </tr>\n",
       "  </thead>\n",
       "  <tbody>\n",
       "    <tr>\n",
       "      <th>0</th>\n",
       "      <td>2000-01-01</td>\n",
       "      <td>1568</td>\n",
       "    </tr>\n",
       "    <tr>\n",
       "      <th>1</th>\n",
       "      <td>2000-02-01</td>\n",
       "      <td>1570</td>\n",
       "    </tr>\n",
       "    <tr>\n",
       "      <th>2</th>\n",
       "      <td>2000-03-01</td>\n",
       "      <td>1573</td>\n",
       "    </tr>\n",
       "    <tr>\n",
       "      <th>3</th>\n",
       "      <td>2000-04-01</td>\n",
       "      <td>1576</td>\n",
       "    </tr>\n",
       "    <tr>\n",
       "      <th>4</th>\n",
       "      <td>2000-05-01</td>\n",
       "      <td>1579</td>\n",
       "    </tr>\n",
       "    <tr>\n",
       "      <th>5</th>\n",
       "      <td>2000-06-01</td>\n",
       "      <td>1582</td>\n",
       "    </tr>\n",
       "    <tr>\n",
       "      <th>6</th>\n",
       "      <td>2000-07-01</td>\n",
       "      <td>1585</td>\n",
       "    </tr>\n",
       "    <tr>\n",
       "      <th>7</th>\n",
       "      <td>2000-08-01</td>\n",
       "      <td>1587</td>\n",
       "    </tr>\n",
       "    <tr>\n",
       "      <th>8</th>\n",
       "      <td>2000-09-01</td>\n",
       "      <td>1590</td>\n",
       "    </tr>\n",
       "    <tr>\n",
       "      <th>9</th>\n",
       "      <td>2000-10-01</td>\n",
       "      <td>1593</td>\n",
       "    </tr>\n",
       "  </tbody>\n",
       "</table>\n",
       "</div>"
      ],
      "text/plain": [
       "      Period  Housing_Starts\n",
       "0 2000-01-01            1568\n",
       "1 2000-02-01            1570\n",
       "2 2000-03-01            1573\n",
       "3 2000-04-01            1576\n",
       "4 2000-05-01            1579\n",
       "5 2000-06-01            1582\n",
       "6 2000-07-01            1585\n",
       "7 2000-08-01            1587\n",
       "8 2000-09-01            1590\n",
       "9 2000-10-01            1593"
      ]
     },
     "execution_count": 57,
     "metadata": {},
     "output_type": "execute_result"
    }
   ],
   "source": [
    "housing_starts.head(10)"
   ]
  },
  {
   "cell_type": "markdown",
   "id": "e48ea93a",
   "metadata": {},
   "source": [
    "## *Mortgage rate*"
   ]
  },
  {
   "cell_type": "code",
   "execution_count": 58,
   "id": "3759511b",
   "metadata": {},
   "outputs": [],
   "source": [
    "# Source :  Federal Reserve Economic Data (FRED) database\n",
    "\n",
    "mortgage = pd.read_csv('mortgage.csv').rename(columns={'DATE':'Period', 'MORTGAGE30US':'Mortgage'})"
   ]
  },
  {
   "cell_type": "code",
   "execution_count": 59,
   "id": "68141b60",
   "metadata": {},
   "outputs": [],
   "source": [
    "mortgage[\"Period\"] = pd.to_datetime(mortgage[\"Period\"])"
   ]
  },
  {
   "cell_type": "code",
   "execution_count": 60,
   "id": "8be9d57f",
   "metadata": {},
   "outputs": [],
   "source": [
    "mortgage[\"Mortgage\"] = mortgage[\"Mortgage\"].round(2)"
   ]
  },
  {
   "cell_type": "code",
   "execution_count": 61,
   "id": "31f70ce6",
   "metadata": {},
   "outputs": [
    {
     "data": {
      "text/html": [
       "<div>\n",
       "<style scoped>\n",
       "    .dataframe tbody tr th:only-of-type {\n",
       "        vertical-align: middle;\n",
       "    }\n",
       "\n",
       "    .dataframe tbody tr th {\n",
       "        vertical-align: top;\n",
       "    }\n",
       "\n",
       "    .dataframe thead th {\n",
       "        text-align: right;\n",
       "    }\n",
       "</style>\n",
       "<table border=\"1\" class=\"dataframe\">\n",
       "  <thead>\n",
       "    <tr style=\"text-align: right;\">\n",
       "      <th></th>\n",
       "      <th>Period</th>\n",
       "      <th>Mortgage</th>\n",
       "    </tr>\n",
       "  </thead>\n",
       "  <tbody>\n",
       "    <tr>\n",
       "      <th>0</th>\n",
       "      <td>2000-01-01</td>\n",
       "      <td>8.21</td>\n",
       "    </tr>\n",
       "    <tr>\n",
       "      <th>1</th>\n",
       "      <td>2000-02-01</td>\n",
       "      <td>8.32</td>\n",
       "    </tr>\n",
       "    <tr>\n",
       "      <th>2</th>\n",
       "      <td>2000-03-01</td>\n",
       "      <td>8.24</td>\n",
       "    </tr>\n",
       "    <tr>\n",
       "      <th>3</th>\n",
       "      <td>2000-04-01</td>\n",
       "      <td>8.15</td>\n",
       "    </tr>\n",
       "    <tr>\n",
       "      <th>4</th>\n",
       "      <td>2000-05-01</td>\n",
       "      <td>8.52</td>\n",
       "    </tr>\n",
       "    <tr>\n",
       "      <th>5</th>\n",
       "      <td>2000-06-01</td>\n",
       "      <td>8.29</td>\n",
       "    </tr>\n",
       "    <tr>\n",
       "      <th>6</th>\n",
       "      <td>2000-07-01</td>\n",
       "      <td>8.15</td>\n",
       "    </tr>\n",
       "    <tr>\n",
       "      <th>7</th>\n",
       "      <td>2000-08-01</td>\n",
       "      <td>8.03</td>\n",
       "    </tr>\n",
       "    <tr>\n",
       "      <th>8</th>\n",
       "      <td>2000-09-01</td>\n",
       "      <td>7.91</td>\n",
       "    </tr>\n",
       "    <tr>\n",
       "      <th>9</th>\n",
       "      <td>2000-10-01</td>\n",
       "      <td>7.80</td>\n",
       "    </tr>\n",
       "  </tbody>\n",
       "</table>\n",
       "</div>"
      ],
      "text/plain": [
       "      Period  Mortgage\n",
       "0 2000-01-01      8.21\n",
       "1 2000-02-01      8.32\n",
       "2 2000-03-01      8.24\n",
       "3 2000-04-01      8.15\n",
       "4 2000-05-01      8.52\n",
       "5 2000-06-01      8.29\n",
       "6 2000-07-01      8.15\n",
       "7 2000-08-01      8.03\n",
       "8 2000-09-01      7.91\n",
       "9 2000-10-01      7.80"
      ]
     },
     "execution_count": 61,
     "metadata": {},
     "output_type": "execute_result"
    }
   ],
   "source": [
    "mortgage.head(10)"
   ]
  },
  {
   "cell_type": "markdown",
   "id": "821f2087",
   "metadata": {},
   "source": [
    "## *Months of supply*"
   ]
  },
  {
   "cell_type": "code",
   "execution_count": 62,
   "id": "ca7715c5",
   "metadata": {},
   "outputs": [],
   "source": [
    "# Source :  Federal Reserve Economic Data (FRED) database\n",
    "\n",
    "mos = pd.read_csv('Months_of_Supply.csv').rename(columns={'DATE':'Period', 'MSACSR':'Months of Supply'})"
   ]
  },
  {
   "cell_type": "code",
   "execution_count": 63,
   "id": "ced4e23e",
   "metadata": {},
   "outputs": [],
   "source": [
    "mos[\"Period\"] = pd.to_datetime(mos[\"Period\"])"
   ]
  },
  {
   "cell_type": "code",
   "execution_count": 64,
   "id": "58d5c48a",
   "metadata": {},
   "outputs": [
    {
     "data": {
      "text/html": [
       "<div>\n",
       "<style scoped>\n",
       "    .dataframe tbody tr th:only-of-type {\n",
       "        vertical-align: middle;\n",
       "    }\n",
       "\n",
       "    .dataframe tbody tr th {\n",
       "        vertical-align: top;\n",
       "    }\n",
       "\n",
       "    .dataframe thead th {\n",
       "        text-align: right;\n",
       "    }\n",
       "</style>\n",
       "<table border=\"1\" class=\"dataframe\">\n",
       "  <thead>\n",
       "    <tr style=\"text-align: right;\">\n",
       "      <th></th>\n",
       "      <th>Period</th>\n",
       "      <th>Months of Supply</th>\n",
       "    </tr>\n",
       "  </thead>\n",
       "  <tbody>\n",
       "    <tr>\n",
       "      <th>0</th>\n",
       "      <td>2000-01-01</td>\n",
       "      <td>4.3</td>\n",
       "    </tr>\n",
       "    <tr>\n",
       "      <th>1</th>\n",
       "      <td>2000-02-01</td>\n",
       "      <td>4.3</td>\n",
       "    </tr>\n",
       "    <tr>\n",
       "      <th>2</th>\n",
       "      <td>2000-03-01</td>\n",
       "      <td>4.3</td>\n",
       "    </tr>\n",
       "    <tr>\n",
       "      <th>3</th>\n",
       "      <td>2000-04-01</td>\n",
       "      <td>4.4</td>\n",
       "    </tr>\n",
       "    <tr>\n",
       "      <th>4</th>\n",
       "      <td>2000-05-01</td>\n",
       "      <td>4.4</td>\n",
       "    </tr>\n",
       "    <tr>\n",
       "      <th>5</th>\n",
       "      <td>2000-06-01</td>\n",
       "      <td>4.8</td>\n",
       "    </tr>\n",
       "    <tr>\n",
       "      <th>6</th>\n",
       "      <td>2000-07-01</td>\n",
       "      <td>4.1</td>\n",
       "    </tr>\n",
       "    <tr>\n",
       "      <th>7</th>\n",
       "      <td>2000-08-01</td>\n",
       "      <td>4.4</td>\n",
       "    </tr>\n",
       "    <tr>\n",
       "      <th>8</th>\n",
       "      <td>2000-09-01</td>\n",
       "      <td>4.0</td>\n",
       "    </tr>\n",
       "    <tr>\n",
       "      <th>9</th>\n",
       "      <td>2000-10-01</td>\n",
       "      <td>4.0</td>\n",
       "    </tr>\n",
       "  </tbody>\n",
       "</table>\n",
       "</div>"
      ],
      "text/plain": [
       "      Period  Months of Supply\n",
       "0 2000-01-01               4.3\n",
       "1 2000-02-01               4.3\n",
       "2 2000-03-01               4.3\n",
       "3 2000-04-01               4.4\n",
       "4 2000-05-01               4.4\n",
       "5 2000-06-01               4.8\n",
       "6 2000-07-01               4.1\n",
       "7 2000-08-01               4.4\n",
       "8 2000-09-01               4.0\n",
       "9 2000-10-01               4.0"
      ]
     },
     "execution_count": 64,
     "metadata": {},
     "output_type": "execute_result"
    }
   ],
   "source": [
    "mos.head(10)"
   ]
  },
  {
   "cell_type": "markdown",
   "id": "8d98abb0",
   "metadata": {},
   "source": [
    "## *Unemployment*"
   ]
  },
  {
   "cell_type": "code",
   "execution_count": 65,
   "id": "d39895c2",
   "metadata": {},
   "outputs": [],
   "source": [
    "# Source :  Federal Reserve Economic Data (FRED) database\n",
    "\n",
    "unemp = pd.read_csv('unemp.csv').rename(columns={'DATE':'Period', 'UNRATE':'Unemployment'})"
   ]
  },
  {
   "cell_type": "code",
   "execution_count": 66,
   "id": "6a43b9df",
   "metadata": {},
   "outputs": [],
   "source": [
    "unemp[\"Period\"] = pd.to_datetime(unemp[\"Period\"])"
   ]
  },
  {
   "cell_type": "code",
   "execution_count": 67,
   "id": "2ff65cb3",
   "metadata": {},
   "outputs": [
    {
     "name": "stdout",
     "output_type": "stream",
     "text": [
      "<class 'pandas.core.frame.DataFrame'>\n",
      "RangeIndex: 250 entries, 0 to 249\n",
      "Data columns (total 2 columns):\n",
      " #   Column        Non-Null Count  Dtype         \n",
      "---  ------        --------------  -----         \n",
      " 0   Period        250 non-null    datetime64[ns]\n",
      " 1   Unemployment  250 non-null    float64       \n",
      "dtypes: datetime64[ns](1), float64(1)\n",
      "memory usage: 4.0 KB\n"
     ]
    }
   ],
   "source": [
    "unemp.info()"
   ]
  },
  {
   "cell_type": "code",
   "execution_count": 68,
   "id": "cbbdbd82",
   "metadata": {},
   "outputs": [
    {
     "data": {
      "text/html": [
       "<div>\n",
       "<style scoped>\n",
       "    .dataframe tbody tr th:only-of-type {\n",
       "        vertical-align: middle;\n",
       "    }\n",
       "\n",
       "    .dataframe tbody tr th {\n",
       "        vertical-align: top;\n",
       "    }\n",
       "\n",
       "    .dataframe thead th {\n",
       "        text-align: right;\n",
       "    }\n",
       "</style>\n",
       "<table border=\"1\" class=\"dataframe\">\n",
       "  <thead>\n",
       "    <tr style=\"text-align: right;\">\n",
       "      <th></th>\n",
       "      <th>Period</th>\n",
       "      <th>Unemployment</th>\n",
       "    </tr>\n",
       "  </thead>\n",
       "  <tbody>\n",
       "    <tr>\n",
       "      <th>0</th>\n",
       "      <td>2000-01-01</td>\n",
       "      <td>4.0</td>\n",
       "    </tr>\n",
       "    <tr>\n",
       "      <th>1</th>\n",
       "      <td>2000-02-01</td>\n",
       "      <td>4.1</td>\n",
       "    </tr>\n",
       "    <tr>\n",
       "      <th>2</th>\n",
       "      <td>2000-03-01</td>\n",
       "      <td>4.0</td>\n",
       "    </tr>\n",
       "    <tr>\n",
       "      <th>3</th>\n",
       "      <td>2000-04-01</td>\n",
       "      <td>3.8</td>\n",
       "    </tr>\n",
       "    <tr>\n",
       "      <th>4</th>\n",
       "      <td>2000-05-01</td>\n",
       "      <td>4.0</td>\n",
       "    </tr>\n",
       "    <tr>\n",
       "      <th>5</th>\n",
       "      <td>2000-06-01</td>\n",
       "      <td>4.0</td>\n",
       "    </tr>\n",
       "    <tr>\n",
       "      <th>6</th>\n",
       "      <td>2000-07-01</td>\n",
       "      <td>4.0</td>\n",
       "    </tr>\n",
       "    <tr>\n",
       "      <th>7</th>\n",
       "      <td>2000-08-01</td>\n",
       "      <td>4.1</td>\n",
       "    </tr>\n",
       "    <tr>\n",
       "      <th>8</th>\n",
       "      <td>2000-09-01</td>\n",
       "      <td>3.9</td>\n",
       "    </tr>\n",
       "    <tr>\n",
       "      <th>9</th>\n",
       "      <td>2000-10-01</td>\n",
       "      <td>3.9</td>\n",
       "    </tr>\n",
       "  </tbody>\n",
       "</table>\n",
       "</div>"
      ],
      "text/plain": [
       "      Period  Unemployment\n",
       "0 2000-01-01           4.0\n",
       "1 2000-02-01           4.1\n",
       "2 2000-03-01           4.0\n",
       "3 2000-04-01           3.8\n",
       "4 2000-05-01           4.0\n",
       "5 2000-06-01           4.0\n",
       "6 2000-07-01           4.0\n",
       "7 2000-08-01           4.1\n",
       "8 2000-09-01           3.9\n",
       "9 2000-10-01           3.9"
      ]
     },
     "execution_count": 68,
     "metadata": {},
     "output_type": "execute_result"
    }
   ],
   "source": [
    "unemp.head(10)"
   ]
  },
  {
   "cell_type": "markdown",
   "id": "da8d0bd3",
   "metadata": {},
   "source": [
    "## *USA GDP monthly*"
   ]
  },
  {
   "cell_type": "code",
   "execution_count": 69,
   "id": "501cf15f",
   "metadata": {},
   "outputs": [],
   "source": [
    "# Source :  Federal Reserve Economic Data (FRED) database\n",
    "\n",
    "gdp = pd.read_csv(\"GDP_Monthly.csv\").rename(columns={'DATE': 'Period', 'USALORSGPNOSTSAM':'USA_GDP'})"
   ]
  },
  {
   "cell_type": "code",
   "execution_count": 70,
   "id": "8851cf4a",
   "metadata": {},
   "outputs": [],
   "source": [
    "gdp[\"Period\"] = pd.to_datetime(gdp[\"Period\"])"
   ]
  },
  {
   "cell_type": "code",
   "execution_count": 71,
   "id": "3322a31d",
   "metadata": {},
   "outputs": [],
   "source": [
    "gdp[\"USA_GDP\"] = round(gdp[\"USA_GDP\"], 2)"
   ]
  },
  {
   "cell_type": "code",
   "execution_count": 72,
   "id": "a62b8b81",
   "metadata": {},
   "outputs": [
    {
     "name": "stdout",
     "output_type": "stream",
     "text": [
      "<class 'pandas.core.frame.DataFrame'>\n",
      "RangeIndex: 250 entries, 0 to 249\n",
      "Data columns (total 2 columns):\n",
      " #   Column   Non-Null Count  Dtype         \n",
      "---  ------   --------------  -----         \n",
      " 0   Period   250 non-null    datetime64[ns]\n",
      " 1   USA_GDP  250 non-null    float64       \n",
      "dtypes: datetime64[ns](1), float64(1)\n",
      "memory usage: 4.0 KB\n"
     ]
    }
   ],
   "source": [
    "gdp.info()"
   ]
  },
  {
   "cell_type": "code",
   "execution_count": 73,
   "id": "dee4100a",
   "metadata": {},
   "outputs": [
    {
     "data": {
      "text/html": [
       "<div>\n",
       "<style scoped>\n",
       "    .dataframe tbody tr th:only-of-type {\n",
       "        vertical-align: middle;\n",
       "    }\n",
       "\n",
       "    .dataframe tbody tr th {\n",
       "        vertical-align: top;\n",
       "    }\n",
       "\n",
       "    .dataframe thead th {\n",
       "        text-align: right;\n",
       "    }\n",
       "</style>\n",
       "<table border=\"1\" class=\"dataframe\">\n",
       "  <thead>\n",
       "    <tr style=\"text-align: right;\">\n",
       "      <th></th>\n",
       "      <th>Period</th>\n",
       "      <th>USA_GDP</th>\n",
       "    </tr>\n",
       "  </thead>\n",
       "  <tbody>\n",
       "    <tr>\n",
       "      <th>0</th>\n",
       "      <td>2000-01-01</td>\n",
       "      <td>101.52</td>\n",
       "    </tr>\n",
       "    <tr>\n",
       "      <th>1</th>\n",
       "      <td>2000-02-01</td>\n",
       "      <td>101.58</td>\n",
       "    </tr>\n",
       "    <tr>\n",
       "      <th>2</th>\n",
       "      <td>2000-03-01</td>\n",
       "      <td>101.66</td>\n",
       "    </tr>\n",
       "    <tr>\n",
       "      <th>3</th>\n",
       "      <td>2000-04-01</td>\n",
       "      <td>101.73</td>\n",
       "    </tr>\n",
       "    <tr>\n",
       "      <th>4</th>\n",
       "      <td>2000-05-01</td>\n",
       "      <td>101.77</td>\n",
       "    </tr>\n",
       "    <tr>\n",
       "      <th>5</th>\n",
       "      <td>2000-06-01</td>\n",
       "      <td>101.76</td>\n",
       "    </tr>\n",
       "    <tr>\n",
       "      <th>6</th>\n",
       "      <td>2000-07-01</td>\n",
       "      <td>101.71</td>\n",
       "    </tr>\n",
       "    <tr>\n",
       "      <th>7</th>\n",
       "      <td>2000-08-01</td>\n",
       "      <td>101.62</td>\n",
       "    </tr>\n",
       "    <tr>\n",
       "      <th>8</th>\n",
       "      <td>2000-09-01</td>\n",
       "      <td>101.50</td>\n",
       "    </tr>\n",
       "    <tr>\n",
       "      <th>9</th>\n",
       "      <td>2000-10-01</td>\n",
       "      <td>101.36</td>\n",
       "    </tr>\n",
       "  </tbody>\n",
       "</table>\n",
       "</div>"
      ],
      "text/plain": [
       "      Period  USA_GDP\n",
       "0 2000-01-01   101.52\n",
       "1 2000-02-01   101.58\n",
       "2 2000-03-01   101.66\n",
       "3 2000-04-01   101.73\n",
       "4 2000-05-01   101.77\n",
       "5 2000-06-01   101.76\n",
       "6 2000-07-01   101.71\n",
       "7 2000-08-01   101.62\n",
       "8 2000-09-01   101.50\n",
       "9 2000-10-01   101.36"
      ]
     },
     "execution_count": 73,
     "metadata": {},
     "output_type": "execute_result"
    }
   ],
   "source": [
    "gdp.head(10)"
   ]
  },
  {
   "cell_type": "markdown",
   "id": "b01341ab",
   "metadata": {},
   "source": [
    "#####  We have all the factors available in the form of csv files. \n",
    "##### Now let's merge all these files and create one large monthly file consisting of all the factors as shown below "
   ]
  },
  {
   "cell_type": "code",
   "execution_count": 74,
   "id": "bfaac165",
   "metadata": {},
   "outputs": [],
   "source": [
    "dfs = [gdp, unemp, mos, mortgage, housing_starts, pc, income, savings, feds, homes_sold, home_sale]"
   ]
  },
  {
   "cell_type": "code",
   "execution_count": 75,
   "id": "583bdf8d",
   "metadata": {},
   "outputs": [],
   "source": [
    "# Merge dataframes using outer join on the 'Period' column\n",
    "\n",
    "x_monthly = pd.merge(dfs[0], dfs[1], how='outer', on='Period')"
   ]
  },
  {
   "cell_type": "code",
   "execution_count": 76,
   "id": "5033db37",
   "metadata": {},
   "outputs": [],
   "source": [
    "for df in dfs[2:]:\n",
    "    x_monthly = pd.merge(x_monthly, df, how='outer', on='Period')"
   ]
  },
  {
   "cell_type": "code",
   "execution_count": 77,
   "id": "f967bf8f",
   "metadata": {},
   "outputs": [],
   "source": [
    "x_monthly.set_index('Period', inplace=True)"
   ]
  },
  {
   "cell_type": "code",
   "execution_count": 78,
   "id": "6b242a12",
   "metadata": {},
   "outputs": [
    {
     "name": "stdout",
     "output_type": "stream",
     "text": [
      "<class 'pandas.core.frame.DataFrame'>\n",
      "DatetimeIndex: 250 entries, 2000-01-01 to 2020-10-01\n",
      "Data columns (total 11 columns):\n",
      " #   Column                Non-Null Count  Dtype  \n",
      "---  ------                --------------  -----  \n",
      " 0   USA_GDP               250 non-null    float64\n",
      " 1   Unemployment          250 non-null    float64\n",
      " 2   Months of Supply      250 non-null    float64\n",
      " 3   Mortgage              250 non-null    float64\n",
      " 4   Housing_Starts        250 non-null    int32  \n",
      " 5   Personal Consumption  250 non-null    float64\n",
      " 6   Personal Income       250 non-null    float64\n",
      " 7   Savings               250 non-null    float64\n",
      " 8   Fed Funds Rate        250 non-null    float64\n",
      " 9   Homes Sold            250 non-null    int32  \n",
      " 10  Homes for Sale        250 non-null    int32  \n",
      "dtypes: float64(8), int32(3)\n",
      "memory usage: 20.5 KB\n"
     ]
    }
   ],
   "source": [
    "x_monthly.info()"
   ]
  },
  {
   "cell_type": "code",
   "execution_count": 79,
   "id": "bbab49c0",
   "metadata": {},
   "outputs": [
    {
     "name": "stdout",
     "output_type": "stream",
     "text": [
      "<class 'pandas.core.frame.DataFrame'>\n",
      "DatetimeIndex: 250 entries, 2000-01-01 to 2020-10-01\n",
      "Data columns (total 1 columns):\n",
      " #   Column  Non-Null Count  Dtype  \n",
      "---  ------  --------------  -----  \n",
      " 0   HPI     250 non-null    float64\n",
      "dtypes: float64(1)\n",
      "memory usage: 3.9 KB\n"
     ]
    }
   ],
   "source": [
    "y_monthly.info()"
   ]
  },
  {
   "cell_type": "code",
   "execution_count": 80,
   "id": "15abe700",
   "metadata": {},
   "outputs": [
    {
     "name": "stdout",
     "output_type": "stream",
     "text": [
      "USA_GDP                 float64\n",
      "Unemployment            float64\n",
      "Months of Supply        float64\n",
      "Mortgage                float64\n",
      "Housing_Starts            int32\n",
      "Personal Consumption    float64\n",
      "Personal Income         float64\n",
      "Savings                 float64\n",
      "Fed Funds Rate          float64\n",
      "Homes Sold                int32\n",
      "Homes for Sale            int32\n",
      "dtype: object\n",
      "\n",
      "\n",
      "HPI    float64\n",
      "dtype: object\n"
     ]
    }
   ],
   "source": [
    "print(x_monthly.dtypes)\n",
    "print('\\n')\n",
    "print(y_monthly.dtypes)"
   ]
  },
  {
   "cell_type": "markdown",
   "id": "623438b5",
   "metadata": {},
   "source": [
    "### *Now let's build a Machine Learning(ML) model that explains how these factors impacted home prices over the last 20 years*"
   ]
  },
  {
   "cell_type": "code",
   "execution_count": 81,
   "id": "b27c71f8",
   "metadata": {},
   "outputs": [],
   "source": [
    "from sklearn.model_selection import train_test_split # Import the train_test_split function from scikit-learn for data splitting.\n",
    "from sklearn.linear_model import LinearRegression  # Import the LinearRegression model from scikit-learn.\n",
    "from sklearn import metrics # Import the metrics module from scikit-learn for evaluating model performance."
   ]
  },
  {
   "cell_type": "code",
   "execution_count": 82,
   "id": "5bacce8d",
   "metadata": {},
   "outputs": [],
   "source": [
    "# Creating x feature variable containing specific columns from the 'x_monthly'.\n",
    "\n",
    "x = x_monthly[['USA_GDP', 'Unemployment', 'Months of Supply', 'Mortgage', 'Housing_Starts', \n",
    "           'Personal Consumption', 'Personal Income', 'Savings', 'Fed Funds Rate', 'Homes Sold', 'Homes for Sale']]"
   ]
  },
  {
   "cell_type": "code",
   "execution_count": 83,
   "id": "a75ca713",
   "metadata": {},
   "outputs": [
    {
     "data": {
      "text/html": [
       "<div>\n",
       "<style scoped>\n",
       "    .dataframe tbody tr th:only-of-type {\n",
       "        vertical-align: middle;\n",
       "    }\n",
       "\n",
       "    .dataframe tbody tr th {\n",
       "        vertical-align: top;\n",
       "    }\n",
       "\n",
       "    .dataframe thead th {\n",
       "        text-align: right;\n",
       "    }\n",
       "</style>\n",
       "<table border=\"1\" class=\"dataframe\">\n",
       "  <thead>\n",
       "    <tr style=\"text-align: right;\">\n",
       "      <th></th>\n",
       "      <th>USA_GDP</th>\n",
       "      <th>Unemployment</th>\n",
       "      <th>Months of Supply</th>\n",
       "      <th>Mortgage</th>\n",
       "      <th>Housing_Starts</th>\n",
       "      <th>Personal Consumption</th>\n",
       "      <th>Personal Income</th>\n",
       "      <th>Savings</th>\n",
       "      <th>Fed Funds Rate</th>\n",
       "      <th>Homes Sold</th>\n",
       "      <th>Homes for Sale</th>\n",
       "    </tr>\n",
       "    <tr>\n",
       "      <th>Period</th>\n",
       "      <th></th>\n",
       "      <th></th>\n",
       "      <th></th>\n",
       "      <th></th>\n",
       "      <th></th>\n",
       "      <th></th>\n",
       "      <th></th>\n",
       "      <th></th>\n",
       "      <th></th>\n",
       "      <th></th>\n",
       "      <th></th>\n",
       "    </tr>\n",
       "  </thead>\n",
       "  <tbody>\n",
       "    <tr>\n",
       "      <th>2000-01-01</th>\n",
       "      <td>101.52</td>\n",
       "      <td>4.0</td>\n",
       "      <td>4.3</td>\n",
       "      <td>8.21</td>\n",
       "      <td>1568</td>\n",
       "      <td>6542.9</td>\n",
       "      <td>9309.1</td>\n",
       "      <td>358.9</td>\n",
       "      <td>5.45</td>\n",
       "      <td>877</td>\n",
       "      <td>301</td>\n",
       "    </tr>\n",
       "    <tr>\n",
       "      <th>2000-02-01</th>\n",
       "      <td>101.58</td>\n",
       "      <td>4.1</td>\n",
       "      <td>4.3</td>\n",
       "      <td>8.32</td>\n",
       "      <td>1570</td>\n",
       "      <td>6625.3</td>\n",
       "      <td>9345.2</td>\n",
       "      <td>324.3</td>\n",
       "      <td>5.73</td>\n",
       "      <td>879</td>\n",
       "      <td>301</td>\n",
       "    </tr>\n",
       "    <tr>\n",
       "      <th>2000-03-01</th>\n",
       "      <td>101.66</td>\n",
       "      <td>4.0</td>\n",
       "      <td>4.3</td>\n",
       "      <td>8.24</td>\n",
       "      <td>1573</td>\n",
       "      <td>6686.5</td>\n",
       "      <td>9370.3</td>\n",
       "      <td>311.8</td>\n",
       "      <td>5.85</td>\n",
       "      <td>882</td>\n",
       "      <td>302</td>\n",
       "    </tr>\n",
       "  </tbody>\n",
       "</table>\n",
       "</div>"
      ],
      "text/plain": [
       "            USA_GDP  Unemployment  Months of Supply  Mortgage  Housing_Starts   \n",
       "Period                                                                          \n",
       "2000-01-01   101.52           4.0               4.3      8.21            1568  \\\n",
       "2000-02-01   101.58           4.1               4.3      8.32            1570   \n",
       "2000-03-01   101.66           4.0               4.3      8.24            1573   \n",
       "\n",
       "            Personal Consumption  Personal Income  Savings  Fed Funds Rate   \n",
       "Period                                                                       \n",
       "2000-01-01                6542.9           9309.1    358.9            5.45  \\\n",
       "2000-02-01                6625.3           9345.2    324.3            5.73   \n",
       "2000-03-01                6686.5           9370.3    311.8            5.85   \n",
       "\n",
       "            Homes Sold  Homes for Sale  \n",
       "Period                                  \n",
       "2000-01-01         877             301  \n",
       "2000-02-01         879             301  \n",
       "2000-03-01         882             302  "
      ]
     },
     "execution_count": 83,
     "metadata": {},
     "output_type": "execute_result"
    }
   ],
   "source": [
    "x.head(3)"
   ]
  },
  {
   "cell_type": "code",
   "execution_count": 84,
   "id": "f2f88024",
   "metadata": {},
   "outputs": [],
   "source": [
    "# 'y' Represents target variable for modeling\n",
    "\n",
    "y = y_monthly[['HPI']]"
   ]
  },
  {
   "cell_type": "code",
   "execution_count": 85,
   "id": "37b21fc2",
   "metadata": {},
   "outputs": [
    {
     "data": {
      "text/html": [
       "<div>\n",
       "<style scoped>\n",
       "    .dataframe tbody tr th:only-of-type {\n",
       "        vertical-align: middle;\n",
       "    }\n",
       "\n",
       "    .dataframe tbody tr th {\n",
       "        vertical-align: top;\n",
       "    }\n",
       "\n",
       "    .dataframe thead th {\n",
       "        text-align: right;\n",
       "    }\n",
       "</style>\n",
       "<table border=\"1\" class=\"dataframe\">\n",
       "  <thead>\n",
       "    <tr style=\"text-align: right;\">\n",
       "      <th></th>\n",
       "      <th>HPI</th>\n",
       "    </tr>\n",
       "    <tr>\n",
       "      <th>DATE</th>\n",
       "      <th></th>\n",
       "    </tr>\n",
       "  </thead>\n",
       "  <tbody>\n",
       "    <tr>\n",
       "      <th>2000-01-01</th>\n",
       "      <td>100.55</td>\n",
       "    </tr>\n",
       "    <tr>\n",
       "      <th>2000-02-01</th>\n",
       "      <td>101.34</td>\n",
       "    </tr>\n",
       "    <tr>\n",
       "      <th>2000-03-01</th>\n",
       "      <td>102.13</td>\n",
       "    </tr>\n",
       "  </tbody>\n",
       "</table>\n",
       "</div>"
      ],
      "text/plain": [
       "               HPI\n",
       "DATE              \n",
       "2000-01-01  100.55\n",
       "2000-02-01  101.34\n",
       "2000-03-01  102.13"
      ]
     },
     "execution_count": 85,
     "metadata": {},
     "output_type": "execute_result"
    }
   ],
   "source": [
    "y.head(3)"
   ]
  },
  {
   "cell_type": "code",
   "execution_count": 86,
   "id": "5ddae00a",
   "metadata": {},
   "outputs": [],
   "source": [
    "# Split the feature data 'x' and target variable 'y' into training and testing sets.\n",
    "\n",
    "X_train, X_test, y_train, y_test = train_test_split(x, y, test_size=0.3, shuffle=False, stratify=None)"
   ]
  },
  {
   "cell_type": "code",
   "execution_count": 87,
   "id": "2c63af76",
   "metadata": {},
   "outputs": [],
   "source": [
    "# Creating Linear Regression model instance\n",
    "\n",
    "model = LinearRegression()"
   ]
  },
  {
   "cell_type": "code",
   "execution_count": 88,
   "id": "1eece0c6",
   "metadata": {},
   "outputs": [
    {
     "data": {
      "text/html": [
       "<style>#sk-container-id-1 {color: black;}#sk-container-id-1 pre{padding: 0;}#sk-container-id-1 div.sk-toggleable {background-color: white;}#sk-container-id-1 label.sk-toggleable__label {cursor: pointer;display: block;width: 100%;margin-bottom: 0;padding: 0.3em;box-sizing: border-box;text-align: center;}#sk-container-id-1 label.sk-toggleable__label-arrow:before {content: \"▸\";float: left;margin-right: 0.25em;color: #696969;}#sk-container-id-1 label.sk-toggleable__label-arrow:hover:before {color: black;}#sk-container-id-1 div.sk-estimator:hover label.sk-toggleable__label-arrow:before {color: black;}#sk-container-id-1 div.sk-toggleable__content {max-height: 0;max-width: 0;overflow: hidden;text-align: left;background-color: #f0f8ff;}#sk-container-id-1 div.sk-toggleable__content pre {margin: 0.2em;color: black;border-radius: 0.25em;background-color: #f0f8ff;}#sk-container-id-1 input.sk-toggleable__control:checked~div.sk-toggleable__content {max-height: 200px;max-width: 100%;overflow: auto;}#sk-container-id-1 input.sk-toggleable__control:checked~label.sk-toggleable__label-arrow:before {content: \"▾\";}#sk-container-id-1 div.sk-estimator input.sk-toggleable__control:checked~label.sk-toggleable__label {background-color: #d4ebff;}#sk-container-id-1 div.sk-label input.sk-toggleable__control:checked~label.sk-toggleable__label {background-color: #d4ebff;}#sk-container-id-1 input.sk-hidden--visually {border: 0;clip: rect(1px 1px 1px 1px);clip: rect(1px, 1px, 1px, 1px);height: 1px;margin: -1px;overflow: hidden;padding: 0;position: absolute;width: 1px;}#sk-container-id-1 div.sk-estimator {font-family: monospace;background-color: #f0f8ff;border: 1px dotted black;border-radius: 0.25em;box-sizing: border-box;margin-bottom: 0.5em;}#sk-container-id-1 div.sk-estimator:hover {background-color: #d4ebff;}#sk-container-id-1 div.sk-parallel-item::after {content: \"\";width: 100%;border-bottom: 1px solid gray;flex-grow: 1;}#sk-container-id-1 div.sk-label:hover label.sk-toggleable__label {background-color: #d4ebff;}#sk-container-id-1 div.sk-serial::before {content: \"\";position: absolute;border-left: 1px solid gray;box-sizing: border-box;top: 0;bottom: 0;left: 50%;z-index: 0;}#sk-container-id-1 div.sk-serial {display: flex;flex-direction: column;align-items: center;background-color: white;padding-right: 0.2em;padding-left: 0.2em;position: relative;}#sk-container-id-1 div.sk-item {position: relative;z-index: 1;}#sk-container-id-1 div.sk-parallel {display: flex;align-items: stretch;justify-content: center;background-color: white;position: relative;}#sk-container-id-1 div.sk-item::before, #sk-container-id-1 div.sk-parallel-item::before {content: \"\";position: absolute;border-left: 1px solid gray;box-sizing: border-box;top: 0;bottom: 0;left: 50%;z-index: -1;}#sk-container-id-1 div.sk-parallel-item {display: flex;flex-direction: column;z-index: 1;position: relative;background-color: white;}#sk-container-id-1 div.sk-parallel-item:first-child::after {align-self: flex-end;width: 50%;}#sk-container-id-1 div.sk-parallel-item:last-child::after {align-self: flex-start;width: 50%;}#sk-container-id-1 div.sk-parallel-item:only-child::after {width: 0;}#sk-container-id-1 div.sk-dashed-wrapped {border: 1px dashed gray;margin: 0 0.4em 0.5em 0.4em;box-sizing: border-box;padding-bottom: 0.4em;background-color: white;}#sk-container-id-1 div.sk-label label {font-family: monospace;font-weight: bold;display: inline-block;line-height: 1.2em;}#sk-container-id-1 div.sk-label-container {text-align: center;}#sk-container-id-1 div.sk-container {/* jupyter's `normalize.less` sets `[hidden] { display: none; }` but bootstrap.min.css set `[hidden] { display: none !important; }` so we also need the `!important` here to be able to override the default hidden behavior on the sphinx rendered scikit-learn.org. See: https://github.com/scikit-learn/scikit-learn/issues/21755 */display: inline-block !important;position: relative;}#sk-container-id-1 div.sk-text-repr-fallback {display: none;}</style><div id=\"sk-container-id-1\" class=\"sk-top-container\"><div class=\"sk-text-repr-fallback\"><pre>LinearRegression()</pre><b>In a Jupyter environment, please rerun this cell to show the HTML representation or trust the notebook. <br />On GitHub, the HTML representation is unable to render, please try loading this page with nbviewer.org.</b></div><div class=\"sk-container\" hidden><div class=\"sk-item\"><div class=\"sk-estimator sk-toggleable\"><input class=\"sk-toggleable__control sk-hidden--visually\" id=\"sk-estimator-id-1\" type=\"checkbox\" checked><label for=\"sk-estimator-id-1\" class=\"sk-toggleable__label sk-toggleable__label-arrow\">LinearRegression</label><div class=\"sk-toggleable__content\"><pre>LinearRegression()</pre></div></div></div></div></div>"
      ],
      "text/plain": [
       "LinearRegression()"
      ]
     },
     "execution_count": 88,
     "metadata": {},
     "output_type": "execute_result"
    }
   ],
   "source": [
    "# Train the model using corresponding feature and target values\n",
    "\n",
    "model.fit(X_train, y_train)"
   ]
  },
  {
   "cell_type": "code",
   "execution_count": 89,
   "id": "3861c4c8",
   "metadata": {},
   "outputs": [],
   "source": [
    "# Make predictions on the test data 'X_test'\n",
    "\n",
    "y_predict = model.predict(X_test)"
   ]
  },
  {
   "cell_type": "code",
   "execution_count": 90,
   "id": "9bc29cf4",
   "metadata": {},
   "outputs": [
    {
     "data": {
      "text/plain": [
       "array([[165.28453247],\n",
       "       [165.22985996],\n",
       "       [166.10403159]])"
      ]
     },
     "execution_count": 90,
     "metadata": {},
     "output_type": "execute_result"
    }
   ],
   "source": [
    "y_predict[0:3]"
   ]
  },
  {
   "cell_type": "code",
   "execution_count": 91,
   "id": "675295ba",
   "metadata": {},
   "outputs": [
    {
     "name": "stdout",
     "output_type": "stream",
     "text": [
      "[[-1.23275554  1.07697972  1.13622129  0.94680826  0.00703515  0.01254401\n",
      "   0.00155432 -0.00690965  0.16672316 -0.03408859  0.20914769]]\n"
     ]
    }
   ],
   "source": [
    "#  Finding out the relationship between each feature and the target variable.\n",
    "\n",
    "print(model.coef_)"
   ]
  },
  {
   "cell_type": "code",
   "execution_count": 92,
   "id": "b96d225a",
   "metadata": {},
   "outputs": [
    {
     "name": "stdout",
     "output_type": "stream",
     "text": [
      "[70.32696808]\n"
     ]
    }
   ],
   "source": [
    "# Printing estimated values(intercepts) when all features are zero\n",
    "\n",
    "print(model.intercept_)"
   ]
  },
  {
   "cell_type": "code",
   "execution_count": 93,
   "id": "28e667ec",
   "metadata": {},
   "outputs": [
    {
     "name": "stdout",
     "output_type": "stream",
     "text": [
      "0.9957584047248025\n"
     ]
    }
   ],
   "source": [
    "print(model.score(X_train, y_train))"
   ]
  },
  {
   "cell_type": "code",
   "execution_count": 94,
   "id": "0eff90c9",
   "metadata": {},
   "outputs": [
    {
     "name": "stdout",
     "output_type": "stream",
     "text": [
      "0.7288678856123973\n"
     ]
    }
   ],
   "source": [
    "print(model.score(X_test, y_test))"
   ]
  },
  {
   "cell_type": "markdown",
   "id": "20de1a7e",
   "metadata": {},
   "source": [
    "##### **To assess the performance of the model, below evaluation metrics can be used**"
   ]
  },
  {
   "cell_type": "code",
   "execution_count": 95,
   "id": "7c3e4c3c",
   "metadata": {},
   "outputs": [
    {
     "name": "stdout",
     "output_type": "stream",
     "text": [
      "Mean Absolute Error: 5.583874341090686\n"
     ]
    }
   ],
   "source": [
    "print('Mean Absolute Error:', metrics.mean_absolute_error(y_test, y_predict))"
   ]
  },
  {
   "cell_type": "code",
   "execution_count": 96,
   "id": "fff02443",
   "metadata": {},
   "outputs": [
    {
     "name": "stdout",
     "output_type": "stream",
     "text": [
      "Mean Squared Error: 81.45361890306624\n"
     ]
    }
   ],
   "source": [
    "print('Mean Squared Error:', metrics.mean_squared_error(y_test, y_predict))"
   ]
  },
  {
   "cell_type": "code",
   "execution_count": 97,
   "id": "d40d8f37",
   "metadata": {},
   "outputs": [
    {
     "name": "stdout",
     "output_type": "stream",
     "text": [
      "Root Mean Squared Error: 9.025165865681707\n"
     ]
    }
   ],
   "source": [
    "import numpy as np\n",
    "\n",
    "print('Root Mean Squared Error:', np.sqrt(metrics.mean_squared_error(y_test, y_predict)))"
   ]
  },
  {
   "cell_type": "code",
   "execution_count": 98,
   "id": "e9bcfc2f",
   "metadata": {},
   "outputs": [
    {
     "name": "stdout",
     "output_type": "stream",
     "text": [
      "              HPI\n",
      "count   75.000000\n",
      "mean   193.426133\n",
      "std     17.449359\n",
      "min    165.220000\n",
      "25%    177.910000\n",
      "50%    193.770000\n",
      "75%    207.265000\n",
      "max    229.890000\n"
     ]
    }
   ],
   "source": [
    "print(y_test.describe())"
   ]
  },
  {
   "cell_type": "markdown",
   "id": "3c4c4370",
   "metadata": {},
   "source": [
    "### Observations :\n",
    "#### ***The Root Mean Squared error is less than 10% of the mean value of HPI, and lesser than the standard deviation of the HPI in the test data. This indicates the the model is doing good in predicting values.*** "
   ]
  },
  {
   "cell_type": "code",
   "execution_count": 99,
   "id": "2e2de2dd",
   "metadata": {},
   "outputs": [],
   "source": [
    "# Actual target values from y_test vs predicted values by the model\n",
    "\n",
    "result = pd.DataFrame({'Actual': y_test.squeeze(), 'Predicted': y_predict.squeeze()})"
   ]
  },
  {
   "cell_type": "code",
   "execution_count": 100,
   "id": "6882f00f",
   "metadata": {},
   "outputs": [
    {
     "data": {
      "text/html": [
       "<div>\n",
       "<style scoped>\n",
       "    .dataframe tbody tr th:only-of-type {\n",
       "        vertical-align: middle;\n",
       "    }\n",
       "\n",
       "    .dataframe tbody tr th {\n",
       "        vertical-align: top;\n",
       "    }\n",
       "\n",
       "    .dataframe thead th {\n",
       "        text-align: right;\n",
       "    }\n",
       "</style>\n",
       "<table border=\"1\" class=\"dataframe\">\n",
       "  <thead>\n",
       "    <tr style=\"text-align: right;\">\n",
       "      <th></th>\n",
       "      <th>Actual</th>\n",
       "      <th>Predicted</th>\n",
       "    </tr>\n",
       "    <tr>\n",
       "      <th>DATE</th>\n",
       "      <th></th>\n",
       "      <th></th>\n",
       "    </tr>\n",
       "  </thead>\n",
       "  <tbody>\n",
       "    <tr>\n",
       "      <th>2014-08-01</th>\n",
       "      <td>165.22</td>\n",
       "      <td>165.284532</td>\n",
       "    </tr>\n",
       "    <tr>\n",
       "      <th>2014-09-01</th>\n",
       "      <td>165.91</td>\n",
       "      <td>165.229860</td>\n",
       "    </tr>\n",
       "    <tr>\n",
       "      <th>2014-10-01</th>\n",
       "      <td>166.64</td>\n",
       "      <td>166.104032</td>\n",
       "    </tr>\n",
       "    <tr>\n",
       "      <th>2014-11-01</th>\n",
       "      <td>167.34</td>\n",
       "      <td>167.049523</td>\n",
       "    </tr>\n",
       "    <tr>\n",
       "      <th>2014-12-01</th>\n",
       "      <td>168.05</td>\n",
       "      <td>166.146533</td>\n",
       "    </tr>\n",
       "    <tr>\n",
       "      <th>2015-01-01</th>\n",
       "      <td>168.63</td>\n",
       "      <td>165.409781</td>\n",
       "    </tr>\n",
       "    <tr>\n",
       "      <th>2015-02-01</th>\n",
       "      <td>169.13</td>\n",
       "      <td>165.427707</td>\n",
       "    </tr>\n",
       "    <tr>\n",
       "      <th>2015-03-01</th>\n",
       "      <td>169.80</td>\n",
       "      <td>167.306740</td>\n",
       "    </tr>\n",
       "    <tr>\n",
       "      <th>2015-04-01</th>\n",
       "      <td>170.30</td>\n",
       "      <td>167.827106</td>\n",
       "    </tr>\n",
       "    <tr>\n",
       "      <th>2015-05-01</th>\n",
       "      <td>170.88</td>\n",
       "      <td>169.544739</td>\n",
       "    </tr>\n",
       "  </tbody>\n",
       "</table>\n",
       "</div>"
      ],
      "text/plain": [
       "            Actual   Predicted\n",
       "DATE                          \n",
       "2014-08-01  165.22  165.284532\n",
       "2014-09-01  165.91  165.229860\n",
       "2014-10-01  166.64  166.104032\n",
       "2014-11-01  167.34  167.049523\n",
       "2014-12-01  168.05  166.146533\n",
       "2015-01-01  168.63  165.409781\n",
       "2015-02-01  169.13  165.427707\n",
       "2015-03-01  169.80  167.306740\n",
       "2015-04-01  170.30  167.827106\n",
       "2015-05-01  170.88  169.544739"
      ]
     },
     "execution_count": 100,
     "metadata": {},
     "output_type": "execute_result"
    }
   ],
   "source": [
    "result.head(10)"
   ]
  },
  {
   "cell_type": "markdown",
   "id": "67ca7345",
   "metadata": {},
   "source": [
    "### *To check the assumptions and performance of a linear regression model, we can use different types of \"Residual Plots\".*"
   ]
  },
  {
   "cell_type": "code",
   "execution_count": 101,
   "id": "e5a0e9ac",
   "metadata": {},
   "outputs": [],
   "source": [
    "# Difference between predicted and actual values\n",
    "\n",
    "residuals = y_test-y_predict"
   ]
  },
  {
   "cell_type": "markdown",
   "id": "69de6e6a",
   "metadata": {},
   "source": [
    "***Scatterplot of Residuals vs. Predicted Values:***"
   ]
  },
  {
   "cell_type": "code",
   "execution_count": 102,
   "id": "a95b2630",
   "metadata": {},
   "outputs": [
    {
     "data": {
      "image/png": "[encoded data removed]",
      "text/plain": [
       "<Figure size 640x480 with 1 Axes>"
      ]
     },
     "metadata": {},
     "output_type": "display_data"
    }
   ],
   "source": [
    "import matplotlib.pyplot as plt\n",
    "\n",
    "plt.scatter(y_predict, residuals)\n",
    "plt.xlabel(\"Predicted Values\")\n",
    "plt.ylabel(\"Residuals\")\n",
    "plt.axhline(y=0, color='r', linestyle='--')\n",
    "plt.title(\"Residuals vs. Predicted Values\")\n",
    "plt.show()"
   ]
  },
  {
   "cell_type": "markdown",
   "id": "4c0bb846",
   "metadata": {},
   "source": [
    "***Histogram or Density Plot of Residuals:***"
   ]
  },
  {
   "cell_type": "code",
   "execution_count": 103,
   "id": "e50b91d5",
   "metadata": {},
   "outputs": [
    {
     "data": {
      "image/png": "[encoded data removed]",
      "text/plain": [
       "<Figure size 640x480 with 1 Axes>"
      ]
     },
     "metadata": {},
     "output_type": "display_data"
    }
   ],
   "source": [
    "import seaborn as sns\n",
    "\n",
    "sns.histplot(residuals, kde=True)\n",
    "plt.xlabel(\"Residuals\")\n",
    "plt.ylabel(\"Density\")\n",
    "plt.title(\"Residual Distribution\")\n",
    "plt.show()"
   ]
  },
  {
   "cell_type": "markdown",
   "id": "6eb5cfd4",
   "metadata": {},
   "source": [
    "***QQ Plot (Quantile-Quantile Plot):***"
   ]
  },
  {
   "cell_type": "code",
   "execution_count": 104,
   "id": "7fc9a829",
   "metadata": {},
   "outputs": [
    {
     "name": "stdout",
     "output_type": "stream",
     "text": [
      "Requirement already satisfied: statsmodels in c:\\users\\pavan\\appdata\\local\\programs\\python\\python311\\lib\\site-packages (0.14.0)\n",
      "Requirement already satisfied: numpy>=1.18 in c:\\users\\pavan\\appdata\\local\\programs\\python\\python311\\lib\\site-packages (from statsmodels) (1.24.3)\n",
      "Requirement already satisfied: scipy!=1.9.2,>=1.4 in c:\\users\\pavan\\appdata\\local\\programs\\python\\python311\\lib\\site-packages (from statsmodels) (1.11.1)\n",
      "Requirement already satisfied: pandas>=1.0 in c:\\users\\pavan\\appdata\\local\\programs\\python\\python311\\lib\\site-packages (from statsmodels) (2.0.1)\n",
      "Requirement already satisfied: patsy>=0.5.2 in c:\\users\\pavan\\appdata\\local\\programs\\python\\python311\\lib\\site-packages (from statsmodels) (0.5.3)\n",
      "Requirement already satisfied: packaging>=21.3 in c:\\users\\pavan\\appdata\\local\\programs\\python\\python311\\lib\\site-packages (from statsmodels) (23.1)\n",
      "Requirement already satisfied: python-dateutil>=2.8.2 in c:\\users\\pavan\\appdata\\local\\programs\\python\\python311\\lib\\site-packages (from pandas>=1.0->statsmodels) (2.8.2)\n",
      "Requirement already satisfied: pytz>=2020.1 in c:\\users\\pavan\\appdata\\local\\programs\\python\\python311\\lib\\site-packages (from pandas>=1.0->statsmodels) (2023.3)\n",
      "Requirement already satisfied: tzdata>=2022.1 in c:\\users\\pavan\\appdata\\local\\programs\\python\\python311\\lib\\site-packages (from pandas>=1.0->statsmodels) (2023.3)\n",
      "Requirement already satisfied: six in c:\\users\\pavan\\appdata\\local\\programs\\python\\python311\\lib\\site-packages (from patsy>=0.5.2->statsmodels) (1.16.0)\n"
     ]
    },
    {
     "name": "stderr",
     "output_type": "stream",
     "text": [
      "\n",
      "[notice] A new release of pip available: 22.3.1 -> 23.2.1\n",
      "[notice] To update, run: python.exe -m pip install --upgrade pip\n"
     ]
    }
   ],
   "source": [
    "!pip install statsmodels"
   ]
  },
  {
   "cell_type": "code",
   "execution_count": 105,
   "id": "8337f648",
   "metadata": {},
   "outputs": [
    {
     "data": {
      "image/png": "[encoded data removed]",
      "text/plain": [
       "<Figure size 640x480 with 1 Axes>"
      ]
     },
     "metadata": {},
     "output_type": "display_data"
    }
   ],
   "source": [
    "import statsmodels.api as sm\n",
    "import scipy.stats as stats\n",
    "\n",
    "sm.qqplot(residuals, stats.t, fit=True, line='45')\n",
    "plt.xlabel(\"Theoretical Quantiles\")\n",
    "plt.ylabel(\"Sample Quantiles\")\n",
    "plt.title(\"QQ Plot of Residuals\")\n",
    "plt.show()"
   ]
  },
  {
   "cell_type": "code",
   "execution_count": null,
   "id": "8f4c628a",
   "metadata": {},
   "outputs": [],
   "source": []
  }
 ],
 "metadata": {
  "kernelspec": {
   "display_name": "Python 3 (ipykernel)",
   "language": "python",
   "name": "python3"
  },
  "language_info": {
   "codemirror_mode": {
    "name": "ipython",
    "version": 3
   },
   "file_extension": ".py",
   "mimetype": "text/x-python",
   "name": "python",
   "nbconvert_exporter": "python",
   "pygments_lexer": "ipython3",
   "version": "3.11.3"
  }
 },
 "nbformat": 4,
 "nbformat_minor": 5
}
